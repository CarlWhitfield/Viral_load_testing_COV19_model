{
 "cells": [
  {
   "cell_type": "markdown",
   "metadata": {},
   "source": [
    "# Summary: \n",
    "\n",
    "The functions in this package are intended to represent the \n",
    "stochastic dynamics of viral load, infectivitiy, and test positivity\n",
    "in SARS-CoV-2 infections. Currently, these are parameterised using data from \n",
    "Kissler 2020 (DOI: 10.1101/2020.10.21.20217042). \n",
    "\n",
    "The parameter estimates still contain significant uncertainty ,and do\n",
    "not account for differences due to new variants or vaccines."
   ]
  },
  {
   "cell_type": "code",
   "execution_count": 1,
   "metadata": {},
   "outputs": [
    {
     "data": {
      "text/plain": [
       "plot_infection_profiles"
      ]
     },
     "execution_count": 1,
     "metadata": {},
     "output_type": "execute_result"
    }
   ],
   "source": [
    "include(\"src/viral_load_infectivity_testpos.jl\")"
   ]
  },
  {
   "cell_type": "markdown",
   "metadata": {},
   "source": [
    "# Main Functions"
   ]
  },
  {
   "cell_type": "code",
   "execution_count": 2,
   "metadata": {},
   "outputs": [
    {
     "data": {
      "text/latex": [
       "\\begin{verbatim}\n",
       "init_VL_and_infectiousness(Ntot::Int, Pisol::Float64)\n",
       "\\end{verbatim}\n",
       "Randomly generate all viral load and infectivity data for a simulation\n",
       "\n",
       "\\subsection{Arguments:}\n",
       "\\texttt{Ntot} = Number of individuals to simulate \\texttt{Pisol} = Probability of self-isolation at symptom onset\n",
       "\n",
       "\\subsection{Returns:}\n",
       "\\texttt{Dict} = Container with generated parameters including:\n",
       "\n",
       "\\begin{verbatim}\n",
       "    \"Ntot\" => `Int` = Number of individuals in simulation (indexed 1:Ntot)\n",
       "\n",
       "    \"symp_time\" => `Array{Float64,1}` = Symptom onset time for each individual\n",
       "\n",
       "    \"asymptomatic\" => `Array{Bool,1}` = Asymptomatic status for each individual\n",
       "\n",
       "    \"isolation_time\" => `Array{Int64,1}` = Day of isolation for each individual \n",
       "                                       (to be filled later)\n",
       "\n",
       "     \"will_isolate\" => `Array{Bool,1}` = Indicator of whether an individual will\n",
       "                                     isolate at symptom onset time\n",
       "    \n",
       "     \"VL_mag\" => `Array{Float64,1}` = Peak viral load for each individual\n",
       "\n",
       "     \"inf_mag\" => `Array{Float64,1}` = Peak infectivity for each individual\n",
       "\n",
       "     \"infection_profiles\" => `Array{Array{Float64,1},1}` = infectivity for each day\n",
       "                        since infection, for each individual\n",
       "\n",
       "     \"VL_profiles\" => `Array{Array{Float64,1},1}` = viral load for each day\n",
       "                        since infection, for each individual\n",
       "\n",
       "     \"days_infectious\" => `Array{Int64,1}` = Number of days spent with infectivity\n",
       "                                           > 0 for each individual\n",
       "\n",
       "      \"symp_day\" => `Array{Int64,1}` = Day at which individuals would isolate due to\n",
       "                                     symptom onset\n",
       "\n",
       "      \"non_isolators\" => `Array{Int64,1}` = Array of indices ofindividuals who would \n",
       "                                      refuse to isolate if they developed symptoms\n",
       "\\end{verbatim}\n"
      ],
      "text/markdown": [
       "```\n",
       "init_VL_and_infectiousness(Ntot::Int, Pisol::Float64)\n",
       "```\n",
       "\n",
       "Randomly generate all viral load and infectivity data for a simulation\n",
       "\n",
       "## Arguments:\n",
       "\n",
       "`Ntot` = Number of individuals to simulate `Pisol` = Probability of self-isolation at symptom onset\n",
       "\n",
       "## Returns:\n",
       "\n",
       "`Dict` = Container with generated parameters including:\n",
       "\n",
       "```\n",
       "    \"Ntot\" => `Int` = Number of individuals in simulation (indexed 1:Ntot)\n",
       "\n",
       "    \"symp_time\" => `Array{Float64,1}` = Symptom onset time for each individual\n",
       "\n",
       "    \"asymptomatic\" => `Array{Bool,1}` = Asymptomatic status for each individual\n",
       "\n",
       "    \"isolation_time\" => `Array{Int64,1}` = Day of isolation for each individual \n",
       "                                       (to be filled later)\n",
       "\n",
       "     \"will_isolate\" => `Array{Bool,1}` = Indicator of whether an individual will\n",
       "                                     isolate at symptom onset time\n",
       "    \n",
       "     \"VL_mag\" => `Array{Float64,1}` = Peak viral load for each individual\n",
       "\n",
       "     \"inf_mag\" => `Array{Float64,1}` = Peak infectivity for each individual\n",
       "\n",
       "     \"infection_profiles\" => `Array{Array{Float64,1},1}` = infectivity for each day\n",
       "                        since infection, for each individual\n",
       "\n",
       "     \"VL_profiles\" => `Array{Array{Float64,1},1}` = viral load for each day\n",
       "                        since infection, for each individual\n",
       "\n",
       "     \"days_infectious\" => `Array{Int64,1}` = Number of days spent with infectivity\n",
       "                                           > 0 for each individual\n",
       "\n",
       "      \"symp_day\" => `Array{Int64,1}` = Day at which individuals would isolate due to\n",
       "                                     symptom onset\n",
       "\n",
       "      \"non_isolators\" => `Array{Int64,1}` = Array of indices ofindividuals who would \n",
       "                                      refuse to isolate if they developed symptoms\n",
       "```\n"
      ],
      "text/plain": [
       "\u001b[36m  init_VL_and_infectiousness(Ntot::Int, Pisol::Float64)\u001b[39m\n",
       "\n",
       "  Randomly generate all viral load and infectivity data for a simulation\n",
       "\n",
       "\u001b[1m  Arguments:\u001b[22m\n",
       "\u001b[1m  ============\u001b[22m\n",
       "\n",
       "  \u001b[36mNtot\u001b[39m = Number of individuals to simulate \u001b[36mPisol\u001b[39m = Probability of\n",
       "  self-isolation at symptom onset\n",
       "\n",
       "\u001b[1m  Returns:\u001b[22m\n",
       "\u001b[1m  ==========\u001b[22m\n",
       "\n",
       "  \u001b[36mDict\u001b[39m = Container with generated parameters including:\n",
       "\n",
       "\u001b[36m      \"Ntot\" => `Int` = Number of individuals in simulation (indexed 1:Ntot)\u001b[39m\n",
       "\u001b[36m  \u001b[39m\n",
       "\u001b[36m      \"symp_time\" => `Array{Float64,1}` = Symptom onset time for each individual\u001b[39m\n",
       "\u001b[36m  \u001b[39m\n",
       "\u001b[36m      \"asymptomatic\" => `Array{Bool,1}` = Asymptomatic status for each individual\u001b[39m\n",
       "\u001b[36m  \u001b[39m\n",
       "\u001b[36m      \"isolation_time\" => `Array{Int64,1}` = Day of isolation for each individual \u001b[39m\n",
       "\u001b[36m                                         (to be filled later)\u001b[39m\n",
       "\u001b[36m  \u001b[39m\n",
       "\u001b[36m       \"will_isolate\" => `Array{Bool,1}` = Indicator of whether an individual will\u001b[39m\n",
       "\u001b[36m                                       isolate at symptom onset time\u001b[39m\n",
       "\u001b[36m      \u001b[39m\n",
       "\u001b[36m       \"VL_mag\" => `Array{Float64,1}` = Peak viral load for each individual\u001b[39m\n",
       "\u001b[36m  \u001b[39m\n",
       "\u001b[36m       \"inf_mag\" => `Array{Float64,1}` = Peak infectivity for each individual\u001b[39m\n",
       "\u001b[36m  \u001b[39m\n",
       "\u001b[36m       \"infection_profiles\" => `Array{Array{Float64,1},1}` = infectivity for each day\u001b[39m\n",
       "\u001b[36m                          since infection, for each individual\u001b[39m\n",
       "\u001b[36m  \u001b[39m\n",
       "\u001b[36m       \"VL_profiles\" => `Array{Array{Float64,1},1}` = viral load for each day\u001b[39m\n",
       "\u001b[36m                          since infection, for each individual\u001b[39m\n",
       "\u001b[36m  \u001b[39m\n",
       "\u001b[36m       \"days_infectious\" => `Array{Int64,1}` = Number of days spent with infectivity\u001b[39m\n",
       "\u001b[36m                                             > 0 for each individual\u001b[39m\n",
       "\u001b[36m  \u001b[39m\n",
       "\u001b[36m        \"symp_day\" => `Array{Int64,1}` = Day at which individuals would isolate due to\u001b[39m\n",
       "\u001b[36m                                       symptom onset\u001b[39m\n",
       "\u001b[36m  \u001b[39m\n",
       "\u001b[36m        \"non_isolators\" => `Array{Int64,1}` = Array of indices ofindividuals who would \u001b[39m\n",
       "\u001b[36m                                        refuse to isolate if they developed symptoms\u001b[39m"
      ]
     },
     "execution_count": 2,
     "metadata": {},
     "output_type": "execute_result"
    }
   ],
   "source": [
    "@doc(init_VL_and_infectiousness)"
   ]
  },
  {
   "cell_type": "code",
   "execution_count": 3,
   "metadata": {},
   "outputs": [
    {
     "data": {
      "text/latex": [
       "\\begin{verbatim}\n",
       "init_testing!(sim::Dict, testing_params::Dict, i_day::Int, Ndays::Int)\n",
       "\\end{verbatim}\n",
       "Function to initialise test positive profiles and test isolation probabilities\n",
       "\n",
       "\\subsection{Arguments:}\n",
       "\\texttt{sim} = Dict generated by \\texttt{init\\_VL\\_and\\_infectiousness(Ntot::Int, Pisol::Float64)}\n",
       "\n",
       "\\texttt{testing\\_params} = Dict containing testing options, must have:\n",
       "\n",
       "\\begin{verbatim}\n",
       "\"new_comply_prob\" => `Float` = Probability that people who would not comply\n",
       "                   with symptom onset isolation, will comply with testing isolation\n",
       "\n",
       "\"tperiod\" => `Int` = Days between repeat tests\n",
       "\n",
       "\"protocol\" => `String` = Current available options are given by the parameters\n",
       "                        `PCR_mass_protocol` and `LFD_mass_protocol`\n",
       "\\end{verbatim}\n",
       "\\texttt{i\\_day} = Day to start simulation on (counting from 1)\n",
       "\n",
       "\\texttt{Ndays} = Total number of days to simulate (counting from 1)\n",
       "\n",
       "\\subsection{Returns:}\n",
       "\\texttt{Array\\{Int64,1\\}} = Days when testing will occur\n",
       "\n",
       "\\texttt{Int64} = Next testing day index (from \\texttt{i\\_day})\n",
       "\n",
       "\\subsection{See also:}\n",
       "\\texttt{init\\_VL\\_and\\_infectiousness(Ntot::Int, Pisol::Float64)}\n",
       "\n"
      ],
      "text/markdown": [
       "```\n",
       "init_testing!(sim::Dict, testing_params::Dict, i_day::Int, Ndays::Int)\n",
       "```\n",
       "\n",
       "Function to initialise test positive profiles and test isolation probabilities\n",
       "\n",
       "## Arguments:\n",
       "\n",
       "`sim` = Dict generated by `init_VL_and_infectiousness(Ntot::Int, Pisol::Float64)`\n",
       "\n",
       "`testing_params` = Dict containing testing options, must have:\n",
       "\n",
       "```\n",
       "\"new_comply_prob\" => `Float` = Probability that people who would not comply\n",
       "                   with symptom onset isolation, will comply with testing isolation\n",
       "\n",
       "\"tperiod\" => `Int` = Days between repeat tests\n",
       "\n",
       "\"protocol\" => `String` = Current available options are given by the parameters\n",
       "                        `PCR_mass_protocol` and `LFD_mass_protocol`\n",
       "```\n",
       "\n",
       "`i_day` = Day to start simulation on (counting from 1)\n",
       "\n",
       "`Ndays` = Total number of days to simulate (counting from 1)\n",
       "\n",
       "## Returns:\n",
       "\n",
       "`Array{Int64,1}` = Days when testing will occur\n",
       "\n",
       "`Int64` = Next testing day index (from `i_day`)\n",
       "\n",
       "## See also:\n",
       "\n",
       "`init_VL_and_infectiousness(Ntot::Int, Pisol::Float64)`\n"
      ],
      "text/plain": [
       "\u001b[36m  init_testing!(sim::Dict, testing_params::Dict, i_day::Int, Ndays::Int)\u001b[39m\n",
       "\n",
       "  Function to initialise test positive profiles and test isolation\n",
       "  probabilities\n",
       "\n",
       "\u001b[1m  Arguments:\u001b[22m\n",
       "\u001b[1m  ============\u001b[22m\n",
       "\n",
       "  \u001b[36msim\u001b[39m = Dict generated by \u001b[36minit_VL_and_infectiousness(Ntot::Int,\n",
       "  Pisol::Float64)\u001b[39m\n",
       "\n",
       "  \u001b[36mtesting_params\u001b[39m = Dict containing testing options, must have:\n",
       "\n",
       "\u001b[36m  \"new_comply_prob\" => `Float` = Probability that people who would not comply\u001b[39m\n",
       "\u001b[36m                     with symptom onset isolation, will comply with testing isolation\u001b[39m\n",
       "\u001b[36m  \u001b[39m\n",
       "\u001b[36m  \"tperiod\" => `Int` = Days between repeat tests\u001b[39m\n",
       "\u001b[36m  \u001b[39m\n",
       "\u001b[36m  \"protocol\" => `String` = Current available options are given by the parameters\u001b[39m\n",
       "\u001b[36m                          `PCR_mass_protocol` and `LFD_mass_protocol`\u001b[39m\n",
       "\n",
       "  \u001b[36mi_day\u001b[39m = Day to start simulation on (counting from 1)\n",
       "\n",
       "  \u001b[36mNdays\u001b[39m = Total number of days to simulate (counting from 1)\n",
       "\n",
       "\u001b[1m  Returns:\u001b[22m\n",
       "\u001b[1m  ==========\u001b[22m\n",
       "\n",
       "  \u001b[36mArray{Int64,1}\u001b[39m = Days when testing will occur\n",
       "\n",
       "  \u001b[36mInt64\u001b[39m = Next testing day index (from \u001b[36mi_day\u001b[39m)\n",
       "\n",
       "\u001b[1m  See also:\u001b[22m\n",
       "\u001b[1m  ===========\u001b[22m\n",
       "\n",
       "  \u001b[36minit_VL_and_infectiousness(Ntot::Int, Pisol::Float64)\u001b[39m"
      ]
     },
     "execution_count": 3,
     "metadata": {},
     "output_type": "execute_result"
    }
   ],
   "source": [
    "@doc(init_testing!)"
   ]
  },
  {
   "cell_type": "markdown",
   "metadata": {},
   "source": [
    "# Example usage:\n",
    "\n",
    "Generate a new simulation with 50 individuals and probability 0.8 that they self-isolate if they develop symptoms"
   ]
  },
  {
   "cell_type": "code",
   "execution_count": 4,
   "metadata": {},
   "outputs": [
    {
     "data": {
      "text/plain": [
       "Dict{String,Any} with 12 entries:\n",
       "  \"will_isolate\"       => Bool[1, 1, 0, 1, 1, 0, 0, 0, 1, 0  …  0, 0, 1, 1, 1, …\n",
       "  \"inf_mag\"            => [0.0, 0.0, 0.0, 0.0, 0.0, 0.0, 0.0, 0.0, 0.0, 0.0  … …\n",
       "  \"isolation_time\"     => [0, 0, 0, 0, 0, 0, 0, 0, 0, 0  …  0, 0, 0, 0, 0, 0, 0…\n",
       "  \"symp_time\"          => [4.44253, 2.52981, 3.9215, 6.60052, 7.05931, 2.99041,…\n",
       "  \"VL_mag\"             => [6.17346, 6.75433, 5.84632, 7.75101, 6.95849, 5.37188…\n",
       "  \"Ntot\"               => 50\n",
       "  \"asymptomatic\"       => Bool[0, 0, 1, 0, 0, 1, 1, 1, 0, 1  …  1, 1, 0, 0, 0, …\n",
       "  \"VL_profiles\"        => [[2.37239, 4.1167, 5.861, 6.04166, 5.88111, 5.72055, …\n",
       "  \"infection_profiles\" => [[0.0, 0.0, 2.98271, 2.46562, 0.0], [0.0, 2.54011, 1.…\n",
       "  \"non_isolators\"      => [8, 10, 17, 21, 30, 34, 37, 42]\n",
       "  \"symp_day\"           => [4, 3, 5, 8, 8, 4, 6, 5, 6, 5  …  5, 8, 13, 3, 10, 6,…\n",
       "  \"days_infectious\"    => [0, 0, 0, 0, 0, 0, 0, 0, 0, 0  …  0, 0, 0, 0, 0, 0, 0…"
      ]
     },
     "execution_count": 4,
     "metadata": {},
     "output_type": "execute_result"
    }
   ],
   "source": [
    "sim = init_VL_and_infectiousness(50, 0.8)"
   ]
  },
  {
   "cell_type": "markdown",
   "metadata": {},
   "source": [
    "Initialise repeat mass LFD testing every 3 days\n",
    "\n",
    "Assume 50% of people who would have ignored symptoms will isolate with a test (new_comply_prob)\n",
    "\n",
    "Calling `init_testing!` will add \"test_pos_profiles\" and \"will_isolate_with_test\" fields to sim"
   ]
  },
  {
   "cell_type": "code",
   "execution_count": 5,
   "metadata": {},
   "outputs": [
    {
     "data": {
      "text/plain": [
       "Dict{String,Any} with 14 entries:\n",
       "  \"will_isolate\"           => Bool[1, 1, 0, 1, 1, 0, 0, 0, 1, 0  …  0, 0, 1, 1,…\n",
       "  \"inf_mag\"                => [0.0, 0.0, 0.0, 0.0, 0.0, 0.0, 0.0, 0.0, 0.0, 0.0…\n",
       "  \"isolation_time\"         => [0, 0, 0, 0, 0, 0, 0, 0, 0, 0  …  0, 0, 0, 0, 0, …\n",
       "  \"will_isolate_with_test\" => Bool[1, 1, 1, 1, 1, 1, 1, 1, 1, 0  …  1, 0, 1, 1,…\n",
       "  \"symp_time\"              => [4.44253, 2.52981, 3.9215, 6.60052, 7.05931, 2.99…\n",
       "  \"VL_mag\"                 => [6.17346, 6.75433, 5.84632, 7.75101, 6.95849, 5.3…\n",
       "  \"Ntot\"                   => 50\n",
       "  \"asymptomatic\"           => Bool[0, 0, 1, 0, 0, 1, 1, 1, 0, 1  …  1, 1, 0, 0,…\n",
       "  \"VL_profiles\"            => [[2.37239, 4.1167, 5.861, 6.04166, 5.88111, 5.720…\n",
       "  \"infection_profiles\"     => [[0.0, 0.0, 2.98271, 2.46562, 0.0], [0.0, 2.54011…\n",
       "  \"non_isolators\"          => [8, 10, 17, 21, 30, 34, 37, 42]\n",
       "  \"symp_day\"               => [4, 3, 5, 8, 8, 4, 6, 5, 6, 5  …  5, 8, 13, 3, 10…\n",
       "  \"test_pos_profiles\"      => [[2.82566e-6, 0.43349, 0.75, 0.75, 0.75, 0.749997…\n",
       "  \"days_infectious\"        => [0, 0, 0, 0, 0, 0, 0, 0, 0, 0  …  0, 0, 0, 0, 0, …"
      ]
     },
     "execution_count": 5,
     "metadata": {},
     "output_type": "execute_result"
    }
   ],
   "source": [
    "test_params = Dict(\"new_comply_prob\"=>0.5, \"tperiod\"=>3, \"protocol\"=>LFD_mass_protocol) \n",
    "i_day = 1    #everyone is infected on day 1\n",
    "Ndays = 20    #stop after 20 days\n",
    "test_days, test_counter = init_testing!(sim, test_params, i_day, Ndays)\n",
    "sim"
   ]
  },
  {
   "cell_type": "markdown",
   "metadata": {},
   "source": [
    "Now `test_days` contains a randomly generated a test pattern with 3 day intervals, and `test_counter` tells us which test day is next, based on the value of `i_day`\n",
    "\n",
    "We can use this to estimate how much a person's infectiousness is reduced by symptom isolation and test isolation\n",
    "by assuming that it drops to 0 when isolated."
   ]
  },
  {
   "cell_type": "code",
   "execution_count": 29,
   "metadata": {},
   "outputs": [],
   "source": [
    "isolation_period = 10 \n",
    "sim[\"isolation_time\"] = zeros(Int64,sim[\"Ntot\"])\n",
    "sim[\"infection_profiles_without_testing\"]  = copy(sim[\"infection_profiles\"])\n",
    "for n in 1:sim[\"Ntot\"]\n",
    "    sim[\"infection_profiles_without_testing\"][n] = copy(sim[\"infection_profiles\"][n])\n",
    "    for i in i_day:Ndays\n",
    "        if (sim[\"isolation_time\"][n] == 0) || (i > sim[\"isolation_time\"][n] + isolation_period)\n",
    "            if (sim[\"will_isolate\"][n]) && (i == sim[\"symp_day\"][n]+1)\n",
    "                last_day = min(i + isolation_period,length(sim[\"infection_profiles_without_testing\"][n]))\n",
    "                sim[\"infection_profiles_without_testing\"][n][i:last_day] .= 0\n",
    "                sim[\"isolation_time\"][n] = i\n",
    "            end\n",
    "        end\n",
    "    end\n",
    "end\n",
    "\n",
    "sim[\"isolation_time\"] = zeros(Int64,sim[\"Ntot\"])\n",
    "sim[\"infection_profiles_with_testing\"] = copy(sim[\"infection_profiles\"])\n",
    "for n in 1:sim[\"Ntot\"]\n",
    "    sim[\"infection_profiles_with_testing\"][n] = copy(sim[\"infection_profiles\"][n])\n",
    "    td = test_counter\n",
    "    for i in i_day:Ndays\n",
    "        if (sim[\"isolation_time\"][n] == 0) || (i > sim[\"isolation_time\"][n] + isolation_period)\n",
    "            if (sim[\"will_isolate\"][n]) && (i == sim[\"symp_day\"][n]+1)\n",
    "                last_day = min(i + isolation_period,length(sim[\"infection_profiles_without_testing\"][n]))\n",
    "                sim[\"infection_profiles_with_testing\"][n][i:last_day] .= 0\n",
    "                sim[\"isolation_time\"][n] = i\n",
    "            elseif i == test_days[td] \n",
    "                if i < length(sim[\"test_pos_profiles\"][n]) && rand() < sim[\"test_pos_profiles\"][n][i+1]\n",
    "                    last_day = min(i + isolation_period,length(sim[\"infection_profiles_with_testing\"][n]))\n",
    "                    sim[\"infection_profiles_with_testing\"][n][(i+1):last_day] .= 0\n",
    "                    sim[\"isolation_time\"][n] = i\n",
    "                end\n",
    "                td += 1\n",
    "            end\n",
    "        end\n",
    "    end\n",
    "end"
   ]
  },
  {
   "cell_type": "markdown",
   "metadata": {},
   "source": [
    "Plot random person's trajectory"
   ]
  },
  {
   "cell_type": "code",
   "execution_count": 34,
   "metadata": {},
   "outputs": [
    {
     "data": {
      "image/svg+xml": [
       "<?xml version=\"1.0\" encoding=\"utf-8\"?>\n",
       "<svg xmlns=\"http://www.w3.org/2000/svg\" xmlns:xlink=\"http://www.w3.org/1999/xlink\" width=\"600\" height=\"400\" viewBox=\"0 0 2400 1600\">\n",
       "<defs>\n",
       "  <clipPath id=\"clip880\">\n",
       "    <rect x=\"0\" y=\"0\" width=\"2400\" height=\"1600\"/>\n",
       "  </clipPath>\n",
       "</defs>\n",
       "<path clip-path=\"url(#clip880)\" d=\"\n",
       "M0 1600 L2400 1600 L2400 0 L0 0  Z\n",
       "  \" fill=\"#ffffff\" fill-rule=\"evenodd\" fill-opacity=\"1\"/>\n",
       "<defs>\n",
       "  <clipPath id=\"clip881\">\n",
       "    <rect x=\"480\" y=\"0\" width=\"1681\" height=\"1600\"/>\n",
       "  </clipPath>\n",
       "</defs>\n",
       "<path clip-path=\"url(#clip880)\" d=\"\n",
       "M112.177 1486.45 L2352.76 1486.45 L2352.76 47.2441 L112.177 47.2441  Z\n",
       "  \" fill=\"#ffffff\" fill-rule=\"evenodd\" fill-opacity=\"1\"/>\n",
       "<defs>\n",
       "  <clipPath id=\"clip882\">\n",
       "    <rect x=\"112\" y=\"47\" width=\"2242\" height=\"1440\"/>\n",
       "  </clipPath>\n",
       "</defs>\n",
       "<polyline clip-path=\"url(#clip882)\" style=\"stroke:#000000; stroke-width:2; stroke-opacity:0.1; fill:none\" points=\"\n",
       "  439.809,1486.45 439.809,47.2441 \n",
       "  \"/>\n",
       "<polyline clip-path=\"url(#clip882)\" style=\"stroke:#000000; stroke-width:2; stroke-opacity:0.1; fill:none\" points=\"\n",
       "  836.138,1486.45 836.138,47.2441 \n",
       "  \"/>\n",
       "<polyline clip-path=\"url(#clip882)\" style=\"stroke:#000000; stroke-width:2; stroke-opacity:0.1; fill:none\" points=\"\n",
       "  1232.47,1486.45 1232.47,47.2441 \n",
       "  \"/>\n",
       "<polyline clip-path=\"url(#clip882)\" style=\"stroke:#000000; stroke-width:2; stroke-opacity:0.1; fill:none\" points=\"\n",
       "  1628.8,1486.45 1628.8,47.2441 \n",
       "  \"/>\n",
       "<polyline clip-path=\"url(#clip882)\" style=\"stroke:#000000; stroke-width:2; stroke-opacity:0.1; fill:none\" points=\"\n",
       "  2025.12,1486.45 2025.12,47.2441 \n",
       "  \"/>\n",
       "<polyline clip-path=\"url(#clip880)\" style=\"stroke:#000000; stroke-width:4; stroke-opacity:1; fill:none\" points=\"\n",
       "  112.177,1486.45 2352.76,1486.45 \n",
       "  \"/>\n",
       "<polyline clip-path=\"url(#clip880)\" style=\"stroke:#000000; stroke-width:4; stroke-opacity:1; fill:none\" points=\"\n",
       "  439.809,1486.45 439.809,1469.18 \n",
       "  \"/>\n",
       "<polyline clip-path=\"url(#clip880)\" style=\"stroke:#000000; stroke-width:4; stroke-opacity:1; fill:none\" points=\"\n",
       "  836.138,1486.45 836.138,1469.18 \n",
       "  \"/>\n",
       "<polyline clip-path=\"url(#clip880)\" style=\"stroke:#000000; stroke-width:4; stroke-opacity:1; fill:none\" points=\"\n",
       "  1232.47,1486.45 1232.47,1469.18 \n",
       "  \"/>\n",
       "<polyline clip-path=\"url(#clip880)\" style=\"stroke:#000000; stroke-width:4; stroke-opacity:1; fill:none\" points=\"\n",
       "  1628.8,1486.45 1628.8,1469.18 \n",
       "  \"/>\n",
       "<polyline clip-path=\"url(#clip880)\" style=\"stroke:#000000; stroke-width:4; stroke-opacity:1; fill:none\" points=\"\n",
       "  2025.12,1486.45 2025.12,1469.18 \n",
       "  \"/>\n",
       "<path clip-path=\"url(#clip880)\" d=\"M 0 0 M444.057 1528.49 Q447.413 1529.2 449.288 1531.47 Q451.186 1533.74 451.186 1537.07 Q451.186 1542.19 447.668 1544.99 Q444.149 1547.79 437.668 1547.79 Q435.492 1547.79 433.177 1547.35 Q430.885 1546.93 428.432 1546.08 L428.432 1541.56 Q430.376 1542.7 432.691 1543.28 Q435.006 1543.86 437.529 1543.86 Q441.927 1543.86 444.219 1542.12 Q446.533 1540.38 446.533 1537.07 Q446.533 1534.02 444.381 1532.31 Q442.251 1530.57 438.432 1530.57 L434.404 1530.57 L434.404 1526.73 L438.617 1526.73 Q442.066 1526.73 443.895 1525.36 Q445.723 1523.97 445.723 1521.38 Q445.723 1518.72 443.825 1517.31 Q441.95 1515.87 438.432 1515.87 Q436.51 1515.87 434.311 1516.29 Q432.112 1516.7 429.473 1517.58 L429.473 1513.42 Q432.135 1512.68 434.45 1512.31 Q436.788 1511.93 438.848 1511.93 Q444.172 1511.93 447.274 1514.37 Q450.376 1516.77 450.376 1520.89 Q450.376 1523.76 448.733 1525.75 Q447.089 1527.72 444.057 1528.49 Z\" fill=\"#000000\" fill-rule=\"evenodd\" fill-opacity=\"1\" /><path clip-path=\"url(#clip880)\" d=\"M 0 0 M836.543 1527.98 Q833.395 1527.98 831.543 1530.13 Q829.714 1532.28 829.714 1536.03 Q829.714 1539.76 831.543 1541.93 Q833.395 1544.09 836.543 1544.09 Q839.691 1544.09 841.52 1541.93 Q843.372 1539.76 843.372 1536.03 Q843.372 1532.28 841.52 1530.13 Q839.691 1527.98 836.543 1527.98 M845.825 1513.32 L845.825 1517.58 Q844.066 1516.75 842.26 1516.31 Q840.478 1515.87 838.719 1515.87 Q834.089 1515.87 831.635 1519 Q829.205 1522.12 828.858 1528.44 Q830.223 1526.43 832.284 1525.36 Q834.344 1524.27 836.821 1524.27 Q842.029 1524.27 845.038 1527.44 Q848.071 1530.59 848.071 1536.03 Q848.071 1541.36 844.922 1544.57 Q841.774 1547.79 836.543 1547.79 Q830.548 1547.79 827.376 1543.21 Q824.205 1538.6 824.205 1529.87 Q824.205 1521.68 828.094 1516.82 Q831.983 1511.93 838.534 1511.93 Q840.293 1511.93 842.075 1512.28 Q843.881 1512.63 845.825 1513.32 Z\" fill=\"#000000\" fill-rule=\"evenodd\" fill-opacity=\"1\" /><path clip-path=\"url(#clip880)\" d=\"M 0 0 M1222.77 1546.4 L1222.77 1542.14 Q1224.53 1542.98 1226.33 1543.42 Q1228.14 1543.86 1229.87 1543.86 Q1234.5 1543.86 1236.93 1540.75 Q1239.39 1537.63 1239.74 1531.29 Q1238.39 1533.28 1236.33 1534.34 Q1234.27 1535.41 1231.77 1535.41 Q1226.59 1535.41 1223.55 1532.28 Q1220.55 1529.13 1220.55 1523.69 Q1220.55 1518.37 1223.69 1515.15 Q1226.84 1511.93 1232.07 1511.93 Q1238.07 1511.93 1241.22 1516.54 Q1244.39 1521.12 1244.39 1529.87 Q1244.39 1538.05 1240.5 1542.93 Q1236.63 1547.79 1230.08 1547.79 Q1228.32 1547.79 1226.52 1547.44 Q1224.71 1547.1 1222.77 1546.4 M1232.07 1531.75 Q1235.22 1531.75 1237.05 1529.6 Q1238.9 1527.44 1238.9 1523.69 Q1238.9 1519.97 1237.05 1517.81 Q1235.22 1515.64 1232.07 1515.64 Q1228.92 1515.64 1227.07 1517.81 Q1225.24 1519.97 1225.24 1523.69 Q1225.24 1527.44 1227.07 1529.6 Q1228.92 1531.75 1232.07 1531.75 Z\" fill=\"#000000\" fill-rule=\"evenodd\" fill-opacity=\"1\" /><path clip-path=\"url(#clip880)\" d=\"M 0 0 M1606.47 1543.18 L1614.11 1543.18 L1614.11 1516.82 L1605.8 1518.49 L1605.8 1514.23 L1614.06 1512.56 L1618.74 1512.56 L1618.74 1543.18 L1626.38 1543.18 L1626.38 1547.12 L1606.47 1547.12 L1606.47 1543.18 Z\" fill=\"#000000\" fill-rule=\"evenodd\" fill-opacity=\"1\" /><path clip-path=\"url(#clip880)\" d=\"M 0 0 M1635.47 1543.18 L1651.79 1543.18 L1651.79 1547.12 L1629.85 1547.12 L1629.85 1543.18 Q1632.51 1540.43 1637.09 1535.8 Q1641.7 1531.15 1642.88 1529.81 Q1645.13 1527.28 1646.01 1525.55 Q1646.91 1523.79 1646.91 1522.1 Q1646.91 1519.34 1644.96 1517.61 Q1643.04 1515.87 1639.94 1515.87 Q1637.74 1515.87 1635.29 1516.63 Q1632.86 1517.4 1630.08 1518.95 L1630.08 1514.23 Q1632.9 1513.09 1635.36 1512.51 Q1637.81 1511.93 1639.85 1511.93 Q1645.22 1511.93 1648.41 1514.62 Q1651.61 1517.31 1651.61 1521.8 Q1651.61 1523.93 1650.8 1525.85 Q1650.01 1527.74 1647.9 1530.34 Q1647.33 1531.01 1644.22 1534.23 Q1641.12 1537.42 1635.47 1543.18 Z\" fill=\"#000000\" fill-rule=\"evenodd\" fill-opacity=\"1\" /><path clip-path=\"url(#clip880)\" d=\"M 0 0 M2002.5 1543.18 L2010.14 1543.18 L2010.14 1516.82 L2001.83 1518.49 L2001.83 1514.23 L2010.09 1512.56 L2014.77 1512.56 L2014.77 1543.18 L2022.4 1543.18 L2022.4 1547.12 L2002.5 1547.12 L2002.5 1543.18 Z\" fill=\"#000000\" fill-rule=\"evenodd\" fill-opacity=\"1\" /><path clip-path=\"url(#clip880)\" d=\"M 0 0 M2027.52 1512.56 L2045.88 1512.56 L2045.88 1516.5 L2031.8 1516.5 L2031.8 1524.97 Q2032.82 1524.62 2033.84 1524.46 Q2034.86 1524.27 2035.88 1524.27 Q2041.66 1524.27 2045.04 1527.44 Q2048.42 1530.62 2048.42 1536.03 Q2048.42 1541.61 2044.95 1544.71 Q2041.48 1547.79 2035.16 1547.79 Q2032.98 1547.79 2030.71 1547.42 Q2028.47 1547.05 2026.06 1546.31 L2026.06 1541.61 Q2028.14 1542.74 2030.37 1543.3 Q2032.59 1543.86 2035.07 1543.86 Q2039.07 1543.86 2041.41 1541.75 Q2043.75 1539.64 2043.75 1536.03 Q2043.75 1532.42 2041.41 1530.31 Q2039.07 1528.21 2035.07 1528.21 Q2033.19 1528.21 2031.32 1528.62 Q2029.46 1529.04 2027.52 1529.92 L2027.52 1512.56 Z\" fill=\"#000000\" fill-rule=\"evenodd\" fill-opacity=\"1\" /><polyline clip-path=\"url(#clip882)\" style=\"stroke:#000000; stroke-width:2; stroke-opacity:0.1; fill:none\" points=\"\n",
       "  112.177,1445.72 2352.76,1445.72 \n",
       "  \"/>\n",
       "<polyline clip-path=\"url(#clip882)\" style=\"stroke:#000000; stroke-width:2; stroke-opacity:0.1; fill:none\" points=\"\n",
       "  112.177,1057.79 2352.76,1057.79 \n",
       "  \"/>\n",
       "<polyline clip-path=\"url(#clip882)\" style=\"stroke:#000000; stroke-width:2; stroke-opacity:0.1; fill:none\" points=\"\n",
       "  112.177,669.865 2352.76,669.865 \n",
       "  \"/>\n",
       "<polyline clip-path=\"url(#clip882)\" style=\"stroke:#000000; stroke-width:2; stroke-opacity:0.1; fill:none\" points=\"\n",
       "  112.177,281.939 2352.76,281.939 \n",
       "  \"/>\n",
       "<polyline clip-path=\"url(#clip880)\" style=\"stroke:#000000; stroke-width:4; stroke-opacity:1; fill:none\" points=\"\n",
       "  112.177,1486.45 112.177,47.2441 \n",
       "  \"/>\n",
       "<polyline clip-path=\"url(#clip880)\" style=\"stroke:#000000; stroke-width:4; stroke-opacity:1; fill:none\" points=\"\n",
       "  112.177,1445.72 139.064,1445.72 \n",
       "  \"/>\n",
       "<polyline clip-path=\"url(#clip880)\" style=\"stroke:#000000; stroke-width:4; stroke-opacity:1; fill:none\" points=\"\n",
       "  112.177,1057.79 139.064,1057.79 \n",
       "  \"/>\n",
       "<polyline clip-path=\"url(#clip880)\" style=\"stroke:#000000; stroke-width:4; stroke-opacity:1; fill:none\" points=\"\n",
       "  112.177,669.865 139.064,669.865 \n",
       "  \"/>\n",
       "<polyline clip-path=\"url(#clip880)\" style=\"stroke:#000000; stroke-width:4; stroke-opacity:1; fill:none\" points=\"\n",
       "  112.177,281.939 139.064,281.939 \n",
       "  \"/>\n",
       "<path clip-path=\"url(#clip880)\" d=\"M 0 0 M64.2328 1431.51 Q60.6217 1431.51 58.793 1435.08 Q56.9875 1438.62 56.9875 1445.75 Q56.9875 1452.86 58.793 1456.42 Q60.6217 1459.96 64.2328 1459.96 Q67.867 1459.96 69.6726 1456.42 Q71.5013 1452.86 71.5013 1445.75 Q71.5013 1438.62 69.6726 1435.08 Q67.867 1431.51 64.2328 1431.51 M64.2328 1427.81 Q70.0429 1427.81 73.0985 1432.42 Q76.1772 1437 76.1772 1445.75 Q76.1772 1454.48 73.0985 1459.08 Q70.0429 1463.67 64.2328 1463.67 Q58.4226 1463.67 55.344 1459.08 Q52.2884 1454.48 52.2884 1445.75 Q52.2884 1437 55.344 1432.42 Q58.4226 1427.81 64.2328 1427.81 Z\" fill=\"#000000\" fill-rule=\"evenodd\" fill-opacity=\"1\" /><path clip-path=\"url(#clip880)\" d=\"M 0 0 M59.8578 1071.13 L76.1772 1071.13 L76.1772 1075.07 L54.2328 1075.07 L54.2328 1071.13 Q56.8949 1068.38 61.4782 1063.75 Q66.0846 1059.1 67.2652 1057.76 Q69.5105 1055.23 70.3902 1053.5 Q71.2929 1051.74 71.2929 1050.05 Q71.2929 1047.29 69.3485 1045.56 Q67.4272 1043.82 64.3254 1043.82 Q62.1263 1043.82 59.6726 1044.58 Q57.2421 1045.35 54.4643 1046.9 L54.4643 1042.18 Q57.2884 1041.04 59.7421 1040.46 Q62.1958 1039.89 64.2328 1039.89 Q69.6031 1039.89 72.7976 1042.57 Q75.992 1045.26 75.992 1049.75 Q75.992 1051.88 75.1818 1053.8 Q74.3948 1055.7 72.2883 1058.29 Q71.7096 1058.96 68.6078 1062.18 Q65.5059 1065.37 59.8578 1071.13 Z\" fill=\"#000000\" fill-rule=\"evenodd\" fill-opacity=\"1\" /><path clip-path=\"url(#clip880)\" d=\"M 0 0 M66.5939 656.659 L54.7884 675.108 L66.5939 675.108 L66.5939 656.659 M65.367 652.585 L71.2466 652.585 L71.2466 675.108 L76.1772 675.108 L76.1772 678.996 L71.2466 678.996 L71.2466 687.145 L66.5939 687.145 L66.5939 678.996 L50.9921 678.996 L50.9921 674.483 L65.367 652.585 Z\" fill=\"#000000\" fill-rule=\"evenodd\" fill-opacity=\"1\" /><path clip-path=\"url(#clip880)\" d=\"M 0 0 M64.6495 280.076 Q61.5013 280.076 59.6495 282.228 Q57.8208 284.381 57.8208 288.131 Q57.8208 291.858 59.6495 294.034 Q61.5013 296.187 64.6495 296.187 Q67.7976 296.187 69.6263 294.034 Q71.4781 291.858 71.4781 288.131 Q71.4781 284.381 69.6263 282.228 Q67.7976 280.076 64.6495 280.076 M73.9318 265.423 L73.9318 269.682 Q72.1726 268.849 70.367 268.409 Q68.5846 267.969 66.8254 267.969 Q62.1958 267.969 59.7421 271.094 Q57.3115 274.219 56.9643 280.539 Q58.33 278.525 60.3902 277.46 Q62.4504 276.372 64.9272 276.372 Q70.1355 276.372 73.1448 279.543 Q76.1772 282.691 76.1772 288.131 Q76.1772 293.455 73.029 296.673 Q69.8809 299.89 64.6495 299.89 Q58.6541 299.89 55.4828 295.307 Q52.3116 290.701 52.3116 281.974 Q52.3116 273.779 56.2004 268.918 Q60.0893 264.034 66.6402 264.034 Q68.3994 264.034 70.1818 264.381 Q71.9874 264.728 73.9318 265.423 Z\" fill=\"#000000\" fill-rule=\"evenodd\" fill-opacity=\"1\" /><polyline clip-path=\"url(#clip882)\" style=\"stroke:#009af9; stroke-width:4; stroke-opacity:1; fill:none\" points=\"\n",
       "  175.59,1445.72 307.699,1445.72 439.809,1445.72 571.919,1445.72 704.028,1445.72 836.138,1445.72 968.247,1405.78 1100.36,862.557 1232.47,258.822 1364.58,308.931 \n",
       "  1496.69,487.793 1628.8,666.656 1760.9,845.518 1893.01,1024.38 2025.12,1203.24 2157.23,1380.24 2289.34,1445.72 \n",
       "  \"/>\n",
       "<polyline clip-path=\"url(#clip882)\" style=\"stroke:#e26f46; stroke-width:4; stroke-opacity:1; fill:none\" points=\"\n",
       "  175.59,1445.72 307.699,1445.72 439.809,1445.72 571.919,1445.72 704.028,1445.72 836.138,1445.72 968.247,1405.78 1100.36,862.557 1232.47,258.822 1364.58,308.931 \n",
       "  1496.69,1445.72 1628.8,1445.72 1760.9,1445.72 1893.01,1445.72 2025.12,1445.72 2157.23,1445.72 2289.34,1445.72 \n",
       "  \"/>\n",
       "<polyline clip-path=\"url(#clip882)\" style=\"stroke:#000000; stroke-width:4; stroke-opacity:1; fill:none\" stroke-dasharray=\"16, 10\" points=\"\n",
       "  1496.69,1445.72 1496.69,87.9763 \n",
       "  \"/>\n",
       "<polyline clip-path=\"url(#clip882)\" style=\"stroke:#c271d2; stroke-width:4; stroke-opacity:1; fill:none\" points=\"\n",
       "  175.59,1445.72 307.699,1445.72 439.809,1445.72 571.919,1445.72 704.028,1445.72 836.138,1445.72 968.247,1405.78 1100.36,862.557 1232.47,258.822 1364.58,1445.72 \n",
       "  1496.69,1445.72 1628.8,1445.72 1760.9,1445.72 1893.01,1445.72 2025.12,1445.72 2157.23,1445.72 2289.34,1445.72 \n",
       "  \"/>\n",
       "<path clip-path=\"url(#clip880)\" d=\"\n",
       "M1305.95 397.618 L2278.07 397.618 L2278.07 95.2176 L1305.95 95.2176  Z\n",
       "  \" fill=\"#ffffff\" fill-rule=\"evenodd\" fill-opacity=\"1\"/>\n",
       "<polyline clip-path=\"url(#clip880)\" style=\"stroke:#000000; stroke-width:4; stroke-opacity:1; fill:none\" points=\"\n",
       "  1305.95,397.618 2278.07,397.618 2278.07,95.2176 1305.95,95.2176 1305.95,397.618 \n",
       "  \"/>\n",
       "<polyline clip-path=\"url(#clip880)\" style=\"stroke:#009af9; stroke-width:4; stroke-opacity:1; fill:none\" points=\"\n",
       "  1330.84,155.698 1480.22,155.698 \n",
       "  \"/>\n",
       "<path clip-path=\"url(#clip880)\" d=\"M 0 0 M1509.79 156.473 L1509.79 169.135 L1517.29 169.135 Q1521.06 169.135 1522.87 167.584 Q1524.7 166.01 1524.7 162.792 Q1524.7 159.552 1522.87 158.024 Q1521.06 156.473 1517.29 156.473 L1509.79 156.473 M1509.79 142.26 L1509.79 152.677 L1516.71 152.677 Q1520.13 152.677 1521.8 151.404 Q1523.49 150.107 1523.49 147.468 Q1523.49 144.853 1521.8 143.556 Q1520.13 142.26 1516.71 142.26 L1509.79 142.26 M1505.11 138.418 L1517.06 138.418 Q1522.4 138.418 1525.3 140.64 Q1528.19 142.862 1528.19 146.959 Q1528.19 150.13 1526.71 152.005 Q1525.23 153.88 1522.36 154.343 Q1525.81 155.084 1527.7 157.445 Q1529.63 159.783 1529.63 163.302 Q1529.63 167.931 1526.48 170.454 Q1523.33 172.978 1517.52 172.978 L1505.11 172.978 L1505.11 138.418 Z\" fill=\"#000000\" fill-rule=\"evenodd\" fill-opacity=\"1\" /><path clip-path=\"url(#clip880)\" d=\"M 0 0 M1545.88 159.945 Q1540.71 159.945 1538.72 161.126 Q1536.73 162.306 1536.73 165.154 Q1536.73 167.422 1538.21 168.765 Q1539.72 170.084 1542.29 170.084 Q1545.83 170.084 1547.96 167.584 Q1550.11 165.061 1550.11 160.894 L1550.11 159.945 L1545.88 159.945 M1554.37 158.186 L1554.37 172.978 L1550.11 172.978 L1550.11 169.042 Q1548.65 171.403 1546.48 172.538 Q1544.3 173.649 1541.15 173.649 Q1537.17 173.649 1534.81 171.427 Q1532.47 169.181 1532.47 165.431 Q1532.47 161.056 1535.39 158.834 Q1538.33 156.612 1544.14 156.612 L1550.11 156.612 L1550.11 156.195 Q1550.11 153.255 1548.17 151.658 Q1546.25 150.038 1542.75 150.038 Q1540.53 150.038 1538.42 150.57 Q1536.32 151.103 1534.37 152.167 L1534.37 148.232 Q1536.71 147.33 1538.91 146.89 Q1541.11 146.427 1543.19 146.427 Q1548.82 146.427 1551.59 149.343 Q1554.37 152.26 1554.37 158.186 Z\" fill=\"#000000\" fill-rule=\"evenodd\" fill-opacity=\"1\" /><path clip-path=\"url(#clip880)\" d=\"M 0 0 M1575.37 147.816 L1575.37 151.843 Q1573.56 150.917 1571.62 150.455 Q1569.67 149.992 1567.59 149.992 Q1564.42 149.992 1562.82 150.964 Q1561.25 151.936 1561.25 153.88 Q1561.25 155.362 1562.38 156.218 Q1563.51 157.052 1566.94 157.816 L1568.4 158.14 Q1572.94 159.112 1574.83 160.894 Q1576.76 162.654 1576.76 165.825 Q1576.76 169.436 1573.88 171.542 Q1571.04 173.649 1566.04 173.649 Q1563.95 173.649 1561.69 173.232 Q1559.44 172.839 1556.94 172.028 L1556.94 167.63 Q1559.3 168.857 1561.59 169.482 Q1563.88 170.084 1566.13 170.084 Q1569.14 170.084 1570.76 169.066 Q1572.38 168.024 1572.38 166.149 Q1572.38 164.413 1571.2 163.487 Q1570.04 162.561 1566.08 161.704 L1564.6 161.357 Q1560.64 160.524 1558.88 158.811 Q1557.13 157.075 1557.13 154.066 Q1557.13 150.408 1559.72 148.418 Q1562.31 146.427 1567.08 146.427 Q1569.44 146.427 1571.52 146.774 Q1573.61 147.121 1575.37 147.816 Z\" fill=\"#000000\" fill-rule=\"evenodd\" fill-opacity=\"1\" /><path clip-path=\"url(#clip880)\" d=\"M 0 0 M1603.4 158.95 L1603.4 161.033 L1583.82 161.033 Q1584.09 165.431 1586.45 167.746 Q1588.84 170.038 1593.07 170.038 Q1595.53 170.038 1597.82 169.436 Q1600.13 168.834 1602.4 167.63 L1602.4 171.658 Q1600.11 172.63 1597.7 173.14 Q1595.3 173.649 1592.82 173.649 Q1586.62 173.649 1582.98 170.038 Q1579.37 166.427 1579.37 160.269 Q1579.37 153.904 1582.8 150.177 Q1586.25 146.427 1592.08 146.427 Q1597.31 146.427 1600.34 149.806 Q1603.4 153.163 1603.4 158.95 M1599.14 157.7 Q1599.09 154.205 1597.17 152.121 Q1595.27 150.038 1592.13 150.038 Q1588.56 150.038 1586.41 152.052 Q1584.28 154.066 1583.95 157.723 L1599.14 157.7 Z\" fill=\"#000000\" fill-rule=\"evenodd\" fill-opacity=\"1\" /><path clip-path=\"url(#clip880)\" d=\"M 0 0 M1607.87 136.959 L1612.13 136.959 L1612.13 172.978 L1607.87 172.978 L1607.87 136.959 Z\" fill=\"#000000\" fill-rule=\"evenodd\" fill-opacity=\"1\" /><path clip-path=\"url(#clip880)\" d=\"M 0 0 M1616.59 147.052 L1620.85 147.052 L1620.85 172.978 L1616.59 172.978 L1616.59 147.052 M1616.59 136.959 L1620.85 136.959 L1620.85 142.353 L1616.59 142.353 L1616.59 136.959 Z\" fill=\"#000000\" fill-rule=\"evenodd\" fill-opacity=\"1\" /><path clip-path=\"url(#clip880)\" d=\"M 0 0 M1646.87 157.329 L1646.87 172.978 L1642.61 172.978 L1642.61 157.468 Q1642.61 153.788 1641.18 151.959 Q1639.74 150.13 1636.87 150.13 Q1633.42 150.13 1631.43 152.33 Q1629.44 154.529 1629.44 158.325 L1629.44 172.978 L1625.16 172.978 L1625.16 147.052 L1629.44 147.052 L1629.44 151.08 Q1630.97 148.742 1633.03 147.584 Q1635.11 146.427 1637.82 146.427 Q1642.29 146.427 1644.58 149.205 Q1646.87 151.959 1646.87 157.329 Z\" fill=\"#000000\" fill-rule=\"evenodd\" fill-opacity=\"1\" /><path clip-path=\"url(#clip880)\" d=\"M 0 0 M1673.51 158.95 L1673.51 161.033 L1653.93 161.033 Q1654.21 165.431 1656.57 167.746 Q1658.95 170.038 1663.19 170.038 Q1665.64 170.038 1667.94 169.436 Q1670.25 168.834 1672.52 167.63 L1672.52 171.658 Q1670.23 172.63 1667.82 173.14 Q1665.41 173.649 1662.94 173.649 Q1656.73 173.649 1653.1 170.038 Q1649.49 166.427 1649.49 160.269 Q1649.49 153.904 1652.91 150.177 Q1656.36 146.427 1662.19 146.427 Q1667.43 146.427 1670.46 149.806 Q1673.51 153.163 1673.51 158.95 M1669.25 157.7 Q1669.21 154.205 1667.29 152.121 Q1665.39 150.038 1662.24 150.038 Q1658.68 150.038 1656.52 152.052 Q1654.39 154.066 1654.07 157.723 L1669.25 157.7 Z\" fill=\"#000000\" fill-rule=\"evenodd\" fill-opacity=\"1\" /><path clip-path=\"url(#clip880)\" d=\"M 0 0 M1693.05 147.052 L1697.31 147.052 L1697.31 172.978 L1693.05 172.978 L1693.05 147.052 M1693.05 136.959 L1697.31 136.959 L1697.31 142.353 L1693.05 142.353 L1693.05 136.959 Z\" fill=\"#000000\" fill-rule=\"evenodd\" fill-opacity=\"1\" /><path clip-path=\"url(#clip880)\" d=\"M 0 0 M1723.33 157.329 L1723.33 172.978 L1719.07 172.978 L1719.07 157.468 Q1719.07 153.788 1717.63 151.959 Q1716.2 150.13 1713.33 150.13 Q1709.88 150.13 1707.89 152.33 Q1705.9 154.529 1705.9 158.325 L1705.9 172.978 L1701.62 172.978 L1701.62 147.052 L1705.9 147.052 L1705.9 151.08 Q1707.43 148.742 1709.49 147.584 Q1711.57 146.427 1714.28 146.427 Q1718.75 146.427 1721.04 149.205 Q1723.33 151.959 1723.33 157.329 Z\" fill=\"#000000\" fill-rule=\"evenodd\" fill-opacity=\"1\" /><path clip-path=\"url(#clip880)\" d=\"M 0 0 M1740.92 136.959 L1740.92 140.501 L1736.85 140.501 Q1734.56 140.501 1733.65 141.427 Q1732.77 142.353 1732.77 144.76 L1732.77 147.052 L1739.79 147.052 L1739.79 150.362 L1732.77 150.362 L1732.77 172.978 L1728.49 172.978 L1728.49 150.362 L1724.42 150.362 L1724.42 147.052 L1728.49 147.052 L1728.49 145.246 Q1728.49 140.918 1730.5 138.95 Q1732.52 136.959 1736.89 136.959 L1740.92 136.959 Z\" fill=\"#000000\" fill-rule=\"evenodd\" fill-opacity=\"1\" /><path clip-path=\"url(#clip880)\" d=\"M 0 0 M1767.56 158.95 L1767.56 161.033 L1747.98 161.033 Q1748.26 165.431 1750.62 167.746 Q1753 170.038 1757.24 170.038 Q1759.69 170.038 1761.99 169.436 Q1764.3 168.834 1766.57 167.63 L1766.57 171.658 Q1764.28 172.63 1761.87 173.14 Q1759.46 173.649 1756.99 173.649 Q1750.78 173.649 1747.15 170.038 Q1743.54 166.427 1743.54 160.269 Q1743.54 153.904 1746.96 150.177 Q1750.41 146.427 1756.24 146.427 Q1761.48 146.427 1764.51 149.806 Q1767.56 153.163 1767.56 158.95 M1763.3 157.7 Q1763.26 154.205 1761.34 152.121 Q1759.44 150.038 1756.29 150.038 Q1752.73 150.038 1750.57 152.052 Q1748.44 154.066 1748.12 157.723 L1763.3 157.7 Z\" fill=\"#000000\" fill-rule=\"evenodd\" fill-opacity=\"1\" /><path clip-path=\"url(#clip880)\" d=\"M 0 0 M1790.69 148.047 L1790.69 152.029 Q1788.88 151.033 1787.05 150.547 Q1785.25 150.038 1783.4 150.038 Q1779.25 150.038 1776.96 152.677 Q1774.67 155.292 1774.67 160.038 Q1774.67 164.783 1776.96 167.422 Q1779.25 170.038 1783.4 170.038 Q1785.25 170.038 1787.05 169.552 Q1788.88 169.042 1790.69 168.047 L1790.69 171.982 Q1788.91 172.816 1786.99 173.232 Q1785.09 173.649 1782.93 173.649 Q1777.08 173.649 1773.63 169.968 Q1770.18 166.288 1770.18 160.038 Q1770.18 153.695 1773.65 150.061 Q1777.15 146.427 1783.21 146.427 Q1785.18 146.427 1787.05 146.843 Q1788.93 147.237 1790.69 148.047 Z\" fill=\"#000000\" fill-rule=\"evenodd\" fill-opacity=\"1\" /><path clip-path=\"url(#clip880)\" d=\"M 0 0 M1799.37 139.691 L1799.37 147.052 L1808.14 147.052 L1808.14 150.362 L1799.37 150.362 L1799.37 164.436 Q1799.37 167.607 1800.23 168.51 Q1801.11 169.413 1803.77 169.413 L1808.14 169.413 L1808.14 172.978 L1803.77 172.978 Q1798.84 172.978 1796.96 171.149 Q1795.09 169.297 1795.09 164.436 L1795.09 150.362 L1791.96 150.362 L1791.96 147.052 L1795.09 147.052 L1795.09 139.691 L1799.37 139.691 Z\" fill=\"#000000\" fill-rule=\"evenodd\" fill-opacity=\"1\" /><path clip-path=\"url(#clip880)\" d=\"M 0 0 M1812.61 147.052 L1816.87 147.052 L1816.87 172.978 L1812.61 172.978 L1812.61 147.052 M1812.61 136.959 L1816.87 136.959 L1816.87 142.353 L1812.61 142.353 L1812.61 136.959 Z\" fill=\"#000000\" fill-rule=\"evenodd\" fill-opacity=\"1\" /><path clip-path=\"url(#clip880)\" d=\"M 0 0 M1831.38 150.038 Q1827.96 150.038 1825.97 152.723 Q1823.98 155.385 1823.98 160.038 Q1823.98 164.691 1825.94 167.376 Q1827.93 170.038 1831.38 170.038 Q1834.79 170.038 1836.78 167.353 Q1838.77 164.667 1838.77 160.038 Q1838.77 155.431 1836.78 152.746 Q1834.79 150.038 1831.38 150.038 M1831.38 146.427 Q1836.94 146.427 1840.11 150.038 Q1843.28 153.649 1843.28 160.038 Q1843.28 166.404 1840.11 170.038 Q1836.94 173.649 1831.38 173.649 Q1825.8 173.649 1822.63 170.038 Q1819.49 166.404 1819.49 160.038 Q1819.49 153.649 1822.63 150.038 Q1825.8 146.427 1831.38 146.427 Z\" fill=\"#000000\" fill-rule=\"evenodd\" fill-opacity=\"1\" /><path clip-path=\"url(#clip880)\" d=\"M 0 0 M1847.31 162.746 L1847.31 147.052 L1851.57 147.052 L1851.57 162.584 Q1851.57 166.265 1853 168.116 Q1854.44 169.945 1857.31 169.945 Q1860.76 169.945 1862.75 167.746 Q1864.76 165.547 1864.76 161.751 L1864.76 147.052 L1869.02 147.052 L1869.02 172.978 L1864.76 172.978 L1864.76 168.996 Q1863.21 171.357 1861.15 172.515 Q1859.11 173.649 1856.41 173.649 Q1851.94 173.649 1849.62 170.871 Q1847.31 168.093 1847.31 162.746 M1858.03 146.427 L1858.03 146.427 Z\" fill=\"#000000\" fill-rule=\"evenodd\" fill-opacity=\"1\" /><path clip-path=\"url(#clip880)\" d=\"M 0 0 M1890.02 147.816 L1890.02 151.843 Q1888.21 150.917 1886.27 150.455 Q1884.32 149.992 1882.24 149.992 Q1879.07 149.992 1877.47 150.964 Q1875.9 151.936 1875.9 153.88 Q1875.9 155.362 1877.03 156.218 Q1878.17 157.052 1881.59 157.816 L1883.05 158.14 Q1887.59 159.112 1889.48 160.894 Q1891.41 162.654 1891.41 165.825 Q1891.41 169.436 1888.54 171.542 Q1885.69 173.649 1880.69 173.649 Q1878.61 173.649 1876.34 173.232 Q1874.09 172.839 1871.59 172.028 L1871.59 167.63 Q1873.95 168.857 1876.24 169.482 Q1878.54 170.084 1880.78 170.084 Q1883.79 170.084 1885.41 169.066 Q1887.03 168.024 1887.03 166.149 Q1887.03 164.413 1885.85 163.487 Q1884.69 162.561 1880.73 161.704 L1879.25 161.357 Q1875.3 160.524 1873.54 158.811 Q1871.78 157.075 1871.78 154.066 Q1871.78 150.408 1874.37 148.418 Q1876.96 146.427 1881.73 146.427 Q1884.09 146.427 1886.17 146.774 Q1888.26 147.121 1890.02 147.816 Z\" fill=\"#000000\" fill-rule=\"evenodd\" fill-opacity=\"1\" /><path clip-path=\"url(#clip880)\" d=\"M 0 0 M1917.42 157.329 L1917.42 172.978 L1913.17 172.978 L1913.17 157.468 Q1913.17 153.788 1911.73 151.959 Q1910.29 150.13 1907.42 150.13 Q1903.98 150.13 1901.98 152.33 Q1899.99 154.529 1899.99 158.325 L1899.99 172.978 L1895.71 172.978 L1895.71 147.052 L1899.99 147.052 L1899.99 151.08 Q1901.52 148.742 1903.58 147.584 Q1905.67 146.427 1908.37 146.427 Q1912.84 146.427 1915.13 149.205 Q1917.42 151.959 1917.42 157.329 Z\" fill=\"#000000\" fill-rule=\"evenodd\" fill-opacity=\"1\" /><path clip-path=\"url(#clip880)\" d=\"M 0 0 M1944.07 158.95 L1944.07 161.033 L1924.48 161.033 Q1924.76 165.431 1927.12 167.746 Q1929.51 170.038 1933.74 170.038 Q1936.2 170.038 1938.49 169.436 Q1940.8 168.834 1943.07 167.63 L1943.07 171.658 Q1940.78 172.63 1938.37 173.14 Q1935.97 173.649 1933.49 173.649 Q1927.29 173.649 1923.65 170.038 Q1920.04 166.427 1920.04 160.269 Q1920.04 153.904 1923.47 150.177 Q1926.92 146.427 1932.75 146.427 Q1937.98 146.427 1941.01 149.806 Q1944.07 153.163 1944.07 158.95 M1939.81 157.7 Q1939.76 154.205 1937.84 152.121 Q1935.94 150.038 1932.79 150.038 Q1929.23 150.038 1927.08 152.052 Q1924.95 154.066 1924.62 157.723 L1939.81 157.7 Z\" fill=\"#000000\" fill-rule=\"evenodd\" fill-opacity=\"1\" /><path clip-path=\"url(#clip880)\" d=\"M 0 0 M1965.06 147.816 L1965.06 151.843 Q1963.26 150.917 1961.31 150.455 Q1959.37 149.992 1957.29 149.992 Q1954.11 149.992 1952.52 150.964 Q1950.94 151.936 1950.94 153.88 Q1950.94 155.362 1952.08 156.218 Q1953.21 157.052 1956.64 157.816 L1958.1 158.14 Q1962.63 159.112 1964.53 160.894 Q1966.45 162.654 1966.45 165.825 Q1966.45 169.436 1963.58 171.542 Q1960.73 173.649 1955.73 173.649 Q1953.65 173.649 1951.38 173.232 Q1949.14 172.839 1946.64 172.028 L1946.64 167.63 Q1949 168.857 1951.29 169.482 Q1953.58 170.084 1955.83 170.084 Q1958.84 170.084 1960.46 169.066 Q1962.08 168.024 1962.08 166.149 Q1962.08 164.413 1960.9 163.487 Q1959.74 162.561 1955.78 161.704 L1954.3 161.357 Q1950.34 160.524 1948.58 158.811 Q1946.82 157.075 1946.82 154.066 Q1946.82 150.408 1949.42 148.418 Q1952.01 146.427 1956.78 146.427 Q1959.14 146.427 1961.22 146.774 Q1963.3 147.121 1965.06 147.816 Z\" fill=\"#000000\" fill-rule=\"evenodd\" fill-opacity=\"1\" /><path clip-path=\"url(#clip880)\" d=\"M 0 0 M1987.45 147.816 L1987.45 151.843 Q1985.64 150.917 1983.7 150.455 Q1981.75 149.992 1979.67 149.992 Q1976.5 149.992 1974.9 150.964 Q1973.33 151.936 1973.33 153.88 Q1973.33 155.362 1974.46 156.218 Q1975.6 157.052 1979.02 157.816 L1980.48 158.14 Q1985.02 159.112 1986.91 160.894 Q1988.84 162.654 1988.84 165.825 Q1988.84 169.436 1985.97 171.542 Q1983.12 173.649 1978.12 173.649 Q1976.04 173.649 1973.77 173.232 Q1971.52 172.839 1969.02 172.028 L1969.02 167.63 Q1971.38 168.857 1973.67 169.482 Q1975.97 170.084 1978.21 170.084 Q1981.22 170.084 1982.84 169.066 Q1984.46 168.024 1984.46 166.149 Q1984.46 164.413 1983.28 163.487 Q1982.12 162.561 1978.16 161.704 L1976.68 161.357 Q1972.73 160.524 1970.97 158.811 Q1969.21 157.075 1969.21 154.066 Q1969.21 150.408 1971.8 148.418 Q1974.39 146.427 1979.16 146.427 Q1981.52 146.427 1983.6 146.774 Q1985.69 147.121 1987.45 147.816 Z\" fill=\"#000000\" fill-rule=\"evenodd\" fill-opacity=\"1\" /><polyline clip-path=\"url(#clip880)\" style=\"stroke:#e26f46; stroke-width:4; stroke-opacity:1; fill:none\" points=\"\n",
       "  1330.84,216.178 1480.22,216.178 \n",
       "  \"/>\n",
       "<path clip-path=\"url(#clip880)\" d=\"M 0 0 M1505.11 198.898 L1509.83 198.898 L1517.1 228.11 L1524.35 198.898 L1529.6 198.898 L1536.87 228.11 L1544.12 198.898 L1548.86 198.898 L1540.18 233.458 L1534.3 233.458 L1527.01 203.458 L1519.65 233.458 L1513.77 233.458 L1505.11 198.898 Z\" fill=\"#000000\" fill-rule=\"evenodd\" fill-opacity=\"1\" /><path clip-path=\"url(#clip880)\" d=\"M 0 0 M1552.29 207.532 L1556.55 207.532 L1556.55 233.458 L1552.29 233.458 L1552.29 207.532 M1552.29 197.439 L1556.55 197.439 L1556.55 202.833 L1552.29 202.833 L1552.29 197.439 Z\" fill=\"#000000\" fill-rule=\"evenodd\" fill-opacity=\"1\" /><path clip-path=\"url(#clip880)\" d=\"M 0 0 M1565.23 200.171 L1565.23 207.532 L1574 207.532 L1574 210.842 L1565.23 210.842 L1565.23 224.916 Q1565.23 228.087 1566.08 228.99 Q1566.96 229.893 1569.63 229.893 L1574 229.893 L1574 233.458 L1569.63 233.458 Q1564.69 233.458 1562.82 231.629 Q1560.94 229.777 1560.94 224.916 L1560.94 210.842 L1557.82 210.842 L1557.82 207.532 L1560.94 207.532 L1560.94 200.171 L1565.23 200.171 Z\" fill=\"#000000\" fill-rule=\"evenodd\" fill-opacity=\"1\" /><path clip-path=\"url(#clip880)\" d=\"M 0 0 M1600.02 217.809 L1600.02 233.458 L1595.76 233.458 L1595.76 217.948 Q1595.76 214.268 1594.32 212.439 Q1592.89 210.61 1590.02 210.61 Q1586.57 210.61 1584.58 212.81 Q1582.59 215.009 1582.59 218.805 L1582.59 233.458 L1578.31 233.458 L1578.31 197.439 L1582.59 197.439 L1582.59 211.56 Q1584.12 209.222 1586.18 208.064 Q1588.26 206.907 1590.97 206.907 Q1595.44 206.907 1597.73 209.685 Q1600.02 212.439 1600.02 217.809 Z\" fill=\"#000000\" fill-rule=\"evenodd\" fill-opacity=\"1\" /><path clip-path=\"url(#clip880)\" d=\"M 0 0 M1638.21 208.527 L1638.21 212.509 Q1636.41 211.513 1634.58 211.027 Q1632.77 210.518 1630.92 210.518 Q1626.78 210.518 1624.49 213.157 Q1622.19 215.772 1622.19 220.518 Q1622.19 225.263 1624.49 227.902 Q1626.78 230.518 1630.92 230.518 Q1632.77 230.518 1634.58 230.032 Q1636.41 229.522 1638.21 228.527 L1638.21 232.462 Q1636.43 233.296 1634.51 233.712 Q1632.61 234.129 1630.46 234.129 Q1624.6 234.129 1621.15 230.448 Q1617.7 226.768 1617.7 220.518 Q1617.7 214.175 1621.18 210.541 Q1624.67 206.907 1630.74 206.907 Q1632.7 206.907 1634.58 207.323 Q1636.45 207.717 1638.21 208.527 Z\" fill=\"#000000\" fill-rule=\"evenodd\" fill-opacity=\"1\" /><path clip-path=\"url(#clip880)\" d=\"M 0 0 M1664.23 217.809 L1664.23 233.458 L1659.97 233.458 L1659.97 217.948 Q1659.97 214.268 1658.54 212.439 Q1657.1 210.61 1654.23 210.61 Q1650.78 210.61 1648.79 212.81 Q1646.8 215.009 1646.8 218.805 L1646.8 233.458 L1642.52 233.458 L1642.52 197.439 L1646.8 197.439 L1646.8 211.56 Q1648.33 209.222 1650.39 208.064 Q1652.47 206.907 1655.18 206.907 Q1659.65 206.907 1661.94 209.685 Q1664.23 212.439 1664.23 217.809 Z\" fill=\"#000000\" fill-rule=\"evenodd\" fill-opacity=\"1\" /><path clip-path=\"url(#clip880)\" d=\"M 0 0 M1680.48 220.425 Q1675.32 220.425 1673.33 221.606 Q1671.34 222.786 1671.34 225.634 Q1671.34 227.902 1672.82 229.245 Q1674.32 230.564 1676.89 230.564 Q1680.44 230.564 1682.56 228.064 Q1684.72 225.541 1684.72 221.374 L1684.72 220.425 L1680.48 220.425 M1688.98 218.666 L1688.98 233.458 L1684.72 233.458 L1684.72 229.522 Q1683.26 231.883 1681.08 233.018 Q1678.91 234.129 1675.76 234.129 Q1671.78 234.129 1669.42 231.907 Q1667.08 229.661 1667.08 225.911 Q1667.08 221.536 1670 219.314 Q1672.94 217.092 1678.75 217.092 L1684.72 217.092 L1684.72 216.675 Q1684.72 213.735 1682.77 212.138 Q1680.85 210.518 1677.36 210.518 Q1675.13 210.518 1673.03 211.05 Q1670.92 211.583 1668.98 212.647 L1668.98 208.712 Q1671.31 207.81 1673.51 207.37 Q1675.71 206.907 1677.8 206.907 Q1683.42 206.907 1686.2 209.823 Q1688.98 212.74 1688.98 218.666 Z\" fill=\"#000000\" fill-rule=\"evenodd\" fill-opacity=\"1\" /><path clip-path=\"url(#clip880)\" d=\"M 0 0 M1715 217.809 L1715 233.458 L1710.74 233.458 L1710.74 217.948 Q1710.74 214.268 1709.3 212.439 Q1707.87 210.61 1705 210.61 Q1701.55 210.61 1699.56 212.81 Q1697.56 215.009 1697.56 218.805 L1697.56 233.458 L1693.28 233.458 L1693.28 207.532 L1697.56 207.532 L1697.56 211.56 Q1699.09 209.222 1701.15 208.064 Q1703.24 206.907 1705.94 206.907 Q1710.41 206.907 1712.7 209.685 Q1715 212.439 1715 217.809 Z\" fill=\"#000000\" fill-rule=\"evenodd\" fill-opacity=\"1\" /><path clip-path=\"url(#clip880)\" d=\"M 0 0 M1738.12 208.527 L1738.12 212.509 Q1736.31 211.513 1734.49 211.027 Q1732.68 210.518 1730.83 210.518 Q1726.68 210.518 1724.39 213.157 Q1722.1 215.772 1722.1 220.518 Q1722.1 225.263 1724.39 227.902 Q1726.68 230.518 1730.83 230.518 Q1732.68 230.518 1734.49 230.032 Q1736.31 229.522 1738.12 228.527 L1738.12 232.462 Q1736.34 233.296 1734.42 233.712 Q1732.52 234.129 1730.37 234.129 Q1724.51 234.129 1721.06 230.448 Q1717.61 226.768 1717.61 220.518 Q1717.61 214.175 1721.08 210.541 Q1724.58 206.907 1730.64 206.907 Q1732.61 206.907 1734.49 207.323 Q1736.36 207.717 1738.12 208.527 Z\" fill=\"#000000\" fill-rule=\"evenodd\" fill-opacity=\"1\" /><path clip-path=\"url(#clip880)\" d=\"M 0 0 M1764.76 219.43 L1764.76 221.513 L1745.18 221.513 Q1745.46 225.911 1747.82 228.226 Q1750.2 230.518 1754.44 230.518 Q1756.89 230.518 1759.18 229.916 Q1761.5 229.314 1763.77 228.11 L1763.77 232.138 Q1761.48 233.11 1759.07 233.62 Q1756.66 234.129 1754.18 234.129 Q1747.98 234.129 1744.35 230.518 Q1740.74 226.907 1740.74 220.749 Q1740.74 214.384 1744.16 210.657 Q1747.61 206.907 1753.44 206.907 Q1758.68 206.907 1761.71 210.286 Q1764.76 213.643 1764.76 219.43 M1760.5 218.18 Q1760.46 214.685 1758.54 212.601 Q1756.64 210.518 1753.49 210.518 Q1749.93 210.518 1747.77 212.532 Q1745.64 214.546 1745.32 218.203 L1760.5 218.18 Z\" fill=\"#000000\" fill-rule=\"evenodd\" fill-opacity=\"1\" /><path clip-path=\"url(#clip880)\" d=\"M 0 0 M1794.35 210.518 Q1790.92 210.518 1788.93 213.203 Q1786.94 215.865 1786.94 220.518 Q1786.94 225.171 1788.91 227.856 Q1790.9 230.518 1794.35 230.518 Q1797.75 230.518 1799.74 227.833 Q1801.73 225.147 1801.73 220.518 Q1801.73 215.911 1799.74 213.226 Q1797.75 210.518 1794.35 210.518 M1794.35 206.907 Q1799.9 206.907 1803.07 210.518 Q1806.24 214.129 1806.24 220.518 Q1806.24 226.884 1803.07 230.518 Q1799.9 234.129 1794.35 234.129 Q1788.77 234.129 1785.6 230.518 Q1782.45 226.884 1782.45 220.518 Q1782.45 214.129 1785.6 210.518 Q1788.77 206.907 1794.35 206.907 Z\" fill=\"#000000\" fill-rule=\"evenodd\" fill-opacity=\"1\" /><path clip-path=\"url(#clip880)\" d=\"M 0 0 M1823.84 197.439 L1823.84 200.981 L1819.76 200.981 Q1817.47 200.981 1816.57 201.907 Q1815.69 202.833 1815.69 205.24 L1815.69 207.532 L1822.7 207.532 L1822.7 210.842 L1815.69 210.842 L1815.69 233.458 L1811.41 233.458 L1811.41 210.842 L1807.33 210.842 L1807.33 207.532 L1811.41 207.532 L1811.41 205.726 Q1811.41 201.398 1813.42 199.43 Q1815.43 197.439 1819.81 197.439 L1823.84 197.439 Z\" fill=\"#000000\" fill-rule=\"evenodd\" fill-opacity=\"1\" /><path clip-path=\"url(#clip880)\" d=\"M 0 0 M1859.9 208.296 L1859.9 212.323 Q1858.1 211.397 1856.15 210.935 Q1854.21 210.472 1852.12 210.472 Q1848.95 210.472 1847.36 211.444 Q1845.78 212.416 1845.78 214.36 Q1845.78 215.842 1846.92 216.698 Q1848.05 217.532 1851.48 218.296 L1852.93 218.62 Q1857.47 219.592 1859.37 221.374 Q1861.29 223.134 1861.29 226.305 Q1861.29 229.916 1858.42 232.022 Q1855.57 234.129 1850.57 234.129 Q1848.49 234.129 1846.22 233.712 Q1843.98 233.319 1841.48 232.508 L1841.48 228.11 Q1843.84 229.337 1846.13 229.962 Q1848.42 230.564 1850.67 230.564 Q1853.67 230.564 1855.3 229.546 Q1856.92 228.504 1856.92 226.629 Q1856.92 224.893 1855.74 223.967 Q1854.58 223.041 1850.62 222.184 L1849.14 221.837 Q1845.18 221.004 1843.42 219.291 Q1841.66 217.555 1841.66 214.546 Q1841.66 210.888 1844.25 208.898 Q1846.85 206.907 1851.61 206.907 Q1853.98 206.907 1856.06 207.254 Q1858.14 207.601 1859.9 208.296 Z\" fill=\"#000000\" fill-rule=\"evenodd\" fill-opacity=\"1\" /><path clip-path=\"url(#clip880)\" d=\"M 0 0 M1876.55 235.865 Q1874.74 240.495 1873.03 241.907 Q1871.31 243.319 1868.44 243.319 L1865.04 243.319 L1865.04 239.754 L1867.54 239.754 Q1869.3 239.754 1870.27 238.92 Q1871.24 238.087 1872.42 234.985 L1873.19 233.041 L1862.7 207.532 L1867.22 207.532 L1875.32 227.809 L1883.42 207.532 L1887.93 207.532 L1876.55 235.865 Z\" fill=\"#000000\" fill-rule=\"evenodd\" fill-opacity=\"1\" /><path clip-path=\"url(#clip880)\" d=\"M 0 0 M1912.59 212.509 Q1914.18 209.638 1916.41 208.273 Q1918.63 206.907 1921.64 206.907 Q1925.69 206.907 1927.89 209.754 Q1930.09 212.578 1930.09 217.809 L1930.09 233.458 L1925.8 233.458 L1925.8 217.948 Q1925.8 214.222 1924.48 212.416 Q1923.17 210.61 1920.46 210.61 Q1917.15 210.61 1915.23 212.81 Q1913.3 215.009 1913.3 218.805 L1913.3 233.458 L1909.02 233.458 L1909.02 217.948 Q1909.02 214.198 1907.7 212.416 Q1906.38 210.61 1903.63 210.61 Q1900.36 210.61 1898.44 212.833 Q1896.52 215.032 1896.52 218.805 L1896.52 233.458 L1892.24 233.458 L1892.24 207.532 L1896.52 207.532 L1896.52 211.56 Q1897.98 209.175 1900.02 208.041 Q1902.05 206.907 1904.86 206.907 Q1907.68 206.907 1909.65 208.342 Q1911.64 209.777 1912.59 212.509 Z\" fill=\"#000000\" fill-rule=\"evenodd\" fill-opacity=\"1\" /><path clip-path=\"url(#clip880)\" d=\"M 0 0 M1938.67 229.569 L1938.67 243.319 L1934.39 243.319 L1934.39 207.532 L1938.67 207.532 L1938.67 211.467 Q1940.02 209.152 1942.05 208.041 Q1944.11 206.907 1946.96 206.907 Q1951.68 206.907 1954.62 210.657 Q1957.59 214.407 1957.59 220.518 Q1957.59 226.629 1954.62 230.379 Q1951.68 234.129 1946.96 234.129 Q1944.11 234.129 1942.05 233.018 Q1940.02 231.883 1938.67 229.569 M1953.17 220.518 Q1953.17 215.819 1951.22 213.157 Q1949.3 210.472 1945.92 210.472 Q1942.54 210.472 1940.6 213.157 Q1938.67 215.819 1938.67 220.518 Q1938.67 225.217 1940.6 227.902 Q1942.54 230.564 1945.92 230.564 Q1949.3 230.564 1951.22 227.902 Q1953.17 225.217 1953.17 220.518 Z\" fill=\"#000000\" fill-rule=\"evenodd\" fill-opacity=\"1\" /><path clip-path=\"url(#clip880)\" d=\"M 0 0 M1966.27 200.171 L1966.27 207.532 L1975.04 207.532 L1975.04 210.842 L1966.27 210.842 L1966.27 224.916 Q1966.27 228.087 1967.12 228.99 Q1968 229.893 1970.66 229.893 L1975.04 229.893 L1975.04 233.458 L1970.66 233.458 Q1965.73 233.458 1963.86 231.629 Q1961.98 229.777 1961.98 224.916 L1961.98 210.842 L1958.86 210.842 L1958.86 207.532 L1961.98 207.532 L1961.98 200.171 L1966.27 200.171 Z\" fill=\"#000000\" fill-rule=\"evenodd\" fill-opacity=\"1\" /><path clip-path=\"url(#clip880)\" d=\"M 0 0 M1989.55 210.518 Q1986.13 210.518 1984.14 213.203 Q1982.15 215.865 1982.15 220.518 Q1982.15 225.171 1984.11 227.856 Q1986.1 230.518 1989.55 230.518 Q1992.96 230.518 1994.95 227.833 Q1996.94 225.147 1996.94 220.518 Q1996.94 215.911 1994.95 213.226 Q1992.96 210.518 1989.55 210.518 M1989.55 206.907 Q1995.11 206.907 1998.28 210.518 Q2001.45 214.129 2001.45 220.518 Q2001.45 226.884 1998.28 230.518 Q1995.11 234.129 1989.55 234.129 Q1983.98 234.129 1980.8 230.518 Q1977.66 226.884 1977.66 220.518 Q1977.66 214.129 1980.8 210.518 Q1983.98 206.907 1989.55 206.907 Z\" fill=\"#000000\" fill-rule=\"evenodd\" fill-opacity=\"1\" /><path clip-path=\"url(#clip880)\" d=\"M 0 0 M2026.1 212.509 Q2027.7 209.638 2029.92 208.273 Q2032.15 206.907 2035.16 206.907 Q2039.21 206.907 2041.41 209.754 Q2043.6 212.578 2043.6 217.809 L2043.6 233.458 L2039.32 233.458 L2039.32 217.948 Q2039.32 214.222 2038 212.416 Q2036.68 210.61 2033.97 210.61 Q2030.66 210.61 2028.74 212.81 Q2026.82 215.009 2026.82 218.805 L2026.82 233.458 L2022.54 233.458 L2022.54 217.948 Q2022.54 214.198 2021.22 212.416 Q2019.9 210.61 2017.15 210.61 Q2013.88 210.61 2011.96 212.833 Q2010.04 215.032 2010.04 218.805 L2010.04 233.458 L2005.76 233.458 L2005.76 207.532 L2010.04 207.532 L2010.04 211.56 Q2011.5 209.175 2013.54 208.041 Q2015.57 206.907 2018.37 206.907 Q2021.2 206.907 2023.16 208.342 Q2025.16 209.777 2026.1 212.509 Z\" fill=\"#000000\" fill-rule=\"evenodd\" fill-opacity=\"1\" /><path clip-path=\"url(#clip880)\" d=\"M 0 0 M2063.14 207.532 L2067.4 207.532 L2067.4 233.458 L2063.14 233.458 L2063.14 207.532 M2063.14 197.439 L2067.4 197.439 L2067.4 202.833 L2063.14 202.833 L2063.14 197.439 Z\" fill=\"#000000\" fill-rule=\"evenodd\" fill-opacity=\"1\" /><path clip-path=\"url(#clip880)\" d=\"M 0 0 M2088.4 208.296 L2088.4 212.323 Q2086.59 211.397 2084.65 210.935 Q2082.7 210.472 2080.62 210.472 Q2077.45 210.472 2075.85 211.444 Q2074.28 212.416 2074.28 214.36 Q2074.28 215.842 2075.41 216.698 Q2076.54 217.532 2079.97 218.296 L2081.43 218.62 Q2085.97 219.592 2087.86 221.374 Q2089.78 223.134 2089.78 226.305 Q2089.78 229.916 2086.91 232.022 Q2084.07 234.129 2079.07 234.129 Q2076.98 234.129 2074.72 233.712 Q2072.47 233.319 2069.97 232.508 L2069.97 228.11 Q2072.33 229.337 2074.62 229.962 Q2076.91 230.564 2079.16 230.564 Q2082.17 230.564 2083.79 229.546 Q2085.41 228.504 2085.41 226.629 Q2085.41 224.893 2084.23 223.967 Q2083.07 223.041 2079.11 222.184 L2077.63 221.837 Q2073.67 221.004 2071.91 219.291 Q2070.16 217.555 2070.16 214.546 Q2070.16 210.888 2072.75 208.898 Q2075.34 206.907 2080.11 206.907 Q2082.47 206.907 2084.55 207.254 Q2086.64 207.601 2088.4 208.296 Z\" fill=\"#000000\" fill-rule=\"evenodd\" fill-opacity=\"1\" /><path clip-path=\"url(#clip880)\" d=\"M 0 0 M2104.3 210.518 Q2100.87 210.518 2098.88 213.203 Q2096.89 215.865 2096.89 220.518 Q2096.89 225.171 2098.86 227.856 Q2100.85 230.518 2104.3 230.518 Q2107.7 230.518 2109.69 227.833 Q2111.68 225.147 2111.68 220.518 Q2111.68 215.911 2109.69 213.226 Q2107.7 210.518 2104.3 210.518 M2104.3 206.907 Q2109.85 206.907 2113.03 210.518 Q2116.2 214.129 2116.2 220.518 Q2116.2 226.884 2113.03 230.518 Q2109.85 234.129 2104.3 234.129 Q2098.72 234.129 2095.55 230.518 Q2092.4 226.884 2092.4 220.518 Q2092.4 214.129 2095.55 210.518 Q2098.72 206.907 2104.3 206.907 Z\" fill=\"#000000\" fill-rule=\"evenodd\" fill-opacity=\"1\" /><path clip-path=\"url(#clip880)\" d=\"M 0 0 M2120.66 197.439 L2124.92 197.439 L2124.92 233.458 L2120.66 233.458 L2120.66 197.439 Z\" fill=\"#000000\" fill-rule=\"evenodd\" fill-opacity=\"1\" /><path clip-path=\"url(#clip880)\" d=\"M 0 0 M2141.17 220.425 Q2136.01 220.425 2134.02 221.606 Q2132.03 222.786 2132.03 225.634 Q2132.03 227.902 2133.51 229.245 Q2135.02 230.564 2137.59 230.564 Q2141.13 230.564 2143.26 228.064 Q2145.41 225.541 2145.41 221.374 L2145.41 220.425 L2141.17 220.425 M2149.67 218.666 L2149.67 233.458 L2145.41 233.458 L2145.41 229.522 Q2143.95 231.883 2141.78 233.018 Q2139.6 234.129 2136.45 234.129 Q2132.47 234.129 2130.11 231.907 Q2127.77 229.661 2127.77 225.911 Q2127.77 221.536 2130.69 219.314 Q2133.63 217.092 2139.44 217.092 L2145.41 217.092 L2145.41 216.675 Q2145.41 213.735 2143.46 212.138 Q2141.54 210.518 2138.05 210.518 Q2135.83 210.518 2133.72 211.05 Q2131.61 211.583 2129.67 212.647 L2129.67 208.712 Q2132.01 207.81 2134.21 207.37 Q2136.4 206.907 2138.49 206.907 Q2144.11 206.907 2146.89 209.823 Q2149.67 212.74 2149.67 218.666 Z\" fill=\"#000000\" fill-rule=\"evenodd\" fill-opacity=\"1\" /><path clip-path=\"url(#clip880)\" d=\"M 0 0 M2158.35 200.171 L2158.35 207.532 L2167.12 207.532 L2167.12 210.842 L2158.35 210.842 L2158.35 224.916 Q2158.35 228.087 2159.21 228.99 Q2160.09 229.893 2162.75 229.893 L2167.12 229.893 L2167.12 233.458 L2162.75 233.458 Q2157.82 233.458 2155.94 231.629 Q2154.07 229.777 2154.07 224.916 L2154.07 210.842 L2150.94 210.842 L2150.94 207.532 L2154.07 207.532 L2154.07 200.171 L2158.35 200.171 Z\" fill=\"#000000\" fill-rule=\"evenodd\" fill-opacity=\"1\" /><path clip-path=\"url(#clip880)\" d=\"M 0 0 M2171.59 207.532 L2175.85 207.532 L2175.85 233.458 L2171.59 233.458 L2171.59 207.532 M2171.59 197.439 L2175.85 197.439 L2175.85 202.833 L2171.59 202.833 L2171.59 197.439 Z\" fill=\"#000000\" fill-rule=\"evenodd\" fill-opacity=\"1\" /><path clip-path=\"url(#clip880)\" d=\"M 0 0 M2190.36 210.518 Q2186.94 210.518 2184.95 213.203 Q2182.96 215.865 2182.96 220.518 Q2182.96 225.171 2184.92 227.856 Q2186.91 230.518 2190.36 230.518 Q2193.77 230.518 2195.76 227.833 Q2197.75 225.147 2197.75 220.518 Q2197.75 215.911 2195.76 213.226 Q2193.77 210.518 2190.36 210.518 M2190.36 206.907 Q2195.92 206.907 2199.09 210.518 Q2202.26 214.129 2202.26 220.518 Q2202.26 226.884 2199.09 230.518 Q2195.92 234.129 2190.36 234.129 Q2184.78 234.129 2181.61 230.518 Q2178.46 226.884 2178.46 220.518 Q2178.46 214.129 2181.61 210.518 Q2184.78 206.907 2190.36 206.907 Z\" fill=\"#000000\" fill-rule=\"evenodd\" fill-opacity=\"1\" /><path clip-path=\"url(#clip880)\" d=\"M 0 0 M2228.28 217.809 L2228.28 233.458 L2224.02 233.458 L2224.02 217.948 Q2224.02 214.268 2222.58 212.439 Q2221.15 210.61 2218.28 210.61 Q2214.83 210.61 2212.84 212.81 Q2210.85 215.009 2210.85 218.805 L2210.85 233.458 L2206.57 233.458 L2206.57 207.532 L2210.85 207.532 L2210.85 211.56 Q2212.38 209.222 2214.44 208.064 Q2216.52 206.907 2219.23 206.907 Q2223.7 206.907 2225.99 209.685 Q2228.28 212.439 2228.28 217.809 Z\" fill=\"#000000\" fill-rule=\"evenodd\" fill-opacity=\"1\" /><polyline clip-path=\"url(#clip880)\" style=\"stroke:#000000; stroke-width:4; stroke-opacity:1; fill:none\" stroke-dasharray=\"16, 10\" points=\"\n",
       "  1330.84,276.658 1480.22,276.658 \n",
       "  \"/>\n",
       "<path clip-path=\"url(#clip880)\" d=\"M 0 0 M1527.36 260.512 L1527.36 265.072 Q1524.7 263.799 1522.33 263.174 Q1519.97 262.549 1517.77 262.549 Q1513.95 262.549 1511.87 264.03 Q1509.81 265.512 1509.81 268.243 Q1509.81 270.535 1511.18 271.715 Q1512.57 272.873 1516.41 273.59 L1519.23 274.169 Q1524.46 275.165 1526.94 277.688 Q1529.44 280.188 1529.44 284.401 Q1529.44 289.424 1526.06 292.016 Q1522.7 294.609 1516.2 294.609 Q1513.75 294.609 1510.97 294.053 Q1508.21 293.498 1505.25 292.41 L1505.25 287.595 Q1508.1 289.192 1510.83 290.002 Q1513.56 290.813 1516.2 290.813 Q1520.2 290.813 1522.38 289.239 Q1524.56 287.664 1524.56 284.748 Q1524.56 282.202 1522.98 280.766 Q1521.43 279.331 1517.87 278.614 L1515.02 278.058 Q1509.79 277.016 1507.45 274.794 Q1505.11 272.572 1505.11 268.614 Q1505.11 264.03 1508.33 261.391 Q1511.57 258.753 1517.24 258.753 Q1519.67 258.753 1522.2 259.192 Q1524.72 259.632 1527.36 260.512 Z\" fill=\"#000000\" fill-rule=\"evenodd\" fill-opacity=\"1\" /><path clip-path=\"url(#clip880)\" d=\"M 0 0 M1544.7 296.345 Q1542.89 300.975 1541.18 302.387 Q1539.46 303.799 1536.59 303.799 L1533.19 303.799 L1533.19 300.234 L1535.69 300.234 Q1537.45 300.234 1538.42 299.4 Q1539.39 298.567 1540.57 295.465 L1541.34 293.521 L1530.85 268.012 L1535.37 268.012 L1543.47 288.289 L1551.57 268.012 L1556.08 268.012 L1544.7 296.345 Z\" fill=\"#000000\" fill-rule=\"evenodd\" fill-opacity=\"1\" /><path clip-path=\"url(#clip880)\" d=\"M 0 0 M1580.74 272.989 Q1582.33 270.118 1584.56 268.753 Q1586.78 267.387 1589.79 267.387 Q1593.84 267.387 1596.04 270.234 Q1598.24 273.058 1598.24 278.289 L1598.24 293.938 L1593.95 293.938 L1593.95 278.428 Q1593.95 274.702 1592.63 272.896 Q1591.32 271.09 1588.61 271.09 Q1585.3 271.09 1583.38 273.29 Q1581.45 275.489 1581.45 279.285 L1581.45 293.938 L1577.17 293.938 L1577.17 278.428 Q1577.17 274.678 1575.85 272.896 Q1574.53 271.09 1571.78 271.09 Q1568.51 271.09 1566.59 273.313 Q1564.67 275.512 1564.67 279.285 L1564.67 293.938 L1560.39 293.938 L1560.39 268.012 L1564.67 268.012 L1564.67 272.04 Q1566.13 269.655 1568.17 268.521 Q1570.2 267.387 1573.01 267.387 Q1575.83 267.387 1577.8 268.822 Q1579.79 270.257 1580.74 272.989 Z\" fill=\"#000000\" fill-rule=\"evenodd\" fill-opacity=\"1\" /><path clip-path=\"url(#clip880)\" d=\"M 0 0 M1606.82 290.049 L1606.82 303.799 L1602.54 303.799 L1602.54 268.012 L1606.82 268.012 L1606.82 271.947 Q1608.17 269.632 1610.2 268.521 Q1612.26 267.387 1615.11 267.387 Q1619.83 267.387 1622.77 271.137 Q1625.74 274.887 1625.74 280.998 Q1625.74 287.109 1622.77 290.859 Q1619.83 294.609 1615.11 294.609 Q1612.26 294.609 1610.2 293.498 Q1608.17 292.363 1606.82 290.049 M1621.31 280.998 Q1621.31 276.299 1619.37 273.637 Q1617.45 270.952 1614.07 270.952 Q1610.69 270.952 1608.75 273.637 Q1606.82 276.299 1606.82 280.998 Q1606.82 285.697 1608.75 288.382 Q1610.69 291.044 1614.07 291.044 Q1617.45 291.044 1619.37 288.382 Q1621.31 285.697 1621.31 280.998 Z\" fill=\"#000000\" fill-rule=\"evenodd\" fill-opacity=\"1\" /><path clip-path=\"url(#clip880)\" d=\"M 0 0 M1634.42 260.651 L1634.42 268.012 L1643.19 268.012 L1643.19 271.322 L1634.42 271.322 L1634.42 285.396 Q1634.42 288.567 1635.27 289.47 Q1636.15 290.373 1638.81 290.373 L1643.19 290.373 L1643.19 293.938 L1638.81 293.938 Q1633.88 293.938 1632.01 292.109 Q1630.13 290.257 1630.13 285.396 L1630.13 271.322 L1627.01 271.322 L1627.01 268.012 L1630.13 268.012 L1630.13 260.651 L1634.42 260.651 Z\" fill=\"#000000\" fill-rule=\"evenodd\" fill-opacity=\"1\" /><path clip-path=\"url(#clip880)\" d=\"M 0 0 M1657.7 270.998 Q1654.28 270.998 1652.29 273.683 Q1650.3 276.345 1650.3 280.998 Q1650.3 285.651 1652.26 288.336 Q1654.25 290.998 1657.7 290.998 Q1661.11 290.998 1663.1 288.313 Q1665.09 285.627 1665.09 280.998 Q1665.09 276.391 1663.1 273.706 Q1661.11 270.998 1657.7 270.998 M1657.7 267.387 Q1663.26 267.387 1666.43 270.998 Q1669.6 274.609 1669.6 280.998 Q1669.6 287.364 1666.43 290.998 Q1663.26 294.609 1657.7 294.609 Q1652.12 294.609 1648.95 290.998 Q1645.81 287.364 1645.81 280.998 Q1645.81 274.609 1648.95 270.998 Q1652.12 267.387 1657.7 267.387 Z\" fill=\"#000000\" fill-rule=\"evenodd\" fill-opacity=\"1\" /><path clip-path=\"url(#clip880)\" d=\"M 0 0 M1694.25 272.989 Q1695.85 270.118 1698.07 268.753 Q1700.3 267.387 1703.31 267.387 Q1707.36 267.387 1709.56 270.234 Q1711.75 273.058 1711.75 278.289 L1711.75 293.938 L1707.47 293.938 L1707.47 278.428 Q1707.47 274.702 1706.15 272.896 Q1704.83 271.09 1702.12 271.09 Q1698.81 271.09 1696.89 273.29 Q1694.97 275.489 1694.97 279.285 L1694.97 293.938 L1690.69 293.938 L1690.69 278.428 Q1690.69 274.678 1689.37 272.896 Q1688.05 271.09 1685.3 271.09 Q1682.03 271.09 1680.11 273.313 Q1678.19 275.512 1678.19 279.285 L1678.19 293.938 L1673.91 293.938 L1673.91 268.012 L1678.19 268.012 L1678.19 272.04 Q1679.65 269.655 1681.69 268.521 Q1683.72 267.387 1686.52 267.387 Q1689.35 267.387 1691.31 268.822 Q1693.31 270.257 1694.25 272.989 Z\" fill=\"#000000\" fill-rule=\"evenodd\" fill-opacity=\"1\" /><path clip-path=\"url(#clip880)\" d=\"M 0 0 M1741.34 270.998 Q1737.91 270.998 1735.92 273.683 Q1733.93 276.345 1733.93 280.998 Q1733.93 285.651 1735.9 288.336 Q1737.89 290.998 1741.34 290.998 Q1744.74 290.998 1746.73 288.313 Q1748.72 285.627 1748.72 280.998 Q1748.72 276.391 1746.73 273.706 Q1744.74 270.998 1741.34 270.998 M1741.34 267.387 Q1746.89 267.387 1750.06 270.998 Q1753.24 274.609 1753.24 280.998 Q1753.24 287.364 1750.06 290.998 Q1746.89 294.609 1741.34 294.609 Q1735.76 294.609 1732.59 290.998 Q1729.44 287.364 1729.44 280.998 Q1729.44 274.609 1732.59 270.998 Q1735.76 267.387 1741.34 267.387 Z\" fill=\"#000000\" fill-rule=\"evenodd\" fill-opacity=\"1\" /><path clip-path=\"url(#clip880)\" d=\"M 0 0 M1779.25 278.289 L1779.25 293.938 L1774.99 293.938 L1774.99 278.428 Q1774.99 274.748 1773.56 272.919 Q1772.12 271.09 1769.25 271.09 Q1765.8 271.09 1763.81 273.29 Q1761.82 275.489 1761.82 279.285 L1761.82 293.938 L1757.54 293.938 L1757.54 268.012 L1761.82 268.012 L1761.82 272.04 Q1763.35 269.702 1765.41 268.544 Q1767.49 267.387 1770.2 267.387 Q1774.67 267.387 1776.96 270.165 Q1779.25 272.919 1779.25 278.289 Z\" fill=\"#000000\" fill-rule=\"evenodd\" fill-opacity=\"1\" /><path clip-path=\"url(#clip880)\" d=\"M 0 0 M1800.25 268.776 L1800.25 272.803 Q1798.44 271.877 1796.5 271.415 Q1794.55 270.952 1792.47 270.952 Q1789.3 270.952 1787.7 271.924 Q1786.13 272.896 1786.13 274.84 Q1786.13 276.322 1787.26 277.178 Q1788.4 278.012 1791.82 278.776 L1793.28 279.1 Q1797.82 280.072 1799.72 281.854 Q1801.64 283.614 1801.64 286.785 Q1801.64 290.396 1798.77 292.502 Q1795.92 294.609 1790.92 294.609 Q1788.84 294.609 1786.57 294.192 Q1784.32 293.799 1781.82 292.988 L1781.82 288.59 Q1784.18 289.817 1786.48 290.442 Q1788.77 291.044 1791.01 291.044 Q1794.02 291.044 1795.64 290.026 Q1797.26 288.984 1797.26 287.109 Q1797.26 285.373 1796.08 284.447 Q1794.93 283.521 1790.97 282.664 L1789.49 282.317 Q1785.53 281.484 1783.77 279.771 Q1782.01 278.035 1782.01 275.026 Q1782.01 271.368 1784.6 269.378 Q1787.19 267.387 1791.96 267.387 Q1794.32 267.387 1796.41 267.734 Q1798.49 268.081 1800.25 268.776 Z\" fill=\"#000000\" fill-rule=\"evenodd\" fill-opacity=\"1\" /><path clip-path=\"url(#clip880)\" d=\"M 0 0 M1828.28 279.91 L1828.28 281.993 L1808.7 281.993 Q1808.98 286.391 1811.34 288.706 Q1813.72 290.998 1817.96 290.998 Q1820.41 290.998 1822.7 290.396 Q1825.02 289.794 1827.29 288.59 L1827.29 292.618 Q1824.99 293.59 1822.59 294.1 Q1820.18 294.609 1817.7 294.609 Q1811.5 294.609 1807.86 290.998 Q1804.25 287.387 1804.25 281.229 Q1804.25 274.864 1807.68 271.137 Q1811.13 267.387 1816.96 267.387 Q1822.19 267.387 1825.23 270.766 Q1828.28 274.123 1828.28 279.91 M1824.02 278.66 Q1823.98 275.165 1822.05 273.081 Q1820.16 270.998 1817.01 270.998 Q1813.44 270.998 1811.29 273.012 Q1809.16 275.026 1808.84 278.683 L1824.02 278.66 Z\" fill=\"#000000\" fill-rule=\"evenodd\" fill-opacity=\"1\" /><path clip-path=\"url(#clip880)\" d=\"M 0 0 M1836.96 260.651 L1836.96 268.012 L1845.74 268.012 L1845.74 271.322 L1836.96 271.322 L1836.96 285.396 Q1836.96 288.567 1837.82 289.47 Q1838.7 290.373 1841.36 290.373 L1845.74 290.373 L1845.74 293.938 L1841.36 293.938 Q1836.43 293.938 1834.55 292.109 Q1832.68 290.257 1832.68 285.396 L1832.68 271.322 L1829.55 271.322 L1829.55 268.012 L1832.68 268.012 L1832.68 260.651 L1836.96 260.651 Z\" fill=\"#000000\" fill-rule=\"evenodd\" fill-opacity=\"1\" /><polyline clip-path=\"url(#clip880)\" style=\"stroke:#c271d2; stroke-width:4; stroke-opacity:1; fill:none\" points=\"\n",
       "  1330.84,337.138 1480.22,337.138 \n",
       "  \"/>\n",
       "<path clip-path=\"url(#clip880)\" d=\"M 0 0 M1505.11 319.858 L1509.83 319.858 L1517.1 349.07 L1524.35 319.858 L1529.6 319.858 L1536.87 349.07 L1544.12 319.858 L1548.86 319.858 L1540.18 354.418 L1534.3 354.418 L1527.01 324.418 L1519.65 354.418 L1513.77 354.418 L1505.11 319.858 Z\" fill=\"#000000\" fill-rule=\"evenodd\" fill-opacity=\"1\" /><path clip-path=\"url(#clip880)\" d=\"M 0 0 M1552.29 328.492 L1556.55 328.492 L1556.55 354.418 L1552.29 354.418 L1552.29 328.492 M1552.29 318.399 L1556.55 318.399 L1556.55 323.793 L1552.29 323.793 L1552.29 318.399 Z\" fill=\"#000000\" fill-rule=\"evenodd\" fill-opacity=\"1\" /><path clip-path=\"url(#clip880)\" d=\"M 0 0 M1565.23 321.131 L1565.23 328.492 L1574 328.492 L1574 331.802 L1565.23 331.802 L1565.23 345.876 Q1565.23 349.047 1566.08 349.95 Q1566.96 350.853 1569.63 350.853 L1574 350.853 L1574 354.418 L1569.63 354.418 Q1564.69 354.418 1562.82 352.589 Q1560.94 350.737 1560.94 345.876 L1560.94 331.802 L1557.82 331.802 L1557.82 328.492 L1560.94 328.492 L1560.94 321.131 L1565.23 321.131 Z\" fill=\"#000000\" fill-rule=\"evenodd\" fill-opacity=\"1\" /><path clip-path=\"url(#clip880)\" d=\"M 0 0 M1600.02 338.769 L1600.02 354.418 L1595.76 354.418 L1595.76 338.908 Q1595.76 335.228 1594.32 333.399 Q1592.89 331.57 1590.02 331.57 Q1586.57 331.57 1584.58 333.77 Q1582.59 335.969 1582.59 339.765 L1582.59 354.418 L1578.31 354.418 L1578.31 318.399 L1582.59 318.399 L1582.59 332.52 Q1584.12 330.182 1586.18 329.024 Q1588.26 327.867 1590.97 327.867 Q1595.44 327.867 1597.73 330.645 Q1600.02 333.399 1600.02 338.769 Z\" fill=\"#000000\" fill-rule=\"evenodd\" fill-opacity=\"1\" /><path clip-path=\"url(#clip880)\" d=\"M 0 0 M1623.77 321.131 L1623.77 328.492 L1632.54 328.492 L1632.54 331.802 L1623.77 331.802 L1623.77 345.876 Q1623.77 349.047 1624.63 349.95 Q1625.5 350.853 1628.17 350.853 L1632.54 350.853 L1632.54 354.418 L1628.17 354.418 Q1623.24 354.418 1621.36 352.589 Q1619.49 350.737 1619.49 345.876 L1619.49 331.802 L1616.36 331.802 L1616.36 328.492 L1619.49 328.492 L1619.49 321.131 L1623.77 321.131 Z\" fill=\"#000000\" fill-rule=\"evenodd\" fill-opacity=\"1\" /><path clip-path=\"url(#clip880)\" d=\"M 0 0 M1659.19 340.39 L1659.19 342.473 L1639.6 342.473 Q1639.88 346.871 1642.24 349.186 Q1644.63 351.478 1648.86 351.478 Q1651.31 351.478 1653.61 350.876 Q1655.92 350.274 1658.19 349.07 L1658.19 353.098 Q1655.9 354.07 1653.49 354.58 Q1651.08 355.089 1648.61 355.089 Q1642.4 355.089 1638.77 351.478 Q1635.16 347.867 1635.16 341.709 Q1635.16 335.344 1638.58 331.617 Q1642.03 327.867 1647.87 327.867 Q1653.1 327.867 1656.13 331.246 Q1659.19 334.603 1659.19 340.39 M1654.93 339.14 Q1654.88 335.645 1652.96 333.561 Q1651.06 331.478 1647.91 331.478 Q1644.35 331.478 1642.19 333.492 Q1640.06 335.506 1639.74 339.163 L1654.93 339.14 Z\" fill=\"#000000\" fill-rule=\"evenodd\" fill-opacity=\"1\" /><path clip-path=\"url(#clip880)\" d=\"M 0 0 M1680.18 329.256 L1680.18 333.283 Q1678.37 332.357 1676.43 331.895 Q1674.49 331.432 1672.4 331.432 Q1669.23 331.432 1667.63 332.404 Q1666.06 333.376 1666.06 335.32 Q1666.06 336.802 1667.19 337.658 Q1668.33 338.492 1671.75 339.256 L1673.21 339.58 Q1677.75 340.552 1679.65 342.334 Q1681.57 344.094 1681.57 347.265 Q1681.57 350.876 1678.7 352.982 Q1675.85 355.089 1670.85 355.089 Q1668.77 355.089 1666.5 354.672 Q1664.25 354.279 1661.75 353.468 L1661.75 349.07 Q1664.12 350.297 1666.41 350.922 Q1668.7 351.524 1670.94 351.524 Q1673.95 351.524 1675.57 350.506 Q1677.19 349.464 1677.19 347.589 Q1677.19 345.853 1676.01 344.927 Q1674.86 344.001 1670.9 343.144 L1669.42 342.797 Q1665.46 341.964 1663.7 340.251 Q1661.94 338.515 1661.94 335.506 Q1661.94 331.848 1664.53 329.858 Q1667.12 327.867 1671.89 327.867 Q1674.25 327.867 1676.34 328.214 Q1678.42 328.561 1680.18 329.256 Z\" fill=\"#000000\" fill-rule=\"evenodd\" fill-opacity=\"1\" /><path clip-path=\"url(#clip880)\" d=\"M 0 0 M1690.25 321.131 L1690.25 328.492 L1699.02 328.492 L1699.02 331.802 L1690.25 331.802 L1690.25 345.876 Q1690.25 349.047 1691.11 349.95 Q1691.99 350.853 1694.65 350.853 L1699.02 350.853 L1699.02 354.418 L1694.65 354.418 Q1689.72 354.418 1687.84 352.589 Q1685.97 350.737 1685.97 345.876 L1685.97 331.802 L1682.84 331.802 L1682.84 328.492 L1685.97 328.492 L1685.97 321.131 L1690.25 321.131 Z\" fill=\"#000000\" fill-rule=\"evenodd\" fill-opacity=\"1\" /><path clip-path=\"url(#clip880)\" d=\"M 0 0 M1703.49 328.492 L1707.75 328.492 L1707.75 354.418 L1703.49 354.418 L1703.49 328.492 M1703.49 318.399 L1707.75 318.399 L1707.75 323.793 L1703.49 323.793 L1703.49 318.399 Z\" fill=\"#000000\" fill-rule=\"evenodd\" fill-opacity=\"1\" /><path clip-path=\"url(#clip880)\" d=\"M 0 0 M1733.77 338.769 L1733.77 354.418 L1729.51 354.418 L1729.51 338.908 Q1729.51 335.228 1728.07 333.399 Q1726.64 331.57 1723.77 331.57 Q1720.32 331.57 1718.33 333.77 Q1716.34 335.969 1716.34 339.765 L1716.34 354.418 L1712.06 354.418 L1712.06 328.492 L1716.34 328.492 L1716.34 332.52 Q1717.87 330.182 1719.93 329.024 Q1722.01 327.867 1724.72 327.867 Q1729.18 327.867 1731.48 330.645 Q1733.77 333.399 1733.77 338.769 Z\" fill=\"#000000\" fill-rule=\"evenodd\" fill-opacity=\"1\" /><path clip-path=\"url(#clip880)\" d=\"M 0 0 M1755.3 341.154 Q1755.3 336.524 1753.37 333.978 Q1751.48 331.432 1748.03 331.432 Q1744.6 331.432 1742.68 333.978 Q1740.78 336.524 1740.78 341.154 Q1740.78 345.76 1742.68 348.306 Q1744.6 350.853 1748.03 350.853 Q1751.48 350.853 1753.37 348.306 Q1755.3 345.76 1755.3 341.154 M1759.55 351.2 Q1759.55 357.82 1756.62 361.038 Q1753.68 364.279 1747.61 364.279 Q1745.37 364.279 1743.37 363.931 Q1741.38 363.607 1739.51 362.913 L1739.51 358.769 Q1741.38 359.788 1743.21 360.274 Q1745.04 360.76 1746.94 360.76 Q1751.13 360.76 1753.21 358.561 Q1755.3 356.385 1755.3 351.964 L1755.3 349.857 Q1753.98 352.149 1751.92 353.283 Q1749.86 354.418 1746.99 354.418 Q1742.22 354.418 1739.3 350.783 Q1736.38 347.149 1736.38 341.154 Q1736.38 335.135 1739.3 331.501 Q1742.22 327.867 1746.99 327.867 Q1749.86 327.867 1751.92 329.001 Q1753.98 330.135 1755.3 332.427 L1755.3 328.492 L1759.55 328.492 L1759.55 351.2 Z\" fill=\"#000000\" fill-rule=\"evenodd\" fill-opacity=\"1\" /></svg>\n"
      ]
     },
     "execution_count": 34,
     "metadata": {},
     "output_type": "execute_result"
    }
   ],
   "source": [
    "nh = rand(1:sim[\"Ntot\"])\n",
    "Plots.plot(sim[\"infection_profiles\"][nh],label=\"Baseline infectiousness\")\n",
    "if(sim[\"will_isolate\"][nh])\n",
    "    Plots.plot!(sim[\"infection_profiles_without_testing\"][nh],label=\"With chance of symptom isolation\")\n",
    "    Plots.plot!([sim[\"symp_day\"][nh]+1,sim[\"symp_day\"][nh]+1],\n",
    "            [0,ceil(max(sim[\"infection_profiles\"][nh]...))],\n",
    "            style=:dash,color=:black,label=\"Symptom onset\")\n",
    "end\n",
    "Plots.plot!(sim[\"infection_profiles_with_testing\"][nh],label=\"With testing\")"
   ]
  },
  {
   "cell_type": "markdown",
   "metadata": {},
   "source": [
    "# Default parameters\n",
    "\n",
    "The following parameters are defined as `const` in the code. When manually updating these\n",
    "be sure to restart the kernel and reload the module.\n",
    "\n",
    "## Viral load dynamics\n",
    "\n",
    "Onset time in days -- `Gamma(alpha_onset, 1/beta_onset)`\n",
    "\n",
    "Onset to peak viral load time in days -- `Gamma(alpha_peak, 1/beta_peak)`\n",
    "\n",
    "Peak viral load to LOD time in days -- `Gamma(alpha_decay_symp, 1/beta_decay)`\n",
    "\n",
    "Peak viral load to LOD time in days -- `Gamma(alpha_decay_asymp, 1/beta_decay)` \n",
    "\n",
    "Peak viral load in log10 copies/ml -- `Normal(peakVL_mean,peakVL_sd)`\n",
    "\n",
    "Viral load LOD in log10 copies/ml -- `VL_LOD_Kissler`"
   ]
  },
  {
   "cell_type": "code",
   "execution_count": 8,
   "metadata": {},
   "outputs": [
    {
     "name": "stdout",
     "output_type": "stream",
     "text": [
      "(1.0499999999999998, 0.7)\n",
      "(2.4499999999999997, 0.7)\n",
      "(3.15, 0.3)\n",
      "(2.01, 0.3)\n",
      "(7.533, 1.164)\n",
      "2.66\n"
     ]
    }
   ],
   "source": [
    "print(\"(\", alpha_onset, \", \", beta_onset, \")\\n\")\n",
    "print(\"(\", alpha_peak, \", \", beta_peak, \")\\n\")\n",
    "print(\"(\", alpha_decay_symp, \", \", beta_decay, \")\\n\")\n",
    "print(\"(\", alpha_decay_asymp, \", \", beta_decay, \")\\n\")\n",
    "print(\"(\", peakVL_mean,\", \", peakVL_sd, \")\\n\")\n",
    "print(VL_LOD_Kissler, \"\\n\")"
   ]
  },
  {
   "cell_type": "markdown",
   "metadata": {},
   "source": [
    "## Testing parameters\n",
    "\n",
    "Params for PCR positive vs. VL in log10 copies/ml -- `logistic_function(x, x0, k, ymax)`\n",
    "\n",
    "Params for LFD positive vs. VL in log10 copies/ml -- `probit_function(x, x0, std, ymax)`"
   ]
  },
  {
   "cell_type": "code",
   "execution_count": 9,
   "metadata": {},
   "outputs": [
    {
     "name": "stdout",
     "output_type": "stream",
     "text": [
      "(1.9333030852994555, 4.408, 0.85)\n",
      "(4.043283582089552, 0.3731343283582089, 0.75)\n"
     ]
    }
   ],
   "source": [
    "print(\"(\", PCR_VL0, \", \", PCR_VLdisp, \", \", PCR_sens_max, \")\\n\")\n",
    "print(\"(\", LFD_VLmean, \", \" , LFD_VLstd, \", \" , LFD_sens_max, \")\\n\")"
   ]
  },
  {
   "cell_type": "markdown",
   "metadata": {},
   "source": [
    "## Relationship between peak viral load and peak infectivity\n",
    "Mean relationship is `inf_dep`^(VL-`VL_ref`)\n",
    "\n",
    "Peak infectivity is then generated using a lognormal distributon with mean as above and sigma parameter `PIsigma`\n",
    "\n",
    "`inf_VL_cutoff` is the viral load, below which, an individual is assumed to not be infectious\n",
    "\n"
   ]
  },
  {
   "cell_type": "code",
   "execution_count": 10,
   "metadata": {},
   "outputs": [
    {
     "name": "stdout",
     "output_type": "stream",
     "text": [
      "(1.3, 7.533, 0.5)\n",
      "6.0\n"
     ]
    }
   ],
   "source": [
    "print(\"(\", inf_dep, \", \", VL_ref, \", \", PIsigma, \")\\n\")\n",
    "print(inf_VL_cutoff,'\\n')\n"
   ]
  },
  {
   "cell_type": "markdown",
   "metadata": {},
   "source": [
    "## Symptom onset characteristics\n",
    "\n",
    "`p_asymp` is the proportion of people who never develop symptoms\n",
    "\n",
    "symptom onset time is gamma distributed: `Gamma(symp_alpha, 1/symp_beta)`"
   ]
  },
  {
   "cell_type": "code",
   "execution_count": 11,
   "metadata": {},
   "outputs": [
    {
     "name": "stdout",
     "output_type": "stream",
     "text": [
      "0.5\n",
      "(3.4653254437869814, 0.7159763313609466)\n"
     ]
    }
   ],
   "source": [
    "print(p_asymp,\"\\n\")\n",
    "print(\"(\", symp_alpha, \", \", symp_beta, \")\\n\")"
   ]
  },
  {
   "cell_type": "markdown",
   "metadata": {},
   "source": [
    "# Other notes\n",
    "\n",
    "On first use, it may be necessary to uncomment the first 7 lines\n",
    "of code to install the required packages"
   ]
  }
 ],
 "metadata": {
  "kernelspec": {
   "display_name": "Julia 1.5.3",
   "language": "julia",
   "name": "julia-1.5"
  },
  "language_info": {
   "file_extension": ".jl",
   "mimetype": "application/julia",
   "name": "julia",
   "version": "1.5.3"
  }
 },
 "nbformat": 4,
 "nbformat_minor": 4
}
