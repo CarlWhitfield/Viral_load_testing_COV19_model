{
 "cells": [
  {
   "cell_type": "markdown",
   "metadata": {},
   "source": [
    "# Summary: \n",
    "\n",
    "The functions in this package are intended to represent the \n",
    "stochastic dynamics of viral load, infectivitiy, and test positivity\n",
    "in SARS-CoV-2 infections. Currently, these are parameterised using data from \n",
    "Kissler 2020 (DOI: 10.1101/2020.10.21.20217042). \n",
    "\n",
    "The parameter estimates still contain significant uncertainty ,and do\n",
    "not account for differences due to new variants or vaccines."
   ]
  },
  {
   "cell_type": "code",
   "execution_count": 1,
   "metadata": {},
   "outputs": [
    {
     "data": {
      "text/plain": [
       "run_testing_scenario (generic function with 2 methods)"
      ]
     },
     "execution_count": 1,
     "metadata": {},
     "output_type": "execute_result"
    }
   ],
   "source": [
    "include(\"src/viral_load_infectivity_testpos_v2.jl\")"
   ]
  },
  {
   "cell_type": "markdown",
   "metadata": {},
   "source": [
    "# Main Functions"
   ]
  },
  {
   "cell_type": "code",
   "execution_count": 2,
   "metadata": {},
   "outputs": [
    {
     "data": {
      "text/latex": [
       "\\begin{verbatim}\n",
       "init_VL_and_infectiousness(Ntot::Int, Pisol::Float64)\n",
       "\\end{verbatim}\n",
       "Randomly generate all viral load and infectivity data for a simulation\n",
       "\n",
       "\\subsection{Arguments:}\n",
       "\\texttt{Ntot} = Number of individuals to simulate \\texttt{Pisol} = Probability of self-isolation at symptom onset\n",
       "\n",
       "\\subsection{Returns:}\n",
       "\\texttt{Dict} = Container with generated parameters including:\n",
       "\n",
       "\\begin{verbatim}\n",
       "    \"Ntot\" => `Int` = Number of individuals in simulation (indexed 1:Ntot)\n",
       "\n",
       "    \"asymptomatic\" => `Array{Bool,1}` = Asymptomatic status for each individual\n",
       "\n",
       "    \"isolation_time\" => `Array{Int64,1}` = Day of isolation for each individual \n",
       "                                       (to be filled later)\n",
       "\n",
       "     \"will_isolate\" => `Array{Bool,1}` = Indicator of whether an individual will\n",
       "                                     isolate at symptom onset time\n",
       "    \n",
       "     \"VL_mag\" => `Array{Float64,1}` = Peak viral load for each individual\n",
       "\n",
       "     \"inf_mag\" => `Array{Float64,1}` = Peak infectivity for each individual\n",
       "\n",
       "     \"infection_profiles\" => `Array{Array{Float64,1},1}` = infectivity for each day\n",
       "                        since infection, for each individual\n",
       "\n",
       "     \"VL_profiles\" => `Array{Array{Float64,1},1}` = viral load for each day\n",
       "                        since infection, for each individual\n",
       "\n",
       "     \"days_infectious\" => `Array{Int64,1}` = Number of days spent with infectivity\n",
       "                                           > 0 for each individual\n",
       "\n",
       "      \"symp_day\" => `Array{Int64,1}` = Day at which individuals would isolate due to\n",
       "                                     symptom onset\n",
       "\n",
       "      \"non_isolators\" => `Array{Int64,1}` = Array of indices ofindividuals who would \n",
       "                                      refuse to isolate if they developed symptoms\n",
       "\\end{verbatim}\n"
      ],
      "text/markdown": [
       "```\n",
       "init_VL_and_infectiousness(Ntot::Int, Pisol::Float64)\n",
       "```\n",
       "\n",
       "Randomly generate all viral load and infectivity data for a simulation\n",
       "\n",
       "## Arguments:\n",
       "\n",
       "`Ntot` = Number of individuals to simulate `Pisol` = Probability of self-isolation at symptom onset\n",
       "\n",
       "## Returns:\n",
       "\n",
       "`Dict` = Container with generated parameters including:\n",
       "\n",
       "```\n",
       "    \"Ntot\" => `Int` = Number of individuals in simulation (indexed 1:Ntot)\n",
       "\n",
       "    \"asymptomatic\" => `Array{Bool,1}` = Asymptomatic status for each individual\n",
       "\n",
       "    \"isolation_time\" => `Array{Int64,1}` = Day of isolation for each individual \n",
       "                                       (to be filled later)\n",
       "\n",
       "     \"will_isolate\" => `Array{Bool,1}` = Indicator of whether an individual will\n",
       "                                     isolate at symptom onset time\n",
       "    \n",
       "     \"VL_mag\" => `Array{Float64,1}` = Peak viral load for each individual\n",
       "\n",
       "     \"inf_mag\" => `Array{Float64,1}` = Peak infectivity for each individual\n",
       "\n",
       "     \"infection_profiles\" => `Array{Array{Float64,1},1}` = infectivity for each day\n",
       "                        since infection, for each individual\n",
       "\n",
       "     \"VL_profiles\" => `Array{Array{Float64,1},1}` = viral load for each day\n",
       "                        since infection, for each individual\n",
       "\n",
       "     \"days_infectious\" => `Array{Int64,1}` = Number of days spent with infectivity\n",
       "                                           > 0 for each individual\n",
       "\n",
       "      \"symp_day\" => `Array{Int64,1}` = Day at which individuals would isolate due to\n",
       "                                     symptom onset\n",
       "\n",
       "      \"non_isolators\" => `Array{Int64,1}` = Array of indices ofindividuals who would \n",
       "                                      refuse to isolate if they developed symptoms\n",
       "```\n"
      ],
      "text/plain": [
       "\u001b[36m  init_VL_and_infectiousness(Ntot::Int, Pisol::Float64)\u001b[39m\n",
       "\n",
       "  Randomly generate all viral load and infectivity data for a simulation\n",
       "\n",
       "\u001b[1m  Arguments:\u001b[22m\n",
       "\u001b[1m  ============\u001b[22m\n",
       "\n",
       "  \u001b[36mNtot\u001b[39m = Number of individuals to simulate \u001b[36mPisol\u001b[39m = Probability of\n",
       "  self-isolation at symptom onset\n",
       "\n",
       "\u001b[1m  Returns:\u001b[22m\n",
       "\u001b[1m  ==========\u001b[22m\n",
       "\n",
       "  \u001b[36mDict\u001b[39m = Container with generated parameters including:\n",
       "\n",
       "\u001b[36m      \"Ntot\" => `Int` = Number of individuals in simulation (indexed 1:Ntot)\u001b[39m\n",
       "\u001b[36m  \u001b[39m\n",
       "\u001b[36m      \"asymptomatic\" => `Array{Bool,1}` = Asymptomatic status for each individual\u001b[39m\n",
       "\u001b[36m  \u001b[39m\n",
       "\u001b[36m      \"isolation_time\" => `Array{Int64,1}` = Day of isolation for each individual \u001b[39m\n",
       "\u001b[36m                                         (to be filled later)\u001b[39m\n",
       "\u001b[36m  \u001b[39m\n",
       "\u001b[36m       \"will_isolate\" => `Array{Bool,1}` = Indicator of whether an individual will\u001b[39m\n",
       "\u001b[36m                                       isolate at symptom onset time\u001b[39m\n",
       "\u001b[36m      \u001b[39m\n",
       "\u001b[36m       \"VL_mag\" => `Array{Float64,1}` = Peak viral load for each individual\u001b[39m\n",
       "\u001b[36m  \u001b[39m\n",
       "\u001b[36m       \"inf_mag\" => `Array{Float64,1}` = Peak infectivity for each individual\u001b[39m\n",
       "\u001b[36m  \u001b[39m\n",
       "\u001b[36m       \"infection_profiles\" => `Array{Array{Float64,1},1}` = infectivity for each day\u001b[39m\n",
       "\u001b[36m                          since infection, for each individual\u001b[39m\n",
       "\u001b[36m  \u001b[39m\n",
       "\u001b[36m       \"VL_profiles\" => `Array{Array{Float64,1},1}` = viral load for each day\u001b[39m\n",
       "\u001b[36m                          since infection, for each individual\u001b[39m\n",
       "\u001b[36m  \u001b[39m\n",
       "\u001b[36m       \"days_infectious\" => `Array{Int64,1}` = Number of days spent with infectivity\u001b[39m\n",
       "\u001b[36m                                             > 0 for each individual\u001b[39m\n",
       "\u001b[36m  \u001b[39m\n",
       "\u001b[36m        \"symp_day\" => `Array{Int64,1}` = Day at which individuals would isolate due to\u001b[39m\n",
       "\u001b[36m                                       symptom onset\u001b[39m\n",
       "\u001b[36m  \u001b[39m\n",
       "\u001b[36m        \"non_isolators\" => `Array{Int64,1}` = Array of indices ofindividuals who would \u001b[39m\n",
       "\u001b[36m                                        refuse to isolate if they developed symptoms\u001b[39m"
      ]
     },
     "execution_count": 2,
     "metadata": {},
     "output_type": "execute_result"
    }
   ],
   "source": [
    "@doc(init_VL_and_infectiousness)"
   ]
  },
  {
   "cell_type": "code",
   "execution_count": 3,
   "metadata": {},
   "outputs": [
    {
     "data": {
      "text/latex": [
       "\\begin{verbatim}\n",
       "init_testing!(sim::Dict, testing_params::Dict, i_day::Int, Ndays::Int)\n",
       "\\end{verbatim}\n",
       "Function to initialise test positive profiles and test isolation probabilities\n",
       "\n",
       "\\subsection{Arguments:}\n",
       "\\texttt{sim} = Dict generated by \\texttt{init\\_VL\\_and\\_infectiousness(Ntot::Int, Pisol::Float64)}\n",
       "\n",
       "\\texttt{testing\\_params} = Dict containing testing options, must have:\n",
       "\n",
       "\\begin{verbatim}\n",
       "\"new_comply_prob\" => `Float` = Probability that people who would not comply\n",
       "                   with symptom onset isolation, will comply with testing isolation\n",
       "\n",
       "\"tperiod\" => `Int` = Days between repeat tests\n",
       "\n",
       "\"protocol\" => `String` = Current available options are given by the parameters\n",
       "                        `PCR_mass_protocol` and `LFD_mass_protocol`\n",
       "\\end{verbatim}\n",
       "\\texttt{i\\_day} = Day to start simulation on (counting from 1)\n",
       "\n",
       "\\texttt{Ndays} = Total number of days to simulate (counting from 1)\n",
       "\n",
       "\\subsection{Returns:}\n",
       "\\texttt{Array\\{Int64,1\\}} = Days when testing will occur\n",
       "\n",
       "\\texttt{Int64} = Next testing day index (from \\texttt{i\\_day})\n",
       "\n",
       "\\subsection{See also:}\n",
       "\\texttt{init\\_VL\\_and\\_infectiousness(Ntot::Int, Pisol::Float64)}\n",
       "\n"
      ],
      "text/markdown": [
       "```\n",
       "init_testing!(sim::Dict, testing_params::Dict, i_day::Int, Ndays::Int)\n",
       "```\n",
       "\n",
       "Function to initialise test positive profiles and test isolation probabilities\n",
       "\n",
       "## Arguments:\n",
       "\n",
       "`sim` = Dict generated by `init_VL_and_infectiousness(Ntot::Int, Pisol::Float64)`\n",
       "\n",
       "`testing_params` = Dict containing testing options, must have:\n",
       "\n",
       "```\n",
       "\"new_comply_prob\" => `Float` = Probability that people who would not comply\n",
       "                   with symptom onset isolation, will comply with testing isolation\n",
       "\n",
       "\"tperiod\" => `Int` = Days between repeat tests\n",
       "\n",
       "\"protocol\" => `String` = Current available options are given by the parameters\n",
       "                        `PCR_mass_protocol` and `LFD_mass_protocol`\n",
       "```\n",
       "\n",
       "`i_day` = Day to start simulation on (counting from 1)\n",
       "\n",
       "`Ndays` = Total number of days to simulate (counting from 1)\n",
       "\n",
       "## Returns:\n",
       "\n",
       "`Array{Int64,1}` = Days when testing will occur\n",
       "\n",
       "`Int64` = Next testing day index (from `i_day`)\n",
       "\n",
       "## See also:\n",
       "\n",
       "`init_VL_and_infectiousness(Ntot::Int, Pisol::Float64)`\n"
      ],
      "text/plain": [
       "\u001b[36m  init_testing!(sim::Dict, testing_params::Dict, i_day::Int, Ndays::Int)\u001b[39m\n",
       "\n",
       "  Function to initialise test positive profiles and test isolation\n",
       "  probabilities\n",
       "\n",
       "\u001b[1m  Arguments:\u001b[22m\n",
       "\u001b[1m  ============\u001b[22m\n",
       "\n",
       "  \u001b[36msim\u001b[39m = Dict generated by \u001b[36minit_VL_and_infectiousness(Ntot::Int,\n",
       "  Pisol::Float64)\u001b[39m\n",
       "\n",
       "  \u001b[36mtesting_params\u001b[39m = Dict containing testing options, must have:\n",
       "\n",
       "\u001b[36m  \"new_comply_prob\" => `Float` = Probability that people who would not comply\u001b[39m\n",
       "\u001b[36m                     with symptom onset isolation, will comply with testing isolation\u001b[39m\n",
       "\u001b[36m  \u001b[39m\n",
       "\u001b[36m  \"tperiod\" => `Int` = Days between repeat tests\u001b[39m\n",
       "\u001b[36m  \u001b[39m\n",
       "\u001b[36m  \"protocol\" => `String` = Current available options are given by the parameters\u001b[39m\n",
       "\u001b[36m                          `PCR_mass_protocol` and `LFD_mass_protocol`\u001b[39m\n",
       "\n",
       "  \u001b[36mi_day\u001b[39m = Day to start simulation on (counting from 1)\n",
       "\n",
       "  \u001b[36mNdays\u001b[39m = Total number of days to simulate (counting from 1)\n",
       "\n",
       "\u001b[1m  Returns:\u001b[22m\n",
       "\u001b[1m  ==========\u001b[22m\n",
       "\n",
       "  \u001b[36mArray{Int64,1}\u001b[39m = Days when testing will occur\n",
       "\n",
       "  \u001b[36mInt64\u001b[39m = Next testing day index (from \u001b[36mi_day\u001b[39m)\n",
       "\n",
       "\u001b[1m  See also:\u001b[22m\n",
       "\u001b[1m  ===========\u001b[22m\n",
       "\n",
       "  \u001b[36minit_VL_and_infectiousness(Ntot::Int, Pisol::Float64)\u001b[39m"
      ]
     },
     "execution_count": 3,
     "metadata": {},
     "output_type": "execute_result"
    }
   ],
   "source": [
    "@doc(init_testing!)"
   ]
  },
  {
   "cell_type": "markdown",
   "metadata": {},
   "source": [
    "# Example usage:\n",
    "\n",
    "Generate a new simulation with 50 individuals and probability 0.8 that they self-isolate if they develop symptoms"
   ]
  },
  {
   "cell_type": "code",
   "execution_count": 4,
   "metadata": {},
   "outputs": [
    {
     "data": {
      "text/plain": [
       "Dict{String,Any} with 11 entries:\n",
       "  \"will_isolate\"       => Bool[0, 0, 1, 0, 0, 1, 0, 0, 1, 0  …  0, 0, 1, 0, 1, …\n",
       "  \"inf_mag\"            => [0.0, 0.0, 0.0, 0.0, 0.0, 0.0, 0.0, 0.0, 0.0, 0.0  … …\n",
       "  \"isolation_time\"     => [0, 0, 0, 0, 0, 0, 0, 0, 0, 0  …  0, 0, 0, 0, 0, 0, 0…\n",
       "  \"VL_mag\"             => [6.78262, 8.7074, 6.78472, 8.12891, 8.41178, 8.35582,…\n",
       "  \"Ntot\"               => 50\n",
       "  \"asymptomatic\"       => Bool[1, 1, 0, 0, 1, 0, 1, 1, 0, 1  …  1, 1, 0, 1, 0, …\n",
       "  \"non_isolators\"      => [4, 15, 20, 23, 30, 33, 36, 37, 39, 42, 47]\n",
       "  \"infection_profiles\" => [[0.0, 0.0, 0.0, 0.0, 0.0, 0.0, 0.0, 0.0, 0.160796, 1…\n",
       "  \"VL_profiles\"        => [[0.373418, 1.04813, 1.72285, 2.39756, 3.07228, 3.746…\n",
       "  \"symp_day\"           => [8, 23, 5, 8, 5, 2, 3, 5, 7, 9  …  4, 10, 1, 3, 3, 3,…\n",
       "  \"days_infectious\"    => [0, 0, 0, 0, 0, 0, 0, 0, 0, 0  …  0, 0, 0, 0, 0, 0, 0…"
      ]
     },
     "execution_count": 4,
     "metadata": {},
     "output_type": "execute_result"
    }
   ],
   "source": [
    "sim = init_VL_and_infectiousness(50, 0.8)"
   ]
  },
  {
   "cell_type": "markdown",
   "metadata": {},
   "source": [
    "Initialise repeat mass LFD testing every 3 days\n",
    "\n",
    "Assume 50% of people who would have ignored symptoms will isolate with a test (new_comply_prob)\n",
    "\n",
    "Calling `init_testing!` will add \"test_pos_profiles\" and \"will_isolate_with_test\" fields to sim"
   ]
  },
  {
   "cell_type": "code",
   "execution_count": 5,
   "metadata": {},
   "outputs": [
    {
     "data": {
      "text/plain": [
       "Dict{String,Any} with 16 entries:\n",
       "  \"will_isolate\"           => Bool[0, 0, 1, 0, 0, 1, 0, 0, 1, 0  …  0, 0, 1, 0,…\n",
       "  \"inf_mag\"                => [0.0, 0.0, 0.0, 0.0, 0.0, 0.0, 0.0, 0.0, 0.0, 0.0…\n",
       "  \"isolation_time\"         => [0, 0, 0, 0, 0, 0, 0, 0, 0, 0  …  0, 0, 0, 0, 0, …\n",
       "  \"will_isolate_with_test\" => Bool[1, 1, 1, 1, 1, 1, 1, 1, 1, 1  …  1, 1, 1, 1,…\n",
       "  \"test_protocol\"          => 2\n",
       "  \"testing_paused\"         => Bool[0, 0, 0, 0, 0, 0, 0, 0, 0, 0  …  0, 0, 0, 0,…\n",
       "  \"VL_mag\"                 => [6.78262, 8.7074, 6.78472, 8.12891, 8.41178, 8.35…\n",
       "  \"Ntot\"                   => 50\n",
       "  \"asymptomatic\"           => Bool[1, 1, 0, 0, 1, 0, 1, 1, 0, 1  …  1, 1, 0, 1,…\n",
       "  \"resume_testing\"         => [-1, -1, -1, -1, -1, -1, -1, -1, -1, -1  …  -1, -…\n",
       "  \"non_isolators\"          => [4, 15, 20, 23, 30, 33, 36, 37, 39, 42, 47]\n",
       "  \"infection_profiles\"     => [[0.0, 0.0, 0.0, 0.0, 0.0, 0.0, 0.0, 0.0, 0.16079…\n",
       "  \"VL_profiles\"            => [[0.373418, 1.04813, 1.72285, 2.39756, 3.07228, 3…\n",
       "  \"symp_day\"               => [8, 23, 5, 8, 5, 2, 3, 5, 7, 9  …  4, 10, 1, 3, 3…\n",
       "  \"test_pos_profiles\"      => [[0.0, 7.52579e-5, 0.0010769, 0.0210327, 0.082108…\n",
       "  \"days_infectious\"        => [0, 0, 0, 0, 0, 0, 0, 0, 0, 0  …  0, 0, 0, 0, 0, …"
      ]
     },
     "execution_count": 5,
     "metadata": {},
     "output_type": "execute_result"
    }
   ],
   "source": [
    "test_params = Dict(\"new_comply_prob\"=>0.5, \"tperiod\"=>3, \"protocol\"=>LFD_mass_protocol) \n",
    "i_day = 1    #everyone is infected on day 1\n",
    "Ndays = 20    #stop after 20 days\n",
    "test_days, test_counter = init_testing!(sim, test_params, i_day, Ndays)\n",
    "sim"
   ]
  },
  {
   "cell_type": "markdown",
   "metadata": {},
   "source": [
    "Now `test_days` contains a randomly generated a test pattern with 3 day intervals, and `test_counter` tells us which test day is next, based on the value of `i_day`\n",
    "\n",
    "We can use this to estimate how much a person's infectiousness is reduced by symptom isolation and test isolation\n",
    "by assuming that it drops to 0 when isolated."
   ]
  },
  {
   "cell_type": "code",
   "execution_count": 6,
   "metadata": {},
   "outputs": [],
   "source": [
    "isolation_period = 10 \n",
    "sim[\"isolation_time\"] = zeros(Int64,sim[\"Ntot\"])\n",
    "sim[\"infection_profiles_without_testing\"]  = copy(sim[\"infection_profiles\"])\n",
    "for n in 1:sim[\"Ntot\"]\n",
    "    sim[\"infection_profiles_without_testing\"][n] = copy(sim[\"infection_profiles\"][n])\n",
    "    for i in i_day:Ndays\n",
    "        if (sim[\"isolation_time\"][n] == 0) || (i > sim[\"isolation_time\"][n] + isolation_period)\n",
    "            if (sim[\"will_isolate\"][n]) && (i == sim[\"symp_day\"][n]+1)\n",
    "                last_day = min(i + isolation_period,length(sim[\"infection_profiles_without_testing\"][n]))\n",
    "                sim[\"infection_profiles_without_testing\"][n][i:last_day] .= 0\n",
    "                sim[\"isolation_time\"][n] = i\n",
    "            end\n",
    "        end\n",
    "    end\n",
    "end\n",
    "\n",
    "sim[\"isolation_time\"] = zeros(Int64,sim[\"Ntot\"])\n",
    "sim[\"infection_profiles_with_testing\"] = copy(sim[\"infection_profiles\"])\n",
    "for n in 1:sim[\"Ntot\"]\n",
    "    sim[\"infection_profiles_with_testing\"][n] = copy(sim[\"infection_profiles\"][n])\n",
    "    td = test_counter\n",
    "    for i in i_day:Ndays\n",
    "        if (sim[\"isolation_time\"][n] == 0) || (i > sim[\"isolation_time\"][n] + isolation_period)\n",
    "            if (sim[\"will_isolate\"][n]) && (i == sim[\"symp_day\"][n]+1)\n",
    "                last_day = min(i + isolation_period,length(sim[\"infection_profiles_without_testing\"][n]))\n",
    "                sim[\"infection_profiles_with_testing\"][n][i:last_day] .= 0\n",
    "                sim[\"isolation_time\"][n] = i\n",
    "            elseif i == test_days[td] \n",
    "                if i < length(sim[\"test_pos_profiles\"][n]) && rand() < sim[\"test_pos_profiles\"][n][i+1]\n",
    "                    last_day = min(i + isolation_period,length(sim[\"infection_profiles_with_testing\"][n]))\n",
    "                    sim[\"infection_profiles_with_testing\"][n][(i+1):last_day] .= 0\n",
    "                    sim[\"isolation_time\"][n] = i\n",
    "                end\n",
    "                td += 1\n",
    "            end\n",
    "        end\n",
    "    end\n",
    "end"
   ]
  },
  {
   "cell_type": "markdown",
   "metadata": {},
   "source": [
    "Plot random person's trajectory"
   ]
  },
  {
   "cell_type": "code",
   "execution_count": 37,
   "metadata": {},
   "outputs": [
    {
     "data": {
      "image/svg+xml": [
       "<?xml version=\"1.0\" encoding=\"utf-8\"?>\n",
       "<svg xmlns=\"http://www.w3.org/2000/svg\" xmlns:xlink=\"http://www.w3.org/1999/xlink\" width=\"600\" height=\"400\" viewBox=\"0 0 2400 1600\">\n",
       "<defs>\n",
       "  <clipPath id=\"clip930\">\n",
       "    <rect x=\"0\" y=\"0\" width=\"2400\" height=\"1600\"/>\n",
       "  </clipPath>\n",
       "</defs>\n",
       "<path clip-path=\"url(#clip930)\" d=\"\n",
       "M0 1600 L2400 1600 L2400 0 L0 0  Z\n",
       "  \" fill=\"#ffffff\" fill-rule=\"evenodd\" fill-opacity=\"1\"/>\n",
       "<defs>\n",
       "  <clipPath id=\"clip931\">\n",
       "    <rect x=\"480\" y=\"0\" width=\"1681\" height=\"1600\"/>\n",
       "  </clipPath>\n",
       "</defs>\n",
       "<path clip-path=\"url(#clip930)\" d=\"\n",
       "M174.862 1486.45 L2352.76 1486.45 L2352.76 47.2441 L174.862 47.2441  Z\n",
       "  \" fill=\"#ffffff\" fill-rule=\"evenodd\" fill-opacity=\"1\"/>\n",
       "<defs>\n",
       "  <clipPath id=\"clip932\">\n",
       "    <rect x=\"174\" y=\"47\" width=\"2179\" height=\"1440\"/>\n",
       "  </clipPath>\n",
       "</defs>\n",
       "<polyline clip-path=\"url(#clip932)\" style=\"stroke:#000000; stroke-width:2; stroke-opacity:0.1; fill:none\" points=\"\n",
       "  552.595,1486.45 552.595,47.2441 \n",
       "  \"/>\n",
       "<polyline clip-path=\"url(#clip932)\" style=\"stroke:#000000; stroke-width:2; stroke-opacity:0.1; fill:none\" points=\"\n",
       "  947.714,1486.45 947.714,47.2441 \n",
       "  \"/>\n",
       "<polyline clip-path=\"url(#clip932)\" style=\"stroke:#000000; stroke-width:2; stroke-opacity:0.1; fill:none\" points=\"\n",
       "  1342.83,1486.45 1342.83,47.2441 \n",
       "  \"/>\n",
       "<polyline clip-path=\"url(#clip932)\" style=\"stroke:#000000; stroke-width:2; stroke-opacity:0.1; fill:none\" points=\"\n",
       "  1737.95,1486.45 1737.95,47.2441 \n",
       "  \"/>\n",
       "<polyline clip-path=\"url(#clip932)\" style=\"stroke:#000000; stroke-width:2; stroke-opacity:0.1; fill:none\" points=\"\n",
       "  2133.07,1486.45 2133.07,47.2441 \n",
       "  \"/>\n",
       "<polyline clip-path=\"url(#clip930)\" style=\"stroke:#000000; stroke-width:4; stroke-opacity:1; fill:none\" points=\"\n",
       "  174.862,1486.45 2352.76,1486.45 \n",
       "  \"/>\n",
       "<polyline clip-path=\"url(#clip930)\" style=\"stroke:#000000; stroke-width:4; stroke-opacity:1; fill:none\" points=\"\n",
       "  552.595,1486.45 552.595,1469.18 \n",
       "  \"/>\n",
       "<polyline clip-path=\"url(#clip930)\" style=\"stroke:#000000; stroke-width:4; stroke-opacity:1; fill:none\" points=\"\n",
       "  947.714,1486.45 947.714,1469.18 \n",
       "  \"/>\n",
       "<polyline clip-path=\"url(#clip930)\" style=\"stroke:#000000; stroke-width:4; stroke-opacity:1; fill:none\" points=\"\n",
       "  1342.83,1486.45 1342.83,1469.18 \n",
       "  \"/>\n",
       "<polyline clip-path=\"url(#clip930)\" style=\"stroke:#000000; stroke-width:4; stroke-opacity:1; fill:none\" points=\"\n",
       "  1737.95,1486.45 1737.95,1469.18 \n",
       "  \"/>\n",
       "<polyline clip-path=\"url(#clip930)\" style=\"stroke:#000000; stroke-width:4; stroke-opacity:1; fill:none\" points=\"\n",
       "  2133.07,1486.45 2133.07,1469.18 \n",
       "  \"/>\n",
       "<path clip-path=\"url(#clip930)\" d=\"M 0 0 M542.873 1512.56 L561.23 1512.56 L561.23 1516.5 L547.156 1516.5 L547.156 1524.97 Q548.174 1524.62 549.193 1524.46 Q550.211 1524.27 551.23 1524.27 Q557.017 1524.27 560.396 1527.44 Q563.776 1530.62 563.776 1536.03 Q563.776 1541.61 560.304 1544.71 Q556.832 1547.79 550.512 1547.79 Q548.336 1547.79 546.068 1547.42 Q543.822 1547.05 541.415 1546.31 L541.415 1541.61 Q543.498 1542.74 545.72 1543.3 Q547.943 1543.86 550.42 1543.86 Q554.424 1543.86 556.762 1541.75 Q559.1 1539.64 559.1 1536.03 Q559.1 1532.42 556.762 1530.31 Q554.424 1528.21 550.42 1528.21 Q548.545 1528.21 546.67 1528.62 Q544.818 1529.04 542.873 1529.92 L542.873 1512.56 Z\" fill=\"#000000\" fill-rule=\"evenodd\" fill-opacity=\"1\" /><path clip-path=\"url(#clip930)\" d=\"M 0 0 M924.589 1543.18 L932.228 1543.18 L932.228 1516.82 L923.918 1518.49 L923.918 1514.23 L932.182 1512.56 L936.858 1512.56 L936.858 1543.18 L944.496 1543.18 L944.496 1547.12 L924.589 1547.12 L924.589 1543.18 Z\" fill=\"#000000\" fill-rule=\"evenodd\" fill-opacity=\"1\" /><path clip-path=\"url(#clip930)\" d=\"M 0 0 M959.566 1515.64 Q955.955 1515.64 954.126 1519.2 Q952.321 1522.75 952.321 1529.87 Q952.321 1536.98 954.126 1540.55 Q955.955 1544.09 959.566 1544.09 Q963.2 1544.09 965.006 1540.55 Q966.834 1536.98 966.834 1529.87 Q966.834 1522.75 965.006 1519.2 Q963.2 1515.64 959.566 1515.64 M959.566 1511.93 Q965.376 1511.93 968.432 1516.54 Q971.51 1521.12 971.51 1529.87 Q971.51 1538.6 968.432 1543.21 Q965.376 1547.79 959.566 1547.79 Q953.756 1547.79 950.677 1543.21 Q947.621 1538.6 947.621 1529.87 Q947.621 1521.12 950.677 1516.54 Q953.756 1511.93 959.566 1511.93 Z\" fill=\"#000000\" fill-rule=\"evenodd\" fill-opacity=\"1\" /><path clip-path=\"url(#clip930)\" d=\"M 0 0 M1320.21 1543.18 L1327.84 1543.18 L1327.84 1516.82 L1319.53 1518.49 L1319.53 1514.23 L1327.8 1512.56 L1332.47 1512.56 L1332.47 1543.18 L1340.11 1543.18 L1340.11 1547.12 L1320.21 1547.12 L1320.21 1543.18 Z\" fill=\"#000000\" fill-rule=\"evenodd\" fill-opacity=\"1\" /><path clip-path=\"url(#clip930)\" d=\"M 0 0 M1345.23 1512.56 L1363.58 1512.56 L1363.58 1516.5 L1349.51 1516.5 L1349.51 1524.97 Q1350.53 1524.62 1351.55 1524.46 Q1352.57 1524.27 1353.58 1524.27 Q1359.37 1524.27 1362.75 1527.44 Q1366.13 1530.62 1366.13 1536.03 Q1366.13 1541.61 1362.66 1544.71 Q1359.19 1547.79 1352.87 1547.79 Q1350.69 1547.79 1348.42 1547.42 Q1346.18 1547.05 1343.77 1546.31 L1343.77 1541.61 Q1345.85 1542.74 1348.08 1543.3 Q1350.3 1543.86 1352.77 1543.86 Q1356.78 1543.86 1359.12 1541.75 Q1361.46 1539.64 1361.46 1536.03 Q1361.46 1532.42 1359.12 1530.31 Q1356.78 1528.21 1352.77 1528.21 Q1350.9 1528.21 1349.02 1528.62 Q1347.17 1529.04 1345.23 1529.92 L1345.23 1512.56 Z\" fill=\"#000000\" fill-rule=\"evenodd\" fill-opacity=\"1\" /><path clip-path=\"url(#clip930)\" d=\"M 0 0 M1719.1 1543.18 L1735.42 1543.18 L1735.42 1547.12 L1713.47 1547.12 L1713.47 1543.18 Q1716.13 1540.43 1720.72 1535.8 Q1725.32 1531.15 1726.5 1529.81 Q1728.75 1527.28 1729.63 1525.55 Q1730.53 1523.79 1730.53 1522.1 Q1730.53 1519.34 1728.59 1517.61 Q1726.67 1515.87 1723.56 1515.87 Q1721.37 1515.87 1718.91 1516.63 Q1716.48 1517.4 1713.7 1518.95 L1713.7 1514.23 Q1716.53 1513.09 1718.98 1512.51 Q1721.44 1511.93 1723.47 1511.93 Q1728.84 1511.93 1732.04 1514.62 Q1735.23 1517.31 1735.23 1521.8 Q1735.23 1523.93 1734.42 1525.85 Q1733.63 1527.74 1731.53 1530.34 Q1730.95 1531.01 1727.85 1534.23 Q1724.75 1537.42 1719.1 1543.18 Z\" fill=\"#000000\" fill-rule=\"evenodd\" fill-opacity=\"1\" /><path clip-path=\"url(#clip930)\" d=\"M 0 0 M1750.49 1515.64 Q1746.87 1515.64 1745.05 1519.2 Q1743.24 1522.75 1743.24 1529.87 Q1743.24 1536.98 1745.05 1540.55 Q1746.87 1544.09 1750.49 1544.09 Q1754.12 1544.09 1755.93 1540.55 Q1757.75 1536.98 1757.75 1529.87 Q1757.75 1522.75 1755.93 1519.2 Q1754.12 1515.64 1750.49 1515.64 M1750.49 1511.93 Q1756.3 1511.93 1759.35 1516.54 Q1762.43 1521.12 1762.43 1529.87 Q1762.43 1538.6 1759.35 1543.21 Q1756.3 1547.79 1750.49 1547.79 Q1744.68 1547.79 1741.6 1543.21 Q1738.54 1538.6 1738.54 1529.87 Q1738.54 1521.12 1741.6 1516.54 Q1744.68 1511.93 1750.49 1511.93 Z\" fill=\"#000000\" fill-rule=\"evenodd\" fill-opacity=\"1\" /><path clip-path=\"url(#clip930)\" d=\"M 0 0 M2114.71 1543.18 L2131.03 1543.18 L2131.03 1547.12 L2109.09 1547.12 L2109.09 1543.18 Q2111.75 1540.43 2116.33 1535.8 Q2120.94 1531.15 2122.12 1529.81 Q2124.37 1527.28 2125.25 1525.55 Q2126.15 1523.79 2126.15 1522.1 Q2126.15 1519.34 2124.2 1517.61 Q2122.28 1515.87 2119.18 1515.87 Q2116.98 1515.87 2114.53 1516.63 Q2112.1 1517.4 2109.32 1518.95 L2109.32 1514.23 Q2112.14 1513.09 2114.6 1512.51 Q2117.05 1511.93 2119.09 1511.93 Q2124.46 1511.93 2127.65 1514.62 Q2130.85 1517.31 2130.85 1521.8 Q2130.85 1523.93 2130.04 1525.85 Q2129.25 1527.74 2127.14 1530.34 Q2126.57 1531.01 2123.46 1534.23 Q2120.36 1537.42 2114.71 1543.18 Z\" fill=\"#000000\" fill-rule=\"evenodd\" fill-opacity=\"1\" /><path clip-path=\"url(#clip930)\" d=\"M 0 0 M2136.15 1512.56 L2154.51 1512.56 L2154.51 1516.5 L2140.43 1516.5 L2140.43 1524.97 Q2141.45 1524.62 2142.47 1524.46 Q2143.49 1524.27 2144.51 1524.27 Q2150.29 1524.27 2153.67 1527.44 Q2157.05 1530.62 2157.05 1536.03 Q2157.05 1541.61 2153.58 1544.71 Q2150.11 1547.79 2143.79 1547.79 Q2141.61 1547.79 2139.34 1547.42 Q2137.1 1547.05 2134.69 1546.31 L2134.69 1541.61 Q2136.77 1542.74 2139 1543.3 Q2141.22 1543.86 2143.69 1543.86 Q2147.7 1543.86 2150.04 1541.75 Q2152.38 1539.64 2152.38 1536.03 Q2152.38 1532.42 2150.04 1530.31 Q2147.7 1528.21 2143.69 1528.21 Q2141.82 1528.21 2139.94 1528.62 Q2138.09 1529.04 2136.15 1529.92 L2136.15 1512.56 Z\" fill=\"#000000\" fill-rule=\"evenodd\" fill-opacity=\"1\" /><polyline clip-path=\"url(#clip932)\" style=\"stroke:#000000; stroke-width:2; stroke-opacity:0.1; fill:none\" points=\"\n",
       "  174.862,1445.72 2352.76,1445.72 \n",
       "  \"/>\n",
       "<polyline clip-path=\"url(#clip932)\" style=\"stroke:#000000; stroke-width:2; stroke-opacity:0.1; fill:none\" points=\"\n",
       "  174.862,1106.28 2352.76,1106.28 \n",
       "  \"/>\n",
       "<polyline clip-path=\"url(#clip932)\" style=\"stroke:#000000; stroke-width:2; stroke-opacity:0.1; fill:none\" points=\"\n",
       "  174.862,766.846 2352.76,766.846 \n",
       "  \"/>\n",
       "<polyline clip-path=\"url(#clip932)\" style=\"stroke:#000000; stroke-width:2; stroke-opacity:0.1; fill:none\" points=\"\n",
       "  174.862,427.411 2352.76,427.411 \n",
       "  \"/>\n",
       "<polyline clip-path=\"url(#clip932)\" style=\"stroke:#000000; stroke-width:2; stroke-opacity:0.1; fill:none\" points=\"\n",
       "  174.862,87.9763 2352.76,87.9763 \n",
       "  \"/>\n",
       "<polyline clip-path=\"url(#clip930)\" style=\"stroke:#000000; stroke-width:4; stroke-opacity:1; fill:none\" points=\"\n",
       "  174.862,1486.45 174.862,47.2441 \n",
       "  \"/>\n",
       "<polyline clip-path=\"url(#clip930)\" style=\"stroke:#000000; stroke-width:4; stroke-opacity:1; fill:none\" points=\"\n",
       "  174.862,1445.72 200.997,1445.72 \n",
       "  \"/>\n",
       "<polyline clip-path=\"url(#clip930)\" style=\"stroke:#000000; stroke-width:4; stroke-opacity:1; fill:none\" points=\"\n",
       "  174.862,1106.28 200.997,1106.28 \n",
       "  \"/>\n",
       "<polyline clip-path=\"url(#clip930)\" style=\"stroke:#000000; stroke-width:4; stroke-opacity:1; fill:none\" points=\"\n",
       "  174.862,766.846 200.997,766.846 \n",
       "  \"/>\n",
       "<polyline clip-path=\"url(#clip930)\" style=\"stroke:#000000; stroke-width:4; stroke-opacity:1; fill:none\" points=\"\n",
       "  174.862,427.411 200.997,427.411 \n",
       "  \"/>\n",
       "<polyline clip-path=\"url(#clip930)\" style=\"stroke:#000000; stroke-width:4; stroke-opacity:1; fill:none\" points=\"\n",
       "  174.862,87.9763 200.997,87.9763 \n",
       "  \"/>\n",
       "<path clip-path=\"url(#clip930)\" d=\"M 0 0 M62.9365 1431.51 Q59.3254 1431.51 57.4967 1435.08 Q55.6912 1438.62 55.6912 1445.75 Q55.6912 1452.86 57.4967 1456.42 Q59.3254 1459.96 62.9365 1459.96 Q66.5707 1459.96 68.3763 1456.42 Q70.205 1452.86 70.205 1445.75 Q70.205 1438.62 68.3763 1435.08 Q66.5707 1431.51 62.9365 1431.51 M62.9365 1427.81 Q68.7467 1427.81 71.8022 1432.42 Q74.8809 1437 74.8809 1445.75 Q74.8809 1454.48 71.8022 1459.08 Q68.7467 1463.67 62.9365 1463.67 Q57.1264 1463.67 54.0477 1459.08 Q50.9921 1454.48 50.9921 1445.75 Q50.9921 1437 54.0477 1432.42 Q57.1264 1427.81 62.9365 1427.81 Z\" fill=\"#000000\" fill-rule=\"evenodd\" fill-opacity=\"1\" /><path clip-path=\"url(#clip930)\" d=\"M 0 0 M79.9503 1457.12 L84.8345 1457.12 L84.8345 1463 L79.9503 1463 L79.9503 1457.12 Z\" fill=\"#000000\" fill-rule=\"evenodd\" fill-opacity=\"1\" /><path clip-path=\"url(#clip930)\" d=\"M 0 0 M99.9039 1431.51 Q96.2928 1431.51 94.4641 1435.08 Q92.6586 1438.62 92.6586 1445.75 Q92.6586 1452.86 94.4641 1456.42 Q96.2928 1459.96 99.9039 1459.96 Q103.538 1459.96 105.344 1456.42 Q107.172 1452.86 107.172 1445.75 Q107.172 1438.62 105.344 1435.08 Q103.538 1431.51 99.9039 1431.51 M99.9039 1427.81 Q105.714 1427.81 108.77 1432.42 Q111.848 1437 111.848 1445.75 Q111.848 1454.48 108.77 1459.08 Q105.714 1463.67 99.9039 1463.67 Q94.0937 1463.67 91.0151 1459.08 Q87.9595 1454.48 87.9595 1445.75 Q87.9595 1437 91.0151 1432.42 Q94.0937 1427.81 99.9039 1427.81 Z\" fill=\"#000000\" fill-rule=\"evenodd\" fill-opacity=\"1\" /><path clip-path=\"url(#clip930)\" d=\"M 0 0 M126.918 1431.51 Q123.307 1431.51 121.478 1435.08 Q119.672 1438.62 119.672 1445.75 Q119.672 1452.86 121.478 1456.42 Q123.307 1459.96 126.918 1459.96 Q130.552 1459.96 132.357 1456.42 Q134.186 1452.86 134.186 1445.75 Q134.186 1438.62 132.357 1435.08 Q130.552 1431.51 126.918 1431.51 M126.918 1427.81 Q132.728 1427.81 135.783 1432.42 Q138.862 1437 138.862 1445.75 Q138.862 1454.48 135.783 1459.08 Q132.728 1463.67 126.918 1463.67 Q121.107 1463.67 118.029 1459.08 Q114.973 1454.48 114.973 1445.75 Q114.973 1437 118.029 1432.42 Q121.107 1427.81 126.918 1427.81 Z\" fill=\"#000000\" fill-rule=\"evenodd\" fill-opacity=\"1\" /><path clip-path=\"url(#clip930)\" d=\"M 0 0 M65.5291 1092.08 Q61.918 1092.08 60.0893 1095.64 Q58.2838 1099.19 58.2838 1106.32 Q58.2838 1113.42 60.0893 1116.99 Q61.918 1120.53 65.5291 1120.53 Q69.1633 1120.53 70.9689 1116.99 Q72.7976 1113.42 72.7976 1106.32 Q72.7976 1099.19 70.9689 1095.64 Q69.1633 1092.08 65.5291 1092.08 M65.5291 1088.38 Q71.3392 1088.38 74.3948 1092.98 Q77.4735 1097.57 77.4735 1106.32 Q77.4735 1115.04 74.3948 1119.65 Q71.3392 1124.23 65.5291 1124.23 Q59.7189 1124.23 56.6402 1119.65 Q53.5847 1115.04 53.5847 1106.32 Q53.5847 1097.57 56.6402 1092.98 Q59.7189 1088.38 65.5291 1088.38 Z\" fill=\"#000000\" fill-rule=\"evenodd\" fill-opacity=\"1\" /><path clip-path=\"url(#clip930)\" d=\"M 0 0 M82.5429 1117.68 L87.4271 1117.68 L87.4271 1123.56 L82.5429 1123.56 L82.5429 1117.68 Z\" fill=\"#000000\" fill-rule=\"evenodd\" fill-opacity=\"1\" /><path clip-path=\"url(#clip930)\" d=\"M 0 0 M96.5243 1119.63 L112.844 1119.63 L112.844 1123.56 L90.8993 1123.56 L90.8993 1119.63 Q93.5613 1116.87 98.1447 1112.24 Q102.751 1107.59 103.932 1106.25 Q106.177 1103.72 107.057 1101.99 Q107.959 1100.23 107.959 1098.54 Q107.959 1095.78 106.015 1094.05 Q104.094 1092.31 100.992 1092.31 Q98.7928 1092.31 96.3391 1093.07 Q93.9086 1093.84 91.1308 1095.39 L91.1308 1090.67 Q93.9549 1089.53 96.4085 1088.95 Q98.8622 1088.38 100.899 1088.38 Q106.27 1088.38 109.464 1091.06 Q112.658 1093.75 112.658 1098.24 Q112.658 1100.37 111.848 1102.29 Q111.061 1104.19 108.955 1106.78 Q108.376 1107.45 105.274 1110.67 Q102.172 1113.86 96.5243 1119.63 Z\" fill=\"#000000\" fill-rule=\"evenodd\" fill-opacity=\"1\" /><path clip-path=\"url(#clip930)\" d=\"M 0 0 M117.959 1089 L136.316 1089 L136.316 1092.94 L122.242 1092.94 L122.242 1101.41 Q123.26 1101.06 124.279 1100.9 Q125.297 1100.71 126.316 1100.71 Q132.103 1100.71 135.482 1103.89 Q138.862 1107.06 138.862 1112.47 Q138.862 1118.05 135.39 1121.15 Q131.918 1124.23 125.598 1124.23 Q123.422 1124.23 121.154 1123.86 Q118.908 1123.49 116.501 1122.75 L116.501 1118.05 Q118.584 1119.19 120.807 1119.74 Q123.029 1120.3 125.506 1120.3 Q129.51 1120.3 131.848 1118.19 Q134.186 1116.08 134.186 1112.47 Q134.186 1108.86 131.848 1106.76 Q129.51 1104.65 125.506 1104.65 Q123.631 1104.65 121.756 1105.07 Q119.904 1105.48 117.959 1106.36 L117.959 1089 Z\" fill=\"#000000\" fill-rule=\"evenodd\" fill-opacity=\"1\" /><path clip-path=\"url(#clip930)\" d=\"M 0 0 M63.9319 752.645 Q60.3208 752.645 58.4921 756.209 Q56.6865 759.751 56.6865 766.881 Q56.6865 773.987 58.4921 777.552 Q60.3208 781.094 63.9319 781.094 Q67.5661 781.094 69.3717 777.552 Q71.2004 773.987 71.2004 766.881 Q71.2004 759.751 69.3717 756.209 Q67.5661 752.645 63.9319 752.645 M63.9319 748.941 Q69.742 748.941 72.7976 753.547 Q75.8763 758.131 75.8763 766.881 Q75.8763 775.608 72.7976 780.214 Q69.742 784.797 63.9319 784.797 Q58.1217 784.797 55.043 780.214 Q51.9875 775.608 51.9875 766.881 Q51.9875 758.131 55.043 753.547 Q58.1217 748.941 63.9319 748.941 Z\" fill=\"#000000\" fill-rule=\"evenodd\" fill-opacity=\"1\" /><path clip-path=\"url(#clip930)\" d=\"M 0 0 M80.9457 778.246 L85.8299 778.246 L85.8299 784.126 L80.9457 784.126 L80.9457 778.246 Z\" fill=\"#000000\" fill-rule=\"evenodd\" fill-opacity=\"1\" /><path clip-path=\"url(#clip930)\" d=\"M 0 0 M90.9456 749.566 L109.302 749.566 L109.302 753.501 L95.228 753.501 L95.228 761.973 Q96.2465 761.626 97.265 761.464 Q98.2835 761.279 99.3021 761.279 Q105.089 761.279 108.469 764.45 Q111.848 767.621 111.848 773.038 Q111.848 778.617 108.376 781.719 Q104.904 784.797 98.5845 784.797 Q96.4085 784.797 94.14 784.427 Q91.8947 784.057 89.4873 783.316 L89.4873 778.617 Q91.5706 779.751 93.7928 780.307 Q96.015 780.862 98.4919 780.862 Q102.496 780.862 104.834 778.756 Q107.172 776.649 107.172 773.038 Q107.172 769.427 104.834 767.321 Q102.496 765.214 98.4919 765.214 Q96.6169 765.214 94.7419 765.631 Q92.89 766.047 90.9456 766.927 L90.9456 749.566 Z\" fill=\"#000000\" fill-rule=\"evenodd\" fill-opacity=\"1\" /><path clip-path=\"url(#clip930)\" d=\"M 0 0 M126.918 752.645 Q123.307 752.645 121.478 756.209 Q119.672 759.751 119.672 766.881 Q119.672 773.987 121.478 777.552 Q123.307 781.094 126.918 781.094 Q130.552 781.094 132.357 777.552 Q134.186 773.987 134.186 766.881 Q134.186 759.751 132.357 756.209 Q130.552 752.645 126.918 752.645 M126.918 748.941 Q132.728 748.941 135.783 753.547 Q138.862 758.131 138.862 766.881 Q138.862 775.608 135.783 780.214 Q132.728 784.797 126.918 784.797 Q121.107 784.797 118.029 780.214 Q114.973 775.608 114.973 766.881 Q114.973 758.131 118.029 753.547 Q121.107 748.941 126.918 748.941 Z\" fill=\"#000000\" fill-rule=\"evenodd\" fill-opacity=\"1\" /><path clip-path=\"url(#clip930)\" d=\"M 0 0 M64.8346 413.21 Q61.2236 413.21 59.3949 416.775 Q57.5893 420.316 57.5893 427.446 Q57.5893 434.552 59.3949 438.117 Q61.2236 441.659 64.8346 441.659 Q68.4689 441.659 70.2744 438.117 Q72.1031 434.552 72.1031 427.446 Q72.1031 420.316 70.2744 416.775 Q68.4689 413.21 64.8346 413.21 M64.8346 409.506 Q70.6448 409.506 73.7003 414.113 Q76.779 418.696 76.779 427.446 Q76.779 436.173 73.7003 440.779 Q70.6448 445.362 64.8346 445.362 Q59.0245 445.362 55.9458 440.779 Q52.8903 436.173 52.8903 427.446 Q52.8903 418.696 55.9458 414.113 Q59.0245 409.506 64.8346 409.506 Z\" fill=\"#000000\" fill-rule=\"evenodd\" fill-opacity=\"1\" /><path clip-path=\"url(#clip930)\" d=\"M 0 0 M81.8484 438.812 L86.7327 438.812 L86.7327 444.691 L81.8484 444.691 L81.8484 438.812 Z\" fill=\"#000000\" fill-rule=\"evenodd\" fill-opacity=\"1\" /><path clip-path=\"url(#clip930)\" d=\"M 0 0 M90.6215 410.131 L112.844 410.131 L112.844 412.122 L100.297 444.691 L95.4132 444.691 L107.219 414.066 L90.6215 414.066 L90.6215 410.131 Z\" fill=\"#000000\" fill-rule=\"evenodd\" fill-opacity=\"1\" /><path clip-path=\"url(#clip930)\" d=\"M 0 0 M117.959 410.131 L136.316 410.131 L136.316 414.066 L122.242 414.066 L122.242 422.538 Q123.26 422.191 124.279 422.029 Q125.297 421.844 126.316 421.844 Q132.103 421.844 135.482 425.015 Q138.862 428.187 138.862 433.603 Q138.862 439.182 135.39 442.284 Q131.918 445.362 125.598 445.362 Q123.422 445.362 121.154 444.992 Q118.908 444.622 116.501 443.881 L116.501 439.182 Q118.584 440.316 120.807 440.872 Q123.029 441.427 125.506 441.427 Q129.51 441.427 131.848 439.321 Q134.186 437.214 134.186 433.603 Q134.186 429.992 131.848 427.886 Q129.51 425.779 125.506 425.779 Q123.631 425.779 121.756 426.196 Q119.904 426.613 117.959 427.492 L117.959 410.131 Z\" fill=\"#000000\" fill-rule=\"evenodd\" fill-opacity=\"1\" /><path clip-path=\"url(#clip930)\" d=\"M 0 0 M54.9736 101.321 L62.6124 101.321 L62.6124 74.9555 L54.3023 76.6222 L54.3023 72.3629 L62.5661 70.6963 L67.242 70.6963 L67.242 101.321 L74.8809 101.321 L74.8809 105.256 L54.9736 105.256 L54.9736 101.321 Z\" fill=\"#000000\" fill-rule=\"evenodd\" fill-opacity=\"1\" /><path clip-path=\"url(#clip930)\" d=\"M 0 0 M79.9503 99.3767 L84.8345 99.3767 L84.8345 105.256 L79.9503 105.256 L79.9503 99.3767 Z\" fill=\"#000000\" fill-rule=\"evenodd\" fill-opacity=\"1\" /><path clip-path=\"url(#clip930)\" d=\"M 0 0 M99.9039 73.775 Q96.2928 73.775 94.4641 77.3398 Q92.6586 80.8814 92.6586 88.011 Q92.6586 95.1174 94.4641 98.6822 Q96.2928 102.224 99.9039 102.224 Q103.538 102.224 105.344 98.6822 Q107.172 95.1174 107.172 88.011 Q107.172 80.8814 105.344 77.3398 Q103.538 73.775 99.9039 73.775 M99.9039 70.0713 Q105.714 70.0713 108.77 74.6777 Q111.848 79.261 111.848 88.011 Q111.848 96.7378 108.77 101.344 Q105.714 105.928 99.9039 105.928 Q94.0937 105.928 91.0151 101.344 Q87.9595 96.7378 87.9595 88.011 Q87.9595 79.261 91.0151 74.6777 Q94.0937 70.0713 99.9039 70.0713 Z\" fill=\"#000000\" fill-rule=\"evenodd\" fill-opacity=\"1\" /><path clip-path=\"url(#clip930)\" d=\"M 0 0 M126.918 73.775 Q123.307 73.775 121.478 77.3398 Q119.672 80.8814 119.672 88.011 Q119.672 95.1174 121.478 98.6822 Q123.307 102.224 126.918 102.224 Q130.552 102.224 132.357 98.6822 Q134.186 95.1174 134.186 88.011 Q134.186 80.8814 132.357 77.3398 Q130.552 73.775 126.918 73.775 M126.918 70.0713 Q132.728 70.0713 135.783 74.6777 Q138.862 79.261 138.862 88.011 Q138.862 96.7378 135.783 101.344 Q132.728 105.928 126.918 105.928 Q121.107 105.928 118.029 101.344 Q114.973 96.7378 114.973 88.011 Q114.973 79.261 118.029 74.6777 Q121.107 70.0713 126.918 70.0713 Z\" fill=\"#000000\" fill-rule=\"evenodd\" fill-opacity=\"1\" /><polyline clip-path=\"url(#clip932)\" style=\"stroke:#009af9; stroke-width:4; stroke-opacity:1; fill:none\" points=\"\n",
       "  236.501,1445.72 315.524,1445.72 394.548,1445.72 473.572,1445.72 552.595,1445.72 631.619,282.863 710.643,87.9763 789.667,87.9763 868.69,87.9763 947.714,87.9763 \n",
       "  1026.74,291.35 1105.76,1445.72 1184.79,1445.72 1263.81,1445.72 1342.83,1445.72 1421.86,1445.72 1500.88,1445.72 1579.9,1445.72 1658.93,1445.72 1737.95,1445.72 \n",
       "  1816.98,1445.72 1896,1445.72 1975.02,1445.72 2054.05,1445.72 2133.07,1445.72 2212.09,1445.72 2291.12,1445.72 \n",
       "  \"/>\n",
       "<polyline clip-path=\"url(#clip932)\" style=\"stroke:#e26f46; stroke-width:4; stroke-opacity:1; fill:none\" points=\"\n",
       "  236.501,1445.72 315.524,1445.72 394.548,1445.72 473.572,1445.72 552.595,1445.72 631.619,282.863 710.643,87.9763 789.667,87.9763 868.69,1445.72 947.714,1445.72 \n",
       "  1026.74,1445.72 1105.76,1445.72 1184.79,1445.72 1263.81,1445.72 1342.83,1445.72 1421.86,1445.72 1500.88,1445.72 1579.9,1445.72 1658.93,1445.72 1737.95,1445.72 \n",
       "  1816.98,1445.72 1896,1445.72 1975.02,1445.72 2054.05,1445.72 2133.07,1445.72 2212.09,1445.72 2291.12,1445.72 \n",
       "  \"/>\n",
       "<polyline clip-path=\"url(#clip932)\" style=\"stroke:#000000; stroke-width:4; stroke-opacity:1; fill:none\" stroke-dasharray=\"16, 10\" points=\"\n",
       "  868.69,1445.72 868.69,87.9763 \n",
       "  \"/>\n",
       "<polyline clip-path=\"url(#clip932)\" style=\"stroke:#c271d2; stroke-width:4; stroke-opacity:1; fill:none\" points=\"\n",
       "  236.501,1445.72 315.524,1445.72 394.548,1445.72 473.572,1445.72 552.595,1445.72 631.619,282.863 710.643,87.9763 789.667,1445.72 868.69,1445.72 947.714,1445.72 \n",
       "  1026.74,1445.72 1105.76,1445.72 1184.79,1445.72 1263.81,1445.72 1342.83,1445.72 1421.86,1445.72 1500.88,1445.72 1579.9,1445.72 1658.93,1445.72 1737.95,1445.72 \n",
       "  1816.98,1445.72 1896,1445.72 1975.02,1445.72 2054.05,1445.72 2133.07,1445.72 2212.09,1445.72 2291.12,1445.72 \n",
       "  \"/>\n",
       "<path clip-path=\"url(#clip930)\" d=\"\n",
       "M1315 397.618 L2280.16 397.618 L2280.16 95.2176 L1315 95.2176  Z\n",
       "  \" fill=\"#ffffff\" fill-rule=\"evenodd\" fill-opacity=\"1\"/>\n",
       "<polyline clip-path=\"url(#clip930)\" style=\"stroke:#000000; stroke-width:4; stroke-opacity:1; fill:none\" points=\"\n",
       "  1315,397.618 2280.16,397.618 2280.16,95.2176 1315,95.2176 1315,397.618 \n",
       "  \"/>\n",
       "<polyline clip-path=\"url(#clip930)\" style=\"stroke:#009af9; stroke-width:4; stroke-opacity:1; fill:none\" points=\"\n",
       "  1339.2,155.698 1484.4,155.698 \n",
       "  \"/>\n",
       "<path clip-path=\"url(#clip930)\" d=\"M 0 0 M1513.27 156.473 L1513.27 169.135 L1520.77 169.135 Q1524.54 169.135 1526.35 167.584 Q1528.18 166.01 1528.18 162.792 Q1528.18 159.552 1526.35 158.024 Q1524.54 156.473 1520.77 156.473 L1513.27 156.473 M1513.27 142.26 L1513.27 152.677 L1520.19 152.677 Q1523.62 152.677 1525.28 151.404 Q1526.97 150.107 1526.97 147.468 Q1526.97 144.853 1525.28 143.556 Q1523.62 142.26 1520.19 142.26 L1513.27 142.26 M1508.59 138.418 L1520.54 138.418 Q1525.89 138.418 1528.78 140.64 Q1531.67 142.862 1531.67 146.959 Q1531.67 150.13 1530.19 152.005 Q1528.71 153.88 1525.84 154.343 Q1529.29 155.084 1531.19 157.445 Q1533.11 159.783 1533.11 163.302 Q1533.11 167.931 1529.96 170.454 Q1526.81 172.978 1521 172.978 L1508.59 172.978 L1508.59 138.418 Z\" fill=\"#000000\" fill-rule=\"evenodd\" fill-opacity=\"1\" /><path clip-path=\"url(#clip930)\" d=\"M 0 0 M1549.36 159.945 Q1544.2 159.945 1542.21 161.126 Q1540.21 162.306 1540.21 165.154 Q1540.21 167.422 1541.7 168.765 Q1543.2 170.084 1545.77 170.084 Q1549.31 170.084 1551.44 167.584 Q1553.59 165.061 1553.59 160.894 L1553.59 159.945 L1549.36 159.945 M1557.85 158.186 L1557.85 172.978 L1553.59 172.978 L1553.59 169.042 Q1552.14 171.403 1549.96 172.538 Q1547.78 173.649 1544.64 173.649 Q1540.65 173.649 1538.29 171.427 Q1535.96 169.181 1535.96 165.431 Q1535.96 161.056 1538.87 158.834 Q1541.81 156.612 1547.62 156.612 L1553.59 156.612 L1553.59 156.195 Q1553.59 153.255 1551.65 151.658 Q1549.73 150.038 1546.23 150.038 Q1544.01 150.038 1541.9 150.57 Q1539.8 151.103 1537.85 152.167 L1537.85 148.232 Q1540.19 147.33 1542.39 146.89 Q1544.59 146.427 1546.67 146.427 Q1552.3 146.427 1555.08 149.343 Q1557.85 152.26 1557.85 158.186 Z\" fill=\"#000000\" fill-rule=\"evenodd\" fill-opacity=\"1\" /><path clip-path=\"url(#clip930)\" d=\"M 0 0 M1578.85 147.816 L1578.85 151.843 Q1577.04 150.917 1575.1 150.455 Q1573.15 149.992 1571.07 149.992 Q1567.9 149.992 1566.3 150.964 Q1564.73 151.936 1564.73 153.88 Q1564.73 155.362 1565.86 156.218 Q1567 157.052 1570.42 157.816 L1571.88 158.14 Q1576.42 159.112 1578.32 160.894 Q1580.24 162.654 1580.24 165.825 Q1580.24 169.436 1577.37 171.542 Q1574.52 173.649 1569.52 173.649 Q1567.44 173.649 1565.17 173.232 Q1562.92 172.839 1560.42 172.028 L1560.42 167.63 Q1562.78 168.857 1565.08 169.482 Q1567.37 170.084 1569.61 170.084 Q1572.62 170.084 1574.24 169.066 Q1575.86 168.024 1575.86 166.149 Q1575.86 164.413 1574.68 163.487 Q1573.52 162.561 1569.57 161.704 L1568.08 161.357 Q1564.13 160.524 1562.37 158.811 Q1560.61 157.075 1560.61 154.066 Q1560.61 150.408 1563.2 148.418 Q1565.79 146.427 1570.56 146.427 Q1572.92 146.427 1575.01 146.774 Q1577.09 147.121 1578.85 147.816 Z\" fill=\"#000000\" fill-rule=\"evenodd\" fill-opacity=\"1\" /><path clip-path=\"url(#clip930)\" d=\"M 0 0 M1606.88 158.95 L1606.88 161.033 L1587.3 161.033 Q1587.58 165.431 1589.94 167.746 Q1592.32 170.038 1596.56 170.038 Q1599.01 170.038 1601.3 169.436 Q1603.62 168.834 1605.89 167.63 L1605.89 171.658 Q1603.59 172.63 1601.19 173.14 Q1598.78 173.649 1596.3 173.649 Q1590.1 173.649 1586.46 170.038 Q1582.85 166.427 1582.85 160.269 Q1582.85 153.904 1586.28 150.177 Q1589.73 146.427 1595.56 146.427 Q1600.79 146.427 1603.83 149.806 Q1606.88 153.163 1606.88 158.95 M1602.62 157.7 Q1602.58 154.205 1600.65 152.121 Q1598.76 150.038 1595.61 150.038 Q1592.04 150.038 1589.89 152.052 Q1587.76 154.066 1587.44 157.723 L1602.62 157.7 Z\" fill=\"#000000\" fill-rule=\"evenodd\" fill-opacity=\"1\" /><path clip-path=\"url(#clip930)\" d=\"M 0 0 M1611.35 136.959 L1615.61 136.959 L1615.61 172.978 L1611.35 172.978 L1611.35 136.959 Z\" fill=\"#000000\" fill-rule=\"evenodd\" fill-opacity=\"1\" /><path clip-path=\"url(#clip930)\" d=\"M 0 0 M1620.08 147.052 L1624.33 147.052 L1624.33 172.978 L1620.08 172.978 L1620.08 147.052 M1620.08 136.959 L1624.33 136.959 L1624.33 142.353 L1620.08 142.353 L1620.08 136.959 Z\" fill=\"#000000\" fill-rule=\"evenodd\" fill-opacity=\"1\" /><path clip-path=\"url(#clip930)\" d=\"M 0 0 M1650.35 157.329 L1650.35 172.978 L1646.09 172.978 L1646.09 157.468 Q1646.09 153.788 1644.66 151.959 Q1643.22 150.13 1640.35 150.13 Q1636.9 150.13 1634.91 152.33 Q1632.92 154.529 1632.92 158.325 L1632.92 172.978 L1628.64 172.978 L1628.64 147.052 L1632.92 147.052 L1632.92 151.08 Q1634.45 148.742 1636.51 147.584 Q1638.59 146.427 1641.3 146.427 Q1645.77 146.427 1648.06 149.205 Q1650.35 151.959 1650.35 157.329 Z\" fill=\"#000000\" fill-rule=\"evenodd\" fill-opacity=\"1\" /><path clip-path=\"url(#clip930)\" d=\"M 0 0 M1677 158.95 L1677 161.033 L1657.41 161.033 Q1657.69 165.431 1660.05 167.746 Q1662.44 170.038 1666.67 170.038 Q1669.13 170.038 1671.42 169.436 Q1673.73 168.834 1676 167.63 L1676 171.658 Q1673.71 172.63 1671.3 173.14 Q1668.89 173.649 1666.42 173.649 Q1660.21 173.649 1656.58 170.038 Q1652.97 166.427 1652.97 160.269 Q1652.97 153.904 1656.39 150.177 Q1659.84 146.427 1665.68 146.427 Q1670.91 146.427 1673.94 149.806 Q1677 153.163 1677 158.95 M1672.74 157.7 Q1672.69 154.205 1670.77 152.121 Q1668.87 150.038 1665.72 150.038 Q1662.16 150.038 1660.01 152.052 Q1657.88 154.066 1657.55 157.723 L1672.74 157.7 Z\" fill=\"#000000\" fill-rule=\"evenodd\" fill-opacity=\"1\" /><path clip-path=\"url(#clip930)\" d=\"M 0 0 M1696.53 147.052 L1700.79 147.052 L1700.79 172.978 L1696.53 172.978 L1696.53 147.052 M1696.53 136.959 L1700.79 136.959 L1700.79 142.353 L1696.53 142.353 L1696.53 136.959 Z\" fill=\"#000000\" fill-rule=\"evenodd\" fill-opacity=\"1\" /><path clip-path=\"url(#clip930)\" d=\"M 0 0 M1726.81 157.329 L1726.81 172.978 L1722.55 172.978 L1722.55 157.468 Q1722.55 153.788 1721.12 151.959 Q1719.68 150.13 1716.81 150.13 Q1713.36 150.13 1711.37 152.33 Q1709.38 154.529 1709.38 158.325 L1709.38 172.978 L1705.1 172.978 L1705.1 147.052 L1709.38 147.052 L1709.38 151.08 Q1710.91 148.742 1712.97 147.584 Q1715.05 146.427 1717.76 146.427 Q1722.23 146.427 1724.52 149.205 Q1726.81 151.959 1726.81 157.329 Z\" fill=\"#000000\" fill-rule=\"evenodd\" fill-opacity=\"1\" /><path clip-path=\"url(#clip930)\" d=\"M 0 0 M1744.4 136.959 L1744.4 140.501 L1740.33 140.501 Q1738.04 140.501 1737.13 141.427 Q1736.26 142.353 1736.26 144.76 L1736.26 147.052 L1743.27 147.052 L1743.27 150.362 L1736.26 150.362 L1736.26 172.978 L1731.97 172.978 L1731.97 150.362 L1727.9 150.362 L1727.9 147.052 L1731.97 147.052 L1731.97 145.246 Q1731.97 140.918 1733.99 138.95 Q1736 136.959 1740.38 136.959 L1744.4 136.959 Z\" fill=\"#000000\" fill-rule=\"evenodd\" fill-opacity=\"1\" /><path clip-path=\"url(#clip930)\" d=\"M 0 0 M1771.05 158.95 L1771.05 161.033 L1751.46 161.033 Q1751.74 165.431 1754.1 167.746 Q1756.49 170.038 1760.72 170.038 Q1763.18 170.038 1765.47 169.436 Q1767.78 168.834 1770.05 167.63 L1770.05 171.658 Q1767.76 172.63 1765.35 173.14 Q1762.94 173.649 1760.47 173.649 Q1754.26 173.649 1750.63 170.038 Q1747.02 166.427 1747.02 160.269 Q1747.02 153.904 1750.44 150.177 Q1753.89 146.427 1759.73 146.427 Q1764.96 146.427 1767.99 149.806 Q1771.05 153.163 1771.05 158.95 M1766.79 157.7 Q1766.74 154.205 1764.82 152.121 Q1762.92 150.038 1759.77 150.038 Q1756.21 150.038 1754.06 152.052 Q1751.93 154.066 1751.6 157.723 L1766.79 157.7 Z\" fill=\"#000000\" fill-rule=\"evenodd\" fill-opacity=\"1\" /><path clip-path=\"url(#clip930)\" d=\"M 0 0 M1794.17 148.047 L1794.17 152.029 Q1792.37 151.033 1790.54 150.547 Q1788.73 150.038 1786.88 150.038 Q1782.74 150.038 1780.44 152.677 Q1778.15 155.292 1778.15 160.038 Q1778.15 164.783 1780.44 167.422 Q1782.74 170.038 1786.88 170.038 Q1788.73 170.038 1790.54 169.552 Q1792.37 169.042 1794.17 168.047 L1794.17 171.982 Q1792.39 172.816 1790.47 173.232 Q1788.57 173.649 1786.42 173.649 Q1780.56 173.649 1777.11 169.968 Q1773.66 166.288 1773.66 160.038 Q1773.66 153.695 1777.13 150.061 Q1780.63 146.427 1786.69 146.427 Q1788.66 146.427 1790.54 146.843 Q1792.41 147.237 1794.17 148.047 Z\" fill=\"#000000\" fill-rule=\"evenodd\" fill-opacity=\"1\" /><path clip-path=\"url(#clip930)\" d=\"M 0 0 M1802.85 139.691 L1802.85 147.052 L1811.63 147.052 L1811.63 150.362 L1802.85 150.362 L1802.85 164.436 Q1802.85 167.607 1803.71 168.51 Q1804.59 169.413 1807.25 169.413 L1811.63 169.413 L1811.63 172.978 L1807.25 172.978 Q1802.32 172.978 1800.44 171.149 Q1798.57 169.297 1798.57 164.436 L1798.57 150.362 L1795.44 150.362 L1795.44 147.052 L1798.57 147.052 L1798.57 139.691 L1802.85 139.691 Z\" fill=\"#000000\" fill-rule=\"evenodd\" fill-opacity=\"1\" /><path clip-path=\"url(#clip930)\" d=\"M 0 0 M1816.09 147.052 L1820.35 147.052 L1820.35 172.978 L1816.09 172.978 L1816.09 147.052 M1816.09 136.959 L1820.35 136.959 L1820.35 142.353 L1816.09 142.353 L1816.09 136.959 Z\" fill=\"#000000\" fill-rule=\"evenodd\" fill-opacity=\"1\" /><path clip-path=\"url(#clip930)\" d=\"M 0 0 M1834.87 150.038 Q1831.44 150.038 1829.45 152.723 Q1827.46 155.385 1827.46 160.038 Q1827.46 164.691 1829.43 167.376 Q1831.42 170.038 1834.87 170.038 Q1838.27 170.038 1840.26 167.353 Q1842.25 164.667 1842.25 160.038 Q1842.25 155.431 1840.26 152.746 Q1838.27 150.038 1834.87 150.038 M1834.87 146.427 Q1840.42 146.427 1843.59 150.038 Q1846.76 153.649 1846.76 160.038 Q1846.76 166.404 1843.59 170.038 Q1840.42 173.649 1834.87 173.649 Q1829.29 173.649 1826.12 170.038 Q1822.97 166.404 1822.97 160.038 Q1822.97 153.649 1826.12 150.038 Q1829.29 146.427 1834.87 146.427 Z\" fill=\"#000000\" fill-rule=\"evenodd\" fill-opacity=\"1\" /><path clip-path=\"url(#clip930)\" d=\"M 0 0 M1850.79 162.746 L1850.79 147.052 L1855.05 147.052 L1855.05 162.584 Q1855.05 166.265 1856.49 168.116 Q1857.92 169.945 1860.79 169.945 Q1864.24 169.945 1866.23 167.746 Q1868.25 165.547 1868.25 161.751 L1868.25 147.052 L1872.5 147.052 L1872.5 172.978 L1868.25 172.978 L1868.25 168.996 Q1866.69 171.357 1864.63 172.515 Q1862.6 173.649 1859.89 173.649 Q1855.42 173.649 1853.11 170.871 Q1850.79 168.093 1850.79 162.746 M1861.51 146.427 L1861.51 146.427 Z\" fill=\"#000000\" fill-rule=\"evenodd\" fill-opacity=\"1\" /><path clip-path=\"url(#clip930)\" d=\"M 0 0 M1893.5 147.816 L1893.5 151.843 Q1891.69 150.917 1889.75 150.455 Q1887.81 149.992 1885.72 149.992 Q1882.55 149.992 1880.95 150.964 Q1879.38 151.936 1879.38 153.88 Q1879.38 155.362 1880.51 156.218 Q1881.65 157.052 1885.07 157.816 L1886.53 158.14 Q1891.07 159.112 1892.97 160.894 Q1894.89 162.654 1894.89 165.825 Q1894.89 169.436 1892.02 171.542 Q1889.17 173.649 1884.17 173.649 Q1882.09 173.649 1879.82 173.232 Q1877.57 172.839 1875.07 172.028 L1875.07 167.63 Q1877.43 168.857 1879.73 169.482 Q1882.02 170.084 1884.26 170.084 Q1887.27 170.084 1888.89 169.066 Q1890.51 168.024 1890.51 166.149 Q1890.51 164.413 1889.33 163.487 Q1888.18 162.561 1884.22 161.704 L1882.74 161.357 Q1878.78 160.524 1877.02 158.811 Q1875.26 157.075 1875.26 154.066 Q1875.26 150.408 1877.85 148.418 Q1880.44 146.427 1885.21 146.427 Q1887.57 146.427 1889.66 146.774 Q1891.74 147.121 1893.5 147.816 Z\" fill=\"#000000\" fill-rule=\"evenodd\" fill-opacity=\"1\" /><path clip-path=\"url(#clip930)\" d=\"M 0 0 M1920.91 157.329 L1920.91 172.978 L1916.65 172.978 L1916.65 157.468 Q1916.65 153.788 1915.21 151.959 Q1913.78 150.13 1910.91 150.13 Q1907.46 150.13 1905.47 152.33 Q1903.48 154.529 1903.48 158.325 L1903.48 172.978 L1899.19 172.978 L1899.19 147.052 L1903.48 147.052 L1903.48 151.08 Q1905 148.742 1907.06 147.584 Q1909.15 146.427 1911.86 146.427 Q1916.32 146.427 1918.62 149.205 Q1920.91 151.959 1920.91 157.329 Z\" fill=\"#000000\" fill-rule=\"evenodd\" fill-opacity=\"1\" /><path clip-path=\"url(#clip930)\" d=\"M 0 0 M1947.55 158.95 L1947.55 161.033 L1927.97 161.033 Q1928.24 165.431 1930.61 167.746 Q1932.99 170.038 1937.23 170.038 Q1939.68 170.038 1941.97 169.436 Q1944.29 168.834 1946.55 167.63 L1946.55 171.658 Q1944.26 172.63 1941.86 173.14 Q1939.45 173.649 1936.97 173.649 Q1930.77 173.649 1927.13 170.038 Q1923.52 166.427 1923.52 160.269 Q1923.52 153.904 1926.95 150.177 Q1930.4 146.427 1936.23 146.427 Q1941.46 146.427 1944.49 149.806 Q1947.55 153.163 1947.55 158.95 M1943.29 157.7 Q1943.24 154.205 1941.32 152.121 Q1939.43 150.038 1936.28 150.038 Q1932.71 150.038 1930.56 152.052 Q1928.43 154.066 1928.11 157.723 L1943.29 157.7 Z\" fill=\"#000000\" fill-rule=\"evenodd\" fill-opacity=\"1\" /><path clip-path=\"url(#clip930)\" d=\"M 0 0 M1968.55 147.816 L1968.55 151.843 Q1966.74 150.917 1964.8 150.455 Q1962.85 149.992 1960.77 149.992 Q1957.6 149.992 1956 150.964 Q1954.43 151.936 1954.43 153.88 Q1954.43 155.362 1955.56 156.218 Q1956.69 157.052 1960.12 157.816 L1961.58 158.14 Q1966.12 159.112 1968.01 160.894 Q1969.93 162.654 1969.93 165.825 Q1969.93 169.436 1967.06 171.542 Q1964.22 173.649 1959.22 173.649 Q1957.13 173.649 1954.87 173.232 Q1952.62 172.839 1950.12 172.028 L1950.12 167.63 Q1952.48 168.857 1954.77 169.482 Q1957.06 170.084 1959.31 170.084 Q1962.32 170.084 1963.94 169.066 Q1965.56 168.024 1965.56 166.149 Q1965.56 164.413 1964.38 163.487 Q1963.22 162.561 1959.26 161.704 L1957.78 161.357 Q1953.82 160.524 1952.06 158.811 Q1950.3 157.075 1950.3 154.066 Q1950.3 150.408 1952.9 148.418 Q1955.49 146.427 1960.26 146.427 Q1962.62 146.427 1964.7 146.774 Q1966.79 147.121 1968.55 147.816 Z\" fill=\"#000000\" fill-rule=\"evenodd\" fill-opacity=\"1\" /><path clip-path=\"url(#clip930)\" d=\"M 0 0 M1990.93 147.816 L1990.93 151.843 Q1989.12 150.917 1987.18 150.455 Q1985.24 149.992 1983.15 149.992 Q1979.98 149.992 1978.38 150.964 Q1976.81 151.936 1976.81 153.88 Q1976.81 155.362 1977.94 156.218 Q1979.08 157.052 1982.5 157.816 L1983.96 158.14 Q1988.5 159.112 1990.4 160.894 Q1992.32 162.654 1992.32 165.825 Q1992.32 169.436 1989.45 171.542 Q1986.6 173.649 1981.6 173.649 Q1979.52 173.649 1977.25 173.232 Q1975 172.839 1972.5 172.028 L1972.5 167.63 Q1974.87 168.857 1977.16 169.482 Q1979.45 170.084 1981.69 170.084 Q1984.7 170.084 1986.32 169.066 Q1987.94 168.024 1987.94 166.149 Q1987.94 164.413 1986.76 163.487 Q1985.61 162.561 1981.65 161.704 L1980.17 161.357 Q1976.21 160.524 1974.45 158.811 Q1972.69 157.075 1972.69 154.066 Q1972.69 150.408 1975.28 148.418 Q1977.87 146.427 1982.64 146.427 Q1985 146.427 1987.09 146.774 Q1989.17 147.121 1990.93 147.816 Z\" fill=\"#000000\" fill-rule=\"evenodd\" fill-opacity=\"1\" /><polyline clip-path=\"url(#clip930)\" style=\"stroke:#e26f46; stroke-width:4; stroke-opacity:1; fill:none\" points=\"\n",
       "  1339.2,216.178 1484.4,216.178 \n",
       "  \"/>\n",
       "<path clip-path=\"url(#clip930)\" d=\"M 0 0 M1508.59 198.898 L1513.32 198.898 L1520.59 228.11 L1527.83 198.898 L1533.08 198.898 L1540.35 228.11 L1547.6 198.898 L1552.34 198.898 L1543.66 233.458 L1537.78 233.458 L1530.49 203.458 L1523.13 233.458 L1517.25 233.458 L1508.59 198.898 Z\" fill=\"#000000\" fill-rule=\"evenodd\" fill-opacity=\"1\" /><path clip-path=\"url(#clip930)\" d=\"M 0 0 M1555.77 207.532 L1560.03 207.532 L1560.03 233.458 L1555.77 233.458 L1555.77 207.532 M1555.77 197.439 L1560.03 197.439 L1560.03 202.833 L1555.77 202.833 L1555.77 197.439 Z\" fill=\"#000000\" fill-rule=\"evenodd\" fill-opacity=\"1\" /><path clip-path=\"url(#clip930)\" d=\"M 0 0 M1568.71 200.171 L1568.71 207.532 L1577.48 207.532 L1577.48 210.842 L1568.71 210.842 L1568.71 224.916 Q1568.71 228.087 1569.57 228.99 Q1570.45 229.893 1573.11 229.893 L1577.48 229.893 L1577.48 233.458 L1573.11 233.458 Q1568.18 233.458 1566.3 231.629 Q1564.43 229.777 1564.43 224.916 L1564.43 210.842 L1561.3 210.842 L1561.3 207.532 L1564.43 207.532 L1564.43 200.171 L1568.71 200.171 Z\" fill=\"#000000\" fill-rule=\"evenodd\" fill-opacity=\"1\" /><path clip-path=\"url(#clip930)\" d=\"M 0 0 M1603.5 217.809 L1603.5 233.458 L1599.24 233.458 L1599.24 217.948 Q1599.24 214.268 1597.81 212.439 Q1596.37 210.61 1593.5 210.61 Q1590.05 210.61 1588.06 212.81 Q1586.07 215.009 1586.07 218.805 L1586.07 233.458 L1581.79 233.458 L1581.79 197.439 L1586.07 197.439 L1586.07 211.56 Q1587.6 209.222 1589.66 208.064 Q1591.74 206.907 1594.45 206.907 Q1598.92 206.907 1601.21 209.685 Q1603.5 212.439 1603.5 217.809 Z\" fill=\"#000000\" fill-rule=\"evenodd\" fill-opacity=\"1\" /><path clip-path=\"url(#clip930)\" d=\"M 0 0 M1641.7 208.527 L1641.7 212.509 Q1639.89 211.513 1638.06 211.027 Q1636.26 210.518 1634.4 210.518 Q1630.26 210.518 1627.97 213.157 Q1625.68 215.772 1625.68 220.518 Q1625.68 225.263 1627.97 227.902 Q1630.26 230.518 1634.4 230.518 Q1636.26 230.518 1638.06 230.032 Q1639.89 229.522 1641.7 228.527 L1641.7 232.462 Q1639.91 233.296 1637.99 233.712 Q1636.09 234.129 1633.94 234.129 Q1628.08 234.129 1624.64 230.448 Q1621.19 226.768 1621.19 220.518 Q1621.19 214.175 1624.66 210.541 Q1628.15 206.907 1634.22 206.907 Q1636.19 206.907 1638.06 207.323 Q1639.94 207.717 1641.7 208.527 Z\" fill=\"#000000\" fill-rule=\"evenodd\" fill-opacity=\"1\" /><path clip-path=\"url(#clip930)\" d=\"M 0 0 M1667.71 217.809 L1667.71 233.458 L1663.45 233.458 L1663.45 217.948 Q1663.45 214.268 1662.02 212.439 Q1660.58 210.61 1657.71 210.61 Q1654.26 210.61 1652.27 212.81 Q1650.28 215.009 1650.28 218.805 L1650.28 233.458 L1646 233.458 L1646 197.439 L1650.28 197.439 L1650.28 211.56 Q1651.81 209.222 1653.87 208.064 Q1655.95 206.907 1658.66 206.907 Q1663.13 206.907 1665.42 209.685 Q1667.71 212.439 1667.71 217.809 Z\" fill=\"#000000\" fill-rule=\"evenodd\" fill-opacity=\"1\" /><path clip-path=\"url(#clip930)\" d=\"M 0 0 M1683.96 220.425 Q1678.8 220.425 1676.81 221.606 Q1674.82 222.786 1674.82 225.634 Q1674.82 227.902 1676.3 229.245 Q1677.81 230.564 1680.38 230.564 Q1683.92 230.564 1686.05 228.064 Q1688.2 225.541 1688.2 221.374 L1688.2 220.425 L1683.96 220.425 M1692.46 218.666 L1692.46 233.458 L1688.2 233.458 L1688.2 229.522 Q1686.74 231.883 1684.57 233.018 Q1682.39 234.129 1679.24 234.129 Q1675.26 234.129 1672.9 231.907 Q1670.56 229.661 1670.56 225.911 Q1670.56 221.536 1673.48 219.314 Q1676.42 217.092 1682.23 217.092 L1688.2 217.092 L1688.2 216.675 Q1688.2 213.735 1686.26 212.138 Q1684.33 210.518 1680.84 210.518 Q1678.62 210.518 1676.51 211.05 Q1674.4 211.583 1672.46 212.647 L1672.46 208.712 Q1674.8 207.81 1677 207.37 Q1679.2 206.907 1681.28 206.907 Q1686.9 206.907 1689.68 209.823 Q1692.46 212.74 1692.46 218.666 Z\" fill=\"#000000\" fill-rule=\"evenodd\" fill-opacity=\"1\" /><path clip-path=\"url(#clip930)\" d=\"M 0 0 M1718.48 217.809 L1718.48 233.458 L1714.22 233.458 L1714.22 217.948 Q1714.22 214.268 1712.78 212.439 Q1711.35 210.61 1708.48 210.61 Q1705.03 210.61 1703.04 212.81 Q1701.05 215.009 1701.05 218.805 L1701.05 233.458 L1696.76 233.458 L1696.76 207.532 L1701.05 207.532 L1701.05 211.56 Q1702.57 209.222 1704.63 208.064 Q1706.72 206.907 1709.43 206.907 Q1713.89 206.907 1716.19 209.685 Q1718.48 212.439 1718.48 217.809 Z\" fill=\"#000000\" fill-rule=\"evenodd\" fill-opacity=\"1\" /><path clip-path=\"url(#clip930)\" d=\"M 0 0 M1741.6 208.527 L1741.6 212.509 Q1739.8 211.513 1737.97 211.027 Q1736.16 210.518 1734.31 210.518 Q1730.17 210.518 1727.88 213.157 Q1725.58 215.772 1725.58 220.518 Q1725.58 225.263 1727.88 227.902 Q1730.17 230.518 1734.31 230.518 Q1736.16 230.518 1737.97 230.032 Q1739.8 229.522 1741.6 228.527 L1741.6 232.462 Q1739.82 233.296 1737.9 233.712 Q1736 234.129 1733.85 234.129 Q1727.99 234.129 1724.54 230.448 Q1721.09 226.768 1721.09 220.518 Q1721.09 214.175 1724.57 210.541 Q1728.06 206.907 1734.13 206.907 Q1736.09 206.907 1737.97 207.323 Q1739.84 207.717 1741.6 208.527 Z\" fill=\"#000000\" fill-rule=\"evenodd\" fill-opacity=\"1\" /><path clip-path=\"url(#clip930)\" d=\"M 0 0 M1768.25 219.43 L1768.25 221.513 L1748.66 221.513 Q1748.94 225.911 1751.3 228.226 Q1753.69 230.518 1757.92 230.518 Q1760.38 230.518 1762.67 229.916 Q1764.98 229.314 1767.25 228.11 L1767.25 232.138 Q1764.96 233.11 1762.55 233.62 Q1760.14 234.129 1757.67 234.129 Q1751.46 234.129 1747.83 230.518 Q1744.22 226.907 1744.22 220.749 Q1744.22 214.384 1747.64 210.657 Q1751.09 206.907 1756.93 206.907 Q1762.16 206.907 1765.19 210.286 Q1768.25 213.643 1768.25 219.43 M1763.99 218.18 Q1763.94 214.685 1762.02 212.601 Q1760.12 210.518 1756.97 210.518 Q1753.41 210.518 1751.26 212.532 Q1749.13 214.546 1748.8 218.203 L1763.99 218.18 Z\" fill=\"#000000\" fill-rule=\"evenodd\" fill-opacity=\"1\" /><path clip-path=\"url(#clip930)\" d=\"M 0 0 M1797.83 210.518 Q1794.4 210.518 1792.41 213.203 Q1790.42 215.865 1790.42 220.518 Q1790.42 225.171 1792.39 227.856 Q1794.38 230.518 1797.83 230.518 Q1801.23 230.518 1803.22 227.833 Q1805.21 225.147 1805.21 220.518 Q1805.21 215.911 1803.22 213.226 Q1801.23 210.518 1797.83 210.518 M1797.83 206.907 Q1803.38 206.907 1806.56 210.518 Q1809.73 214.129 1809.73 220.518 Q1809.73 226.884 1806.56 230.518 Q1803.38 234.129 1797.83 234.129 Q1792.25 234.129 1789.08 230.518 Q1785.93 226.884 1785.93 220.518 Q1785.93 214.129 1789.08 210.518 Q1792.25 206.907 1797.83 206.907 Z\" fill=\"#000000\" fill-rule=\"evenodd\" fill-opacity=\"1\" /><path clip-path=\"url(#clip930)\" d=\"M 0 0 M1827.32 197.439 L1827.32 200.981 L1823.25 200.981 Q1820.95 200.981 1820.05 201.907 Q1819.17 202.833 1819.17 205.24 L1819.17 207.532 L1826.19 207.532 L1826.19 210.842 L1819.17 210.842 L1819.17 233.458 L1814.89 233.458 L1814.89 210.842 L1810.81 210.842 L1810.81 207.532 L1814.89 207.532 L1814.89 205.726 Q1814.89 201.398 1816.9 199.43 Q1818.92 197.439 1823.29 197.439 L1827.32 197.439 Z\" fill=\"#000000\" fill-rule=\"evenodd\" fill-opacity=\"1\" /><path clip-path=\"url(#clip930)\" d=\"M 0 0 M1863.38 208.296 L1863.38 212.323 Q1861.58 211.397 1859.63 210.935 Q1857.69 210.472 1855.61 210.472 Q1852.44 210.472 1850.84 211.444 Q1849.26 212.416 1849.26 214.36 Q1849.26 215.842 1850.4 216.698 Q1851.53 217.532 1854.96 218.296 L1856.42 218.62 Q1860.95 219.592 1862.85 221.374 Q1864.77 223.134 1864.77 226.305 Q1864.77 229.916 1861.9 232.022 Q1859.06 234.129 1854.06 234.129 Q1851.97 234.129 1849.7 233.712 Q1847.46 233.319 1844.96 232.508 L1844.96 228.11 Q1847.32 229.337 1849.61 229.962 Q1851.9 230.564 1854.15 230.564 Q1857.16 230.564 1858.78 229.546 Q1860.4 228.504 1860.4 226.629 Q1860.4 224.893 1859.22 223.967 Q1858.06 223.041 1854.1 222.184 L1852.62 221.837 Q1848.66 221.004 1846.9 219.291 Q1845.14 217.555 1845.14 214.546 Q1845.14 210.888 1847.74 208.898 Q1850.33 206.907 1855.1 206.907 Q1857.46 206.907 1859.54 207.254 Q1861.62 207.601 1863.38 208.296 Z\" fill=\"#000000\" fill-rule=\"evenodd\" fill-opacity=\"1\" /><path clip-path=\"url(#clip930)\" d=\"M 0 0 M1880.03 235.865 Q1878.22 240.495 1876.51 241.907 Q1874.8 243.319 1871.93 243.319 L1868.52 243.319 L1868.52 239.754 L1871.02 239.754 Q1872.78 239.754 1873.75 238.92 Q1874.73 238.087 1875.91 234.985 L1876.67 233.041 L1866.19 207.532 L1870.7 207.532 L1878.8 227.809 L1886.9 207.532 L1891.42 207.532 L1880.03 235.865 Z\" fill=\"#000000\" fill-rule=\"evenodd\" fill-opacity=\"1\" /><path clip-path=\"url(#clip930)\" d=\"M 0 0 M1916.07 212.509 Q1917.67 209.638 1919.89 208.273 Q1922.11 206.907 1925.12 206.907 Q1929.17 206.907 1931.37 209.754 Q1933.57 212.578 1933.57 217.809 L1933.57 233.458 L1929.29 233.458 L1929.29 217.948 Q1929.29 214.222 1927.97 212.416 Q1926.65 210.61 1923.94 210.61 Q1920.63 210.61 1918.71 212.81 Q1916.79 215.009 1916.79 218.805 L1916.79 233.458 L1912.5 233.458 L1912.5 217.948 Q1912.5 214.198 1911.18 212.416 Q1909.87 210.61 1907.11 210.61 Q1903.85 210.61 1901.93 212.833 Q1900 215.032 1900 218.805 L1900 233.458 L1895.72 233.458 L1895.72 207.532 L1900 207.532 L1900 211.56 Q1901.46 209.175 1903.5 208.041 Q1905.54 206.907 1908.34 206.907 Q1911.16 206.907 1913.13 208.342 Q1915.12 209.777 1916.07 212.509 Z\" fill=\"#000000\" fill-rule=\"evenodd\" fill-opacity=\"1\" /><path clip-path=\"url(#clip930)\" d=\"M 0 0 M1942.16 229.569 L1942.16 243.319 L1937.87 243.319 L1937.87 207.532 L1942.16 207.532 L1942.16 211.467 Q1943.5 209.152 1945.54 208.041 Q1947.6 206.907 1950.44 206.907 Q1955.17 206.907 1958.11 210.657 Q1961.07 214.407 1961.07 220.518 Q1961.07 226.629 1958.11 230.379 Q1955.17 234.129 1950.44 234.129 Q1947.6 234.129 1945.54 233.018 Q1943.5 231.883 1942.16 229.569 M1956.65 220.518 Q1956.65 215.819 1954.7 213.157 Q1952.78 210.472 1949.4 210.472 Q1946.02 210.472 1944.08 213.157 Q1942.16 215.819 1942.16 220.518 Q1942.16 225.217 1944.08 227.902 Q1946.02 230.564 1949.4 230.564 Q1952.78 230.564 1954.7 227.902 Q1956.65 225.217 1956.65 220.518 Z\" fill=\"#000000\" fill-rule=\"evenodd\" fill-opacity=\"1\" /><path clip-path=\"url(#clip930)\" d=\"M 0 0 M1969.75 200.171 L1969.75 207.532 L1978.52 207.532 L1978.52 210.842 L1969.75 210.842 L1969.75 224.916 Q1969.75 228.087 1970.61 228.99 Q1971.49 229.893 1974.15 229.893 L1978.52 229.893 L1978.52 233.458 L1974.15 233.458 Q1969.22 233.458 1967.34 231.629 Q1965.47 229.777 1965.47 224.916 L1965.47 210.842 L1962.34 210.842 L1962.34 207.532 L1965.47 207.532 L1965.47 200.171 L1969.75 200.171 Z\" fill=\"#000000\" fill-rule=\"evenodd\" fill-opacity=\"1\" /><path clip-path=\"url(#clip930)\" d=\"M 0 0 M1993.04 210.518 Q1989.61 210.518 1987.62 213.203 Q1985.63 215.865 1985.63 220.518 Q1985.63 225.171 1987.6 227.856 Q1989.59 230.518 1993.04 230.518 Q1996.44 230.518 1998.43 227.833 Q2000.42 225.147 2000.42 220.518 Q2000.42 215.911 1998.43 213.226 Q1996.44 210.518 1993.04 210.518 M1993.04 206.907 Q1998.59 206.907 2001.76 210.518 Q2004.93 214.129 2004.93 220.518 Q2004.93 226.884 2001.76 230.518 Q1998.59 234.129 1993.04 234.129 Q1987.46 234.129 1984.29 230.518 Q1981.14 226.884 1981.14 220.518 Q1981.14 214.129 1984.29 210.518 Q1987.46 206.907 1993.04 206.907 Z\" fill=\"#000000\" fill-rule=\"evenodd\" fill-opacity=\"1\" /><path clip-path=\"url(#clip930)\" d=\"M 0 0 M2029.59 212.509 Q2031.18 209.638 2033.41 208.273 Q2035.63 206.907 2038.64 206.907 Q2042.69 206.907 2044.89 209.754 Q2047.09 212.578 2047.09 217.809 L2047.09 233.458 L2042.8 233.458 L2042.8 217.948 Q2042.8 214.222 2041.49 212.416 Q2040.17 210.61 2037.46 210.61 Q2034.15 210.61 2032.23 212.81 Q2030.3 215.009 2030.3 218.805 L2030.3 233.458 L2026.02 233.458 L2026.02 217.948 Q2026.02 214.198 2024.7 212.416 Q2023.38 210.61 2020.63 210.61 Q2017.36 210.61 2015.44 212.833 Q2013.52 215.032 2013.52 218.805 L2013.52 233.458 L2009.24 233.458 L2009.24 207.532 L2013.52 207.532 L2013.52 211.56 Q2014.98 209.175 2017.02 208.041 Q2019.05 206.907 2021.86 206.907 Q2024.68 206.907 2026.65 208.342 Q2028.64 209.777 2029.59 212.509 Z\" fill=\"#000000\" fill-rule=\"evenodd\" fill-opacity=\"1\" /><path clip-path=\"url(#clip930)\" d=\"M 0 0 M2066.62 207.532 L2070.88 207.532 L2070.88 233.458 L2066.62 233.458 L2066.62 207.532 M2066.62 197.439 L2070.88 197.439 L2070.88 202.833 L2066.62 202.833 L2066.62 197.439 Z\" fill=\"#000000\" fill-rule=\"evenodd\" fill-opacity=\"1\" /><path clip-path=\"url(#clip930)\" d=\"M 0 0 M2091.88 208.296 L2091.88 212.323 Q2090.07 211.397 2088.13 210.935 Q2086.18 210.472 2084.1 210.472 Q2080.93 210.472 2079.33 211.444 Q2077.76 212.416 2077.76 214.36 Q2077.76 215.842 2078.89 216.698 Q2080.03 217.532 2083.45 218.296 L2084.91 218.62 Q2089.45 219.592 2091.35 221.374 Q2093.27 223.134 2093.27 226.305 Q2093.27 229.916 2090.4 232.022 Q2087.55 234.129 2082.55 234.129 Q2080.47 234.129 2078.2 233.712 Q2075.95 233.319 2073.45 232.508 L2073.45 228.11 Q2075.81 229.337 2078.11 229.962 Q2080.4 230.564 2082.64 230.564 Q2085.65 230.564 2087.27 229.546 Q2088.89 228.504 2088.89 226.629 Q2088.89 224.893 2087.71 223.967 Q2086.55 223.041 2082.6 222.184 L2081.11 221.837 Q2077.16 221.004 2075.4 219.291 Q2073.64 217.555 2073.64 214.546 Q2073.64 210.888 2076.23 208.898 Q2078.82 206.907 2083.59 206.907 Q2085.95 206.907 2088.04 207.254 Q2090.12 207.601 2091.88 208.296 Z\" fill=\"#000000\" fill-rule=\"evenodd\" fill-opacity=\"1\" /><path clip-path=\"url(#clip930)\" d=\"M 0 0 M2107.78 210.518 Q2104.36 210.518 2102.36 213.203 Q2100.37 215.865 2100.37 220.518 Q2100.37 225.171 2102.34 227.856 Q2104.33 230.518 2107.78 230.518 Q2111.18 230.518 2113.17 227.833 Q2115.17 225.147 2115.17 220.518 Q2115.17 215.911 2113.17 213.226 Q2111.18 210.518 2107.78 210.518 M2107.78 206.907 Q2113.34 206.907 2116.51 210.518 Q2119.68 214.129 2119.68 220.518 Q2119.68 226.884 2116.51 230.518 Q2113.34 234.129 2107.78 234.129 Q2102.2 234.129 2099.03 230.518 Q2095.88 226.884 2095.88 220.518 Q2095.88 214.129 2099.03 210.518 Q2102.2 206.907 2107.78 206.907 Z\" fill=\"#000000\" fill-rule=\"evenodd\" fill-opacity=\"1\" /><path clip-path=\"url(#clip930)\" d=\"M 0 0 M2124.15 197.439 L2128.41 197.439 L2128.41 233.458 L2124.15 233.458 L2124.15 197.439 Z\" fill=\"#000000\" fill-rule=\"evenodd\" fill-opacity=\"1\" /><path clip-path=\"url(#clip930)\" d=\"M 0 0 M2144.66 220.425 Q2139.49 220.425 2137.5 221.606 Q2135.51 222.786 2135.51 225.634 Q2135.51 227.902 2136.99 229.245 Q2138.5 230.564 2141.07 230.564 Q2144.61 230.564 2146.74 228.064 Q2148.89 225.541 2148.89 221.374 L2148.89 220.425 L2144.66 220.425 M2153.15 218.666 L2153.15 233.458 L2148.89 233.458 L2148.89 229.522 Q2147.43 231.883 2145.26 233.018 Q2143.08 234.129 2139.93 234.129 Q2135.95 234.129 2133.59 231.907 Q2131.25 229.661 2131.25 225.911 Q2131.25 221.536 2134.17 219.314 Q2137.11 217.092 2142.92 217.092 L2148.89 217.092 L2148.89 216.675 Q2148.89 213.735 2146.95 212.138 Q2145.03 210.518 2141.53 210.518 Q2139.31 210.518 2137.2 211.05 Q2135.1 211.583 2133.15 212.647 L2133.15 208.712 Q2135.49 207.81 2137.69 207.37 Q2139.89 206.907 2141.97 206.907 Q2147.6 206.907 2150.37 209.823 Q2153.15 212.74 2153.15 218.666 Z\" fill=\"#000000\" fill-rule=\"evenodd\" fill-opacity=\"1\" /><path clip-path=\"url(#clip930)\" d=\"M 0 0 M2161.83 200.171 L2161.83 207.532 L2170.6 207.532 L2170.6 210.842 L2161.83 210.842 L2161.83 224.916 Q2161.83 228.087 2162.69 228.99 Q2163.57 229.893 2166.23 229.893 L2170.6 229.893 L2170.6 233.458 L2166.23 233.458 Q2161.3 233.458 2159.42 231.629 Q2157.55 229.777 2157.55 224.916 L2157.55 210.842 L2154.42 210.842 L2154.42 207.532 L2157.55 207.532 L2157.55 200.171 L2161.83 200.171 Z\" fill=\"#000000\" fill-rule=\"evenodd\" fill-opacity=\"1\" /><path clip-path=\"url(#clip930)\" d=\"M 0 0 M2175.07 207.532 L2179.33 207.532 L2179.33 233.458 L2175.07 233.458 L2175.07 207.532 M2175.07 197.439 L2179.33 197.439 L2179.33 202.833 L2175.07 202.833 L2175.07 197.439 Z\" fill=\"#000000\" fill-rule=\"evenodd\" fill-opacity=\"1\" /><path clip-path=\"url(#clip930)\" d=\"M 0 0 M2193.85 210.518 Q2190.42 210.518 2188.43 213.203 Q2186.44 215.865 2186.44 220.518 Q2186.44 225.171 2188.41 227.856 Q2190.4 230.518 2193.85 230.518 Q2197.25 230.518 2199.24 227.833 Q2201.23 225.147 2201.23 220.518 Q2201.23 215.911 2199.24 213.226 Q2197.25 210.518 2193.85 210.518 M2193.85 206.907 Q2199.4 206.907 2202.57 210.518 Q2205.74 214.129 2205.74 220.518 Q2205.74 226.884 2202.57 230.518 Q2199.4 234.129 2193.85 234.129 Q2188.27 234.129 2185.1 230.518 Q2181.95 226.884 2181.95 220.518 Q2181.95 214.129 2185.1 210.518 Q2188.27 206.907 2193.85 206.907 Z\" fill=\"#000000\" fill-rule=\"evenodd\" fill-opacity=\"1\" /><path clip-path=\"url(#clip930)\" d=\"M 0 0 M2231.76 217.809 L2231.76 233.458 L2227.5 233.458 L2227.5 217.948 Q2227.5 214.268 2226.07 212.439 Q2224.63 210.61 2221.76 210.61 Q2218.31 210.61 2216.32 212.81 Q2214.33 215.009 2214.33 218.805 L2214.33 233.458 L2210.05 233.458 L2210.05 207.532 L2214.33 207.532 L2214.33 211.56 Q2215.86 209.222 2217.92 208.064 Q2220 206.907 2222.71 206.907 Q2227.18 206.907 2229.47 209.685 Q2231.76 212.439 2231.76 217.809 Z\" fill=\"#000000\" fill-rule=\"evenodd\" fill-opacity=\"1\" /><polyline clip-path=\"url(#clip930)\" style=\"stroke:#000000; stroke-width:4; stroke-opacity:1; fill:none\" stroke-dasharray=\"16, 10\" points=\"\n",
       "  1339.2,276.658 1484.4,276.658 \n",
       "  \"/>\n",
       "<path clip-path=\"url(#clip930)\" d=\"M 0 0 M1530.84 260.512 L1530.84 265.072 Q1528.18 263.799 1525.82 263.174 Q1523.46 262.549 1521.26 262.549 Q1517.44 262.549 1515.35 264.03 Q1513.29 265.512 1513.29 268.243 Q1513.29 270.535 1514.66 271.715 Q1516.05 272.873 1519.89 273.59 L1522.71 274.169 Q1527.95 275.165 1530.42 277.688 Q1532.92 280.188 1532.92 284.401 Q1532.92 289.424 1529.54 292.016 Q1526.19 294.609 1519.68 294.609 Q1517.23 294.609 1514.45 294.053 Q1511.7 293.498 1508.73 292.41 L1508.73 287.595 Q1511.58 289.192 1514.31 290.002 Q1517.04 290.813 1519.68 290.813 Q1523.69 290.813 1525.86 289.239 Q1528.04 287.664 1528.04 284.748 Q1528.04 282.202 1526.46 280.766 Q1524.91 279.331 1521.35 278.614 L1518.5 278.058 Q1513.27 277.016 1510.93 274.794 Q1508.59 272.572 1508.59 268.614 Q1508.59 264.03 1511.81 261.391 Q1515.05 258.753 1520.72 258.753 Q1523.15 258.753 1525.68 259.192 Q1528.2 259.632 1530.84 260.512 Z\" fill=\"#000000\" fill-rule=\"evenodd\" fill-opacity=\"1\" /><path clip-path=\"url(#clip930)\" d=\"M 0 0 M1548.18 296.345 Q1546.37 300.975 1544.66 302.387 Q1542.95 303.799 1540.08 303.799 L1536.67 303.799 L1536.67 300.234 L1539.17 300.234 Q1540.93 300.234 1541.9 299.4 Q1542.88 298.567 1544.06 295.465 L1544.82 293.521 L1534.33 268.012 L1538.85 268.012 L1546.95 288.289 L1555.05 268.012 L1559.57 268.012 L1548.18 296.345 Z\" fill=\"#000000\" fill-rule=\"evenodd\" fill-opacity=\"1\" /><path clip-path=\"url(#clip930)\" d=\"M 0 0 M1584.22 272.989 Q1585.82 270.118 1588.04 268.753 Q1590.26 267.387 1593.27 267.387 Q1597.32 267.387 1599.52 270.234 Q1601.72 273.058 1601.72 278.289 L1601.72 293.938 L1597.44 293.938 L1597.44 278.428 Q1597.44 274.702 1596.12 272.896 Q1594.8 271.09 1592.09 271.09 Q1588.78 271.09 1586.86 273.29 Q1584.94 275.489 1584.94 279.285 L1584.94 293.938 L1580.65 293.938 L1580.65 278.428 Q1580.65 274.678 1579.33 272.896 Q1578.02 271.09 1575.26 271.09 Q1572 271.09 1570.08 273.313 Q1568.15 275.512 1568.15 279.285 L1568.15 293.938 L1563.87 293.938 L1563.87 268.012 L1568.15 268.012 L1568.15 272.04 Q1569.61 269.655 1571.65 268.521 Q1573.69 267.387 1576.49 267.387 Q1579.31 267.387 1581.28 268.822 Q1583.27 270.257 1584.22 272.989 Z\" fill=\"#000000\" fill-rule=\"evenodd\" fill-opacity=\"1\" /><path clip-path=\"url(#clip930)\" d=\"M 0 0 M1610.31 290.049 L1610.31 303.799 L1606.02 303.799 L1606.02 268.012 L1610.31 268.012 L1610.31 271.947 Q1611.65 269.632 1613.69 268.521 Q1615.75 267.387 1618.59 267.387 Q1623.32 267.387 1626.26 271.137 Q1629.22 274.887 1629.22 280.998 Q1629.22 287.109 1626.26 290.859 Q1623.32 294.609 1618.59 294.609 Q1615.75 294.609 1613.69 293.498 Q1611.65 292.363 1610.31 290.049 M1624.8 280.998 Q1624.8 276.299 1622.85 273.637 Q1620.93 270.952 1617.55 270.952 Q1614.17 270.952 1612.23 273.637 Q1610.31 276.299 1610.31 280.998 Q1610.31 285.697 1612.23 288.382 Q1614.17 291.044 1617.55 291.044 Q1620.93 291.044 1622.85 288.382 Q1624.8 285.697 1624.8 280.998 Z\" fill=\"#000000\" fill-rule=\"evenodd\" fill-opacity=\"1\" /><path clip-path=\"url(#clip930)\" d=\"M 0 0 M1637.9 260.651 L1637.9 268.012 L1646.67 268.012 L1646.67 271.322 L1637.9 271.322 L1637.9 285.396 Q1637.9 288.567 1638.76 289.47 Q1639.64 290.373 1642.3 290.373 L1646.67 290.373 L1646.67 293.938 L1642.3 293.938 Q1637.37 293.938 1635.49 292.109 Q1633.62 290.257 1633.62 285.396 L1633.62 271.322 L1630.49 271.322 L1630.49 268.012 L1633.62 268.012 L1633.62 260.651 L1637.9 260.651 Z\" fill=\"#000000\" fill-rule=\"evenodd\" fill-opacity=\"1\" /><path clip-path=\"url(#clip930)\" d=\"M 0 0 M1661.19 270.998 Q1657.76 270.998 1655.77 273.683 Q1653.78 276.345 1653.78 280.998 Q1653.78 285.651 1655.75 288.336 Q1657.74 290.998 1661.19 290.998 Q1664.59 290.998 1666.58 288.313 Q1668.57 285.627 1668.57 280.998 Q1668.57 276.391 1666.58 273.706 Q1664.59 270.998 1661.19 270.998 M1661.19 267.387 Q1666.74 267.387 1669.91 270.998 Q1673.08 274.609 1673.08 280.998 Q1673.08 287.364 1669.91 290.998 Q1666.74 294.609 1661.19 294.609 Q1655.61 294.609 1652.44 290.998 Q1649.29 287.364 1649.29 280.998 Q1649.29 274.609 1652.44 270.998 Q1655.61 267.387 1661.19 267.387 Z\" fill=\"#000000\" fill-rule=\"evenodd\" fill-opacity=\"1\" /><path clip-path=\"url(#clip930)\" d=\"M 0 0 M1697.74 272.989 Q1699.33 270.118 1701.56 268.753 Q1703.78 267.387 1706.79 267.387 Q1710.84 267.387 1713.04 270.234 Q1715.24 273.058 1715.24 278.289 L1715.24 293.938 L1710.95 293.938 L1710.95 278.428 Q1710.95 274.702 1709.63 272.896 Q1708.32 271.09 1705.61 271.09 Q1702.3 271.09 1700.38 273.29 Q1698.45 275.489 1698.45 279.285 L1698.45 293.938 L1694.17 293.938 L1694.17 278.428 Q1694.17 274.678 1692.85 272.896 Q1691.53 271.09 1688.78 271.09 Q1685.51 271.09 1683.59 273.313 Q1681.67 275.512 1681.67 279.285 L1681.67 293.938 L1677.39 293.938 L1677.39 268.012 L1681.67 268.012 L1681.67 272.04 Q1683.13 269.655 1685.17 268.521 Q1687.2 267.387 1690.01 267.387 Q1692.83 267.387 1694.8 268.822 Q1696.79 270.257 1697.74 272.989 Z\" fill=\"#000000\" fill-rule=\"evenodd\" fill-opacity=\"1\" /><path clip-path=\"url(#clip930)\" d=\"M 0 0 M1744.82 270.998 Q1741.39 270.998 1739.4 273.683 Q1737.41 276.345 1737.41 280.998 Q1737.41 285.651 1739.38 288.336 Q1741.37 290.998 1744.82 290.998 Q1748.22 290.998 1750.21 288.313 Q1752.2 285.627 1752.2 280.998 Q1752.2 276.391 1750.21 273.706 Q1748.22 270.998 1744.82 270.998 M1744.82 267.387 Q1750.38 267.387 1753.55 270.998 Q1756.72 274.609 1756.72 280.998 Q1756.72 287.364 1753.55 290.998 Q1750.38 294.609 1744.82 294.609 Q1739.24 294.609 1736.07 290.998 Q1732.92 287.364 1732.92 280.998 Q1732.92 274.609 1736.07 270.998 Q1739.24 267.387 1744.82 267.387 Z\" fill=\"#000000\" fill-rule=\"evenodd\" fill-opacity=\"1\" /><path clip-path=\"url(#clip930)\" d=\"M 0 0 M1782.74 278.289 L1782.74 293.938 L1778.48 293.938 L1778.48 278.428 Q1778.48 274.748 1777.04 272.919 Q1775.61 271.09 1772.74 271.09 Q1769.29 271.09 1767.3 273.29 Q1765.31 275.489 1765.31 279.285 L1765.31 293.938 L1761.02 293.938 L1761.02 268.012 L1765.31 268.012 L1765.31 272.04 Q1766.83 269.702 1768.89 268.544 Q1770.98 267.387 1773.69 267.387 Q1778.15 267.387 1780.44 270.165 Q1782.74 272.919 1782.74 278.289 Z\" fill=\"#000000\" fill-rule=\"evenodd\" fill-opacity=\"1\" /><path clip-path=\"url(#clip930)\" d=\"M 0 0 M1803.73 268.776 L1803.73 272.803 Q1801.93 271.877 1799.98 271.415 Q1798.04 270.952 1795.95 270.952 Q1792.78 270.952 1791.19 271.924 Q1789.61 272.896 1789.61 274.84 Q1789.61 276.322 1790.75 277.178 Q1791.88 278.012 1795.31 278.776 L1796.76 279.1 Q1801.3 280.072 1803.2 281.854 Q1805.12 283.614 1805.12 286.785 Q1805.12 290.396 1802.25 292.502 Q1799.4 294.609 1794.4 294.609 Q1792.32 294.609 1790.05 294.192 Q1787.81 293.799 1785.31 292.988 L1785.31 288.59 Q1787.67 289.817 1789.96 290.442 Q1792.25 291.044 1794.5 291.044 Q1797.5 291.044 1799.13 290.026 Q1800.75 288.984 1800.75 287.109 Q1800.75 285.373 1799.57 284.447 Q1798.41 283.521 1794.45 282.664 L1792.97 282.317 Q1789.01 281.484 1787.25 279.771 Q1785.49 278.035 1785.49 275.026 Q1785.49 271.368 1788.08 269.378 Q1790.68 267.387 1795.44 267.387 Q1797.81 267.387 1799.89 267.734 Q1801.97 268.081 1803.73 268.776 Z\" fill=\"#000000\" fill-rule=\"evenodd\" fill-opacity=\"1\" /><path clip-path=\"url(#clip930)\" d=\"M 0 0 M1831.76 279.91 L1831.76 281.993 L1812.18 281.993 Q1812.46 286.391 1814.82 288.706 Q1817.2 290.998 1821.44 290.998 Q1823.89 290.998 1826.19 290.396 Q1828.5 289.794 1830.77 288.59 L1830.77 292.618 Q1828.48 293.59 1826.07 294.1 Q1823.66 294.609 1821.19 294.609 Q1814.98 294.609 1811.35 290.998 Q1807.74 287.387 1807.74 281.229 Q1807.74 274.864 1811.16 271.137 Q1814.61 267.387 1820.44 267.387 Q1825.68 267.387 1828.71 270.766 Q1831.76 274.123 1831.76 279.91 M1827.5 278.66 Q1827.46 275.165 1825.54 273.081 Q1823.64 270.998 1820.49 270.998 Q1816.93 270.998 1814.77 273.012 Q1812.64 275.026 1812.32 278.683 L1827.5 278.66 Z\" fill=\"#000000\" fill-rule=\"evenodd\" fill-opacity=\"1\" /><path clip-path=\"url(#clip930)\" d=\"M 0 0 M1840.44 260.651 L1840.44 268.012 L1849.22 268.012 L1849.22 271.322 L1840.44 271.322 L1840.44 285.396 Q1840.44 288.567 1841.3 289.47 Q1842.18 290.373 1844.84 290.373 L1849.22 290.373 L1849.22 293.938 L1844.84 293.938 Q1839.91 293.938 1838.04 292.109 Q1836.16 290.257 1836.16 285.396 L1836.16 271.322 L1833.04 271.322 L1833.04 268.012 L1836.16 268.012 L1836.16 260.651 L1840.44 260.651 Z\" fill=\"#000000\" fill-rule=\"evenodd\" fill-opacity=\"1\" /><polyline clip-path=\"url(#clip930)\" style=\"stroke:#c271d2; stroke-width:4; stroke-opacity:1; fill:none\" points=\"\n",
       "  1339.2,337.138 1484.4,337.138 \n",
       "  \"/>\n",
       "<path clip-path=\"url(#clip930)\" d=\"M 0 0 M1508.59 319.858 L1513.32 319.858 L1520.59 349.07 L1527.83 319.858 L1533.08 319.858 L1540.35 349.07 L1547.6 319.858 L1552.34 319.858 L1543.66 354.418 L1537.78 354.418 L1530.49 324.418 L1523.13 354.418 L1517.25 354.418 L1508.59 319.858 Z\" fill=\"#000000\" fill-rule=\"evenodd\" fill-opacity=\"1\" /><path clip-path=\"url(#clip930)\" d=\"M 0 0 M1555.77 328.492 L1560.03 328.492 L1560.03 354.418 L1555.77 354.418 L1555.77 328.492 M1555.77 318.399 L1560.03 318.399 L1560.03 323.793 L1555.77 323.793 L1555.77 318.399 Z\" fill=\"#000000\" fill-rule=\"evenodd\" fill-opacity=\"1\" /><path clip-path=\"url(#clip930)\" d=\"M 0 0 M1568.71 321.131 L1568.71 328.492 L1577.48 328.492 L1577.48 331.802 L1568.71 331.802 L1568.71 345.876 Q1568.71 349.047 1569.57 349.95 Q1570.45 350.853 1573.11 350.853 L1577.48 350.853 L1577.48 354.418 L1573.11 354.418 Q1568.18 354.418 1566.3 352.589 Q1564.43 350.737 1564.43 345.876 L1564.43 331.802 L1561.3 331.802 L1561.3 328.492 L1564.43 328.492 L1564.43 321.131 L1568.71 321.131 Z\" fill=\"#000000\" fill-rule=\"evenodd\" fill-opacity=\"1\" /><path clip-path=\"url(#clip930)\" d=\"M 0 0 M1603.5 338.769 L1603.5 354.418 L1599.24 354.418 L1599.24 338.908 Q1599.24 335.228 1597.81 333.399 Q1596.37 331.57 1593.5 331.57 Q1590.05 331.57 1588.06 333.77 Q1586.07 335.969 1586.07 339.765 L1586.07 354.418 L1581.79 354.418 L1581.79 318.399 L1586.07 318.399 L1586.07 332.52 Q1587.6 330.182 1589.66 329.024 Q1591.74 327.867 1594.45 327.867 Q1598.92 327.867 1601.21 330.645 Q1603.5 333.399 1603.5 338.769 Z\" fill=\"#000000\" fill-rule=\"evenodd\" fill-opacity=\"1\" /><path clip-path=\"url(#clip930)\" d=\"M 0 0 M1627.25 321.131 L1627.25 328.492 L1636.02 328.492 L1636.02 331.802 L1627.25 331.802 L1627.25 345.876 Q1627.25 349.047 1628.11 349.95 Q1628.99 350.853 1631.65 350.853 L1636.02 350.853 L1636.02 354.418 L1631.65 354.418 Q1626.72 354.418 1624.84 352.589 Q1622.97 350.737 1622.97 345.876 L1622.97 331.802 L1619.84 331.802 L1619.84 328.492 L1622.97 328.492 L1622.97 321.131 L1627.25 321.131 Z\" fill=\"#000000\" fill-rule=\"evenodd\" fill-opacity=\"1\" /><path clip-path=\"url(#clip930)\" d=\"M 0 0 M1662.67 340.39 L1662.67 342.473 L1643.08 342.473 Q1643.36 346.871 1645.72 349.186 Q1648.11 351.478 1652.34 351.478 Q1654.8 351.478 1657.09 350.876 Q1659.4 350.274 1661.67 349.07 L1661.67 353.098 Q1659.38 354.07 1656.97 354.58 Q1654.57 355.089 1652.09 355.089 Q1645.89 355.089 1642.25 351.478 Q1638.64 347.867 1638.64 341.709 Q1638.64 335.344 1642.07 331.617 Q1645.51 327.867 1651.35 327.867 Q1656.58 327.867 1659.61 331.246 Q1662.67 334.603 1662.67 340.39 M1658.41 339.14 Q1658.36 335.645 1656.44 333.561 Q1654.54 331.478 1651.39 331.478 Q1647.83 331.478 1645.68 333.492 Q1643.55 335.506 1643.22 339.163 L1658.41 339.14 Z\" fill=\"#000000\" fill-rule=\"evenodd\" fill-opacity=\"1\" /><path clip-path=\"url(#clip930)\" d=\"M 0 0 M1683.66 329.256 L1683.66 333.283 Q1681.86 332.357 1679.91 331.895 Q1677.97 331.432 1675.89 331.432 Q1672.71 331.432 1671.12 332.404 Q1669.54 333.376 1669.54 335.32 Q1669.54 336.802 1670.68 337.658 Q1671.81 338.492 1675.24 339.256 L1676.7 339.58 Q1681.23 340.552 1683.13 342.334 Q1685.05 344.094 1685.05 347.265 Q1685.05 350.876 1682.18 352.982 Q1679.33 355.089 1674.33 355.089 Q1672.25 355.089 1669.98 354.672 Q1667.74 354.279 1665.24 353.468 L1665.24 349.07 Q1667.6 350.297 1669.89 350.922 Q1672.18 351.524 1674.43 351.524 Q1677.44 351.524 1679.06 350.506 Q1680.68 349.464 1680.68 347.589 Q1680.68 345.853 1679.5 344.927 Q1678.34 344.001 1674.38 343.144 L1672.9 342.797 Q1668.94 341.964 1667.18 340.251 Q1665.42 338.515 1665.42 335.506 Q1665.42 331.848 1668.01 329.858 Q1670.61 327.867 1675.38 327.867 Q1677.74 327.867 1679.82 328.214 Q1681.9 328.561 1683.66 329.256 Z\" fill=\"#000000\" fill-rule=\"evenodd\" fill-opacity=\"1\" /><path clip-path=\"url(#clip930)\" d=\"M 0 0 M1693.73 321.131 L1693.73 328.492 L1702.51 328.492 L1702.51 331.802 L1693.73 331.802 L1693.73 345.876 Q1693.73 349.047 1694.59 349.95 Q1695.47 350.853 1698.13 350.853 L1702.51 350.853 L1702.51 354.418 L1698.13 354.418 Q1693.2 354.418 1691.32 352.589 Q1689.45 350.737 1689.45 345.876 L1689.45 331.802 L1686.32 331.802 L1686.32 328.492 L1689.45 328.492 L1689.45 321.131 L1693.73 321.131 Z\" fill=\"#000000\" fill-rule=\"evenodd\" fill-opacity=\"1\" /><path clip-path=\"url(#clip930)\" d=\"M 0 0 M1706.97 328.492 L1711.23 328.492 L1711.23 354.418 L1706.97 354.418 L1706.97 328.492 M1706.97 318.399 L1711.23 318.399 L1711.23 323.793 L1706.97 323.793 L1706.97 318.399 Z\" fill=\"#000000\" fill-rule=\"evenodd\" fill-opacity=\"1\" /><path clip-path=\"url(#clip930)\" d=\"M 0 0 M1737.25 338.769 L1737.25 354.418 L1732.99 354.418 L1732.99 338.908 Q1732.99 335.228 1731.56 333.399 Q1730.12 331.57 1727.25 331.57 Q1723.8 331.57 1721.81 333.77 Q1719.82 335.969 1719.82 339.765 L1719.82 354.418 L1715.54 354.418 L1715.54 328.492 L1719.82 328.492 L1719.82 332.52 Q1721.35 330.182 1723.41 329.024 Q1725.49 327.867 1728.2 327.867 Q1732.67 327.867 1734.96 330.645 Q1737.25 333.399 1737.25 338.769 Z\" fill=\"#000000\" fill-rule=\"evenodd\" fill-opacity=\"1\" /><path clip-path=\"url(#clip930)\" d=\"M 0 0 M1758.78 341.154 Q1758.78 336.524 1756.86 333.978 Q1754.96 331.432 1751.51 331.432 Q1748.08 331.432 1746.16 333.978 Q1744.26 336.524 1744.26 341.154 Q1744.26 345.76 1746.16 348.306 Q1748.08 350.853 1751.51 350.853 Q1754.96 350.853 1756.86 348.306 Q1758.78 345.76 1758.78 341.154 M1763.04 351.2 Q1763.04 357.82 1760.1 361.038 Q1757.16 364.279 1751.09 364.279 Q1748.85 364.279 1746.86 363.931 Q1744.87 363.607 1742.99 362.913 L1742.99 358.769 Q1744.87 359.788 1746.69 360.274 Q1748.52 360.76 1750.42 360.76 Q1754.61 360.76 1756.69 358.561 Q1758.78 356.385 1758.78 351.964 L1758.78 349.857 Q1757.46 352.149 1755.4 353.283 Q1753.34 354.418 1750.47 354.418 Q1745.7 354.418 1742.78 350.783 Q1739.87 347.149 1739.87 341.154 Q1739.87 335.135 1742.78 331.501 Q1745.7 327.867 1750.47 327.867 Q1753.34 327.867 1755.4 329.001 Q1757.46 330.135 1758.78 332.427 L1758.78 328.492 L1763.04 328.492 L1763.04 351.2 Z\" fill=\"#000000\" fill-rule=\"evenodd\" fill-opacity=\"1\" /></svg>\n"
      ]
     },
     "execution_count": 37,
     "metadata": {},
     "output_type": "execute_result"
    }
   ],
   "source": [
    "nh = rand(1:sim[\"Ntot\"])\n",
    "Plots.plot(sim[\"infection_profiles\"][nh],label=\"Baseline infectiousness\")\n",
    "if(sim[\"will_isolate\"][nh])\n",
    "    Plots.plot!(sim[\"infection_profiles_without_testing\"][nh],label=\"With chance of symptom isolation\")\n",
    "    Plots.plot!([sim[\"symp_day\"][nh]+1,sim[\"symp_day\"][nh]+1],\n",
    "            [0,ceil(max(sim[\"infection_profiles\"][nh]...))],\n",
    "            style=:dash,color=:black,label=\"Symptom onset\")\n",
    "end\n",
    "Plots.plot!(sim[\"infection_profiles_with_testing\"][nh],label=\"With testing\")"
   ]
  },
  {
   "cell_type": "markdown",
   "metadata": {},
   "source": [
    "Using repeat testing scripts to reproduce previous results\n",
    "\n",
    "To simulate all repeat scenarios"
   ]
  },
  {
   "cell_type": "code",
   "execution_count": 39,
   "metadata": {},
   "outputs": [
    {
     "name": "stderr",
     "output_type": "stream",
     "text": [
      "WARNING: redefinition of constant scen_names. This may fail, cause incorrect answers, or produce other errors.\n"
     ]
    },
    {
     "data": {
      "text/latex": [
       "\\begin{verbatim}\n",
       "run_testing_scenarios_impact(Ntot::Int, Pisol::Float64, LFD_comply::Float64, \n",
       "                                  Conf_PCR::Bool; LFD_type::Int=1)\n",
       "\\end{verbatim}\n",
       "\\subsection{Arguments:}\n",
       "\\texttt{Ntot} = Number of profiles to generate \\texttt{LFD\\_comply} = probability of doing each LFD test \\texttt{Conf\\_PCR} = Do confirmatory PCR after positive LFD (if negative stop isolating early) \\texttt{LFD\\_type} = If 2 use lower sensitvity\n",
       "\n",
       "\\subsection{Returns:}\n",
       "\\texttt{sim\\_scens} = Array of Dicts, one for each scenario simulated \\texttt{sim\\_names} = Names of scenarios simulated\n",
       "\n"
      ],
      "text/markdown": [
       "```\n",
       "run_testing_scenarios_impact(Ntot::Int, Pisol::Float64, LFD_comply::Float64, \n",
       "                                  Conf_PCR::Bool; LFD_type::Int=1)\n",
       "```\n",
       "\n",
       "## Arguments:\n",
       "\n",
       "`Ntot` = Number of profiles to generate `LFD_comply` = probability of doing each LFD test `Conf_PCR` = Do confirmatory PCR after positive LFD (if negative stop isolating early) `LFD_type` = If 2 use lower sensitvity\n",
       "\n",
       "## Returns:\n",
       "\n",
       "`sim_scens` = Array of Dicts, one for each scenario simulated `sim_names` = Names of scenarios simulated\n"
      ],
      "text/plain": [
       "\u001b[36m  run_testing_scenarios_impact(Ntot::Int, Pisol::Float64, LFD_comply::Float64, \u001b[39m\n",
       "\u001b[36m                                    Conf_PCR::Bool; LFD_type::Int=1)\u001b[39m\n",
       "\n",
       "\u001b[1m  Arguments:\u001b[22m\n",
       "\u001b[1m  ============\u001b[22m\n",
       "\n",
       "  \u001b[36mNtot\u001b[39m = Number of profiles to generate \u001b[36mLFD_comply\u001b[39m = probability of doing each\n",
       "  LFD test \u001b[36mConf_PCR\u001b[39m = Do confirmatory PCR after positive LFD (if negative stop\n",
       "  isolating early) \u001b[36mLFD_type\u001b[39m = If 2 use lower sensitvity\n",
       "\n",
       "\u001b[1m  Returns:\u001b[22m\n",
       "\u001b[1m  ==========\u001b[22m\n",
       "\n",
       "  \u001b[36msim_scens\u001b[39m = Array of Dicts, one for each scenario simulated \u001b[36msim_names\u001b[39m =\n",
       "  Names of scenarios simulated"
      ]
     },
     "execution_count": 39,
     "metadata": {},
     "output_type": "execute_result"
    }
   ],
   "source": [
    "include(\"src/repeat_testing_scenarios.jl\")\n",
    "\n",
    "@doc(run_testing_scenarios_impact)"
   ]
  },
  {
   "cell_type": "markdown",
   "metadata": {},
   "source": [
    "# Default parameters\n",
    "\n",
    "The following parameters are defined as `const` in the code. When manually updating these\n",
    "be sure to restart the kernel and reload the module.\n",
    "\n",
    "## Viral load dynamics\n",
    "\n",
    "Onset time in days -- `0.38 * Onset to Peak Time`\n",
    "\n",
    "Onset to peak viral load time in days -- `Gamma(alpha_peak, 1/beta_peak)`\n",
    "\n",
    "Peak viral load to LOD time in days -- `Gamma(alpha_decay_symp, 1/beta_decay)`\n",
    "\n",
    "Peak viral load to LOD time in days -- `Gamma(alpha_decay_asymp, 1/beta_decay)` \n",
    "\n",
    "Peak viral load in log10 copies/ml -- `Normal(peakVL_mean,peakVL_sd)`\n",
    "\n",
    "Viral load LOD in log10 copies/ml -- `VL_LOD_Kissler`"
   ]
  },
  {
   "cell_type": "code",
   "execution_count": 8,
   "metadata": {},
   "outputs": [
    {
     "name": "stdout",
     "output_type": "stream",
     "text": [
      "(1.0499999999999998, 0.7)\n",
      "(2.4499999999999997, 0.7)\n",
      "(3.15, 0.3)\n",
      "(2.01, 0.3)\n",
      "(7.533, 1.164)\n",
      "2.66\n"
     ]
    }
   ],
   "source": [
    "print(\"(\", alpha_peak, \", \", beta_peak, \")\\n\")\n",
    "print(\"(\", alpha_decay_symp, \", \", beta_decay, \")\\n\")\n",
    "print(\"(\", alpha_decay_asymp, \", \", beta_decay, \")\\n\")\n",
    "print(\"(\", peakVL_mean,\", \", peakVL_sd, \")\\n\")\n",
    "print(VL_LOD_Kissler, \"\\n\")"
   ]
  },
  {
   "cell_type": "markdown",
   "metadata": {},
   "source": [
    "## Testing parameters\n",
    "\n",
    "Params for PCR positive vs. VL in log10 copies/ml -- `logistic_function(x, x0, k, ymax)`\n",
    "\n",
    "Params for LFD positive vs. VL in log10 copies/ml -- `stepwise probabilities relative to PCR -- see LFDtest_positive_prob1`\n",
    "\n",
    "For PCR:"
   ]
  },
  {
   "cell_type": "code",
   "execution_count": 8,
   "metadata": {},
   "outputs": [
    {
     "name": "stdout",
     "output_type": "stream",
     "text": [
      "(x0 = 1.9333030852994555, k = 4.408, ymax = 0.95)\n"
     ]
    }
   ],
   "source": [
    "print(\"(x0 = \", PCR_VL0, \", k = \", PCR_VLdisp, \", ymax = \", PCR_sens_max, \")\\n\")"
   ]
  },
  {
   "cell_type": "markdown",
   "metadata": {},
   "source": [
    "## Symptom onset characteristics\n",
    "\n",
    "`p_asymp` is the proportion of people who never develop symptoms\n",
    "\n",
    "symptom onset time is gamma distributed: `Gamma(symp_alpha, 1/symp_beta)` truncated to be within two days of peak viral load"
   ]
  },
  {
   "cell_type": "code",
   "execution_count": 9,
   "metadata": {},
   "outputs": [
    {
     "name": "stdout",
     "output_type": "stream",
     "text": [
      "0.5\n",
      "(3.4653254437869814, 0.7159763313609466)\n"
     ]
    }
   ],
   "source": [
    "print(p_asymp,\"\\n\")\n",
    "print(\"(\", symp_alpha, \", \", symp_beta, \")\\n\")"
   ]
  },
  {
   "cell_type": "markdown",
   "metadata": {},
   "source": [
    "# Other notes\n",
    "\n",
    "On first use, it may be necessary to uncomment the first 7 lines\n",
    "of code to install the required packages"
   ]
  }
 ],
 "metadata": {
  "kernelspec": {
   "display_name": "Julia 1.5.3",
   "language": "julia",
   "name": "julia-1.5"
  },
  "language_info": {
   "file_extension": ".jl",
   "mimetype": "application/julia",
   "name": "julia",
   "version": "1.5.3"
  }
 },
 "nbformat": 4,
 "nbformat_minor": 4
}
