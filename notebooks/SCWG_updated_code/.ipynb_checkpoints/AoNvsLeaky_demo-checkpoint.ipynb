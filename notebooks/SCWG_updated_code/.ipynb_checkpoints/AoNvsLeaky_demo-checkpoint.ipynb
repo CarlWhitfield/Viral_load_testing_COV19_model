{
 "cells": [
  {
   "cell_type": "code",
   "execution_count": 24,
   "metadata": {},
   "outputs": [
    {
     "name": "stderr",
     "output_type": "stream",
     "text": [
      "WARNING: redefinition of constant Kmvμ. This may fail, cause incorrect answers, or produce other errors.\n",
      "WARNING: redefinition of constant KmvΣ. This may fail, cause incorrect answers, or produce other errors.\n",
      "WARNING: redefinition of constant Log_VLparams_dist. This may fail, cause incorrect answers, or produce other errors.\n",
      "WARNING: redefinition of constant Kmvinfμ. This may fail, cause incorrect answers, or produce other errors.\n",
      "WARNING: redefinition of constant KmvinfΣ. This may fail, cause incorrect answers, or produce other errors.\n",
      "WARNING: redefinition of constant Log_infparams_dist. This may fail, cause incorrect answers, or produce other errors.\n",
      "WARNING: redefinition of constant VL_lims_2021. This may fail, cause incorrect answers, or produce other errors.\n",
      "WARNING: redefinition of constant LFD_relsens_2021. This may fail, cause incorrect answers, or produce other errors.\n",
      "WARNING: redefinition of constant VL_lims_Oct. This may fail, cause incorrect answers, or produce other errors.\n",
      "WARNING: redefinition of constant LFD_relsens_Oct. This may fail, cause incorrect answers, or produce other errors.\n",
      "WARNING: redefinition of constant scen_names. This may fail, cause incorrect answers, or produce other errors.\n"
     ]
    },
    {
     "data": {
      "text/plain": [
       "0.83"
      ]
     },
     "execution_count": 24,
     "metadata": {},
     "output_type": "execute_result"
    }
   ],
   "source": [
    "include(\"../../src/repeat_testing_scenarios.jl\")\n",
    "using DataFrames\n",
    "using StatsPlots\n",
    "using CSV\n",
    "\n",
    "#model options\n",
    "VL_model = kissler_model_no \n",
    "Inf_model = flat_inf_model_no\n",
    "onset_opt = PVT_model_opt\n",
    "peak_inf_opt = unif_peakinf_opt\n",
    "PCR_sens_max = 0.83 "
   ]
  },
  {
   "cell_type": "code",
   "execution_count": 20,
   "metadata": {},
   "outputs": [
    {
     "data": {
      "text/plain": [
       "10000"
      ]
     },
     "execution_count": 20,
     "metadata": {},
     "output_type": "execute_result"
    }
   ],
   "source": [
    "Ngen = 10000"
   ]
  },
  {
   "cell_type": "code",
   "execution_count": 21,
   "metadata": {},
   "outputs": [
    {
     "data": {
      "text/plain": [
       "Dict{String,Any} with 11 entries:\n",
       "  \"will_isolate\"       => Bool[0, 0, 0, 0, 0, 0, 0, 0, 0, 0  …  0, 0, 0, 0, 0, …\n",
       "  \"inf_mag\"            => [0.0, 0.0, 0.0, 0.0, 0.0, 0.0, 0.0, 0.0, 0.0, 0.0  … …\n",
       "  \"isolation_time\"     => [0, 0, 0, 0, 0, 0, 0, 0, 0, 0  …  0, 0, 0, 0, 0, 0, 0…\n",
       "  \"VL_mag\"             => [9.00497, 5.46118, 6.86189, 7.78343, 6.24448, 6.51052…\n",
       "  \"Ntot\"               => 10000\n",
       "  \"asymptomatic\"       => Bool[1, 1, 0, 1, 1, 1, 1, 1, 1, 1  …  0, 0, 0, 1, 0, …\n",
       "  \"non_isolators\"      => [1, 2, 3, 4, 5, 6, 7, 8, 9, 10  …  9991, 9992, 9993, …\n",
       "  \"infection_profiles\" => [[0.0, 0.50143, 0.423489], [0.0, 0.0, 0.0, 0.0, 0.0, …\n",
       "  \"VL_profiles\"        => [[-0.471075, 6.00927, 5.5015], [0.875566, 1.69447, 2.…\n",
       "  \"symp_day\"           => [2, 4, 5, 6, 2, 4, 5, 4, 3, 7  …  8, 3, 3, 6, 3, 4, 2…\n",
       "  \"days_infectious\"    => [0, 0, 0, 0, 0, 0, 0, 0, 0, 0  …  0, 0, 0, 0, 0, 0, 0…"
      ]
     },
     "execution_count": 21,
     "metadata": {},
     "output_type": "execute_result"
    }
   ],
   "source": [
    "sim_non_isol = init_VL_and_infectiousness(10000, 0.0)"
   ]
  },
  {
   "cell_type": "code",
   "execution_count": 22,
   "metadata": {},
   "outputs": [
    {
     "data": {
      "text/plain": [
       "Dict{String,Any} with 2 entries:\n",
       "  \"protocol\"         => 2\n",
       "  \"testing_enforced\" => false"
      ]
     },
     "execution_count": 22,
     "metadata": {},
     "output_type": "execute_result"
    }
   ],
   "source": [
    "basic_testing_params = Dict{String,Any}(\"protocol\"=>LFD_mass_protocol, \"testing_enforced\"=>false)"
   ]
  },
  {
   "cell_type": "code",
   "execution_count": 25,
   "metadata": {},
   "outputs": [
    {
     "ename": "LoadError",
     "evalue": "\u001b[91mUndefVarError: test_days not defined\u001b[39m",
     "output_type": "error",
     "traceback": [
      "\u001b[91mUndefVarError: test_days not defined\u001b[39m",
      "",
      "Stacktrace:",
      " [1] init_testing!(::Dict{String,Any}, ::Dict{String,Any}, ::Int64, ::Int64; fill_pos_profiles::Bool, different_start::Bool) at /Users/carlwhitfield/Documents/Github/Viral_load_testing_COV19_model/src/testing_models.jl:230",
      " [2] top-level scope at ./In[25]:14",
      " [3] include_string(::Function, ::Module, ::String, ::String) at ./loading.jl:1091"
     ]
    }
   ],
   "source": [
    "adherence = collect(0.1:0.1:1.0)\n",
    "tperiod = collect(1:14)\n",
    "sim_aon = copy(sim_non_isol)\n",
    "sim_leaky = copy(sim_non_isol)\n",
    "\n",
    "sim_aon_summary = Array{Dict,2}(undef, length(tperiod), length(adherence))\n",
    "sim_leaky_summary = Array{Dict,2}(undef, length(tperiod), length(adherence))\n",
    "for (i,t) in enumerate(tperiod)\n",
    "    for (j,a) in enumerate(adherence)\n",
    "        tparams_aon = copy(basic_testing_params)\n",
    "        tparams_aon[\"policy_adherence\"] = a\n",
    "        tparams_aon[\"test_miss_prob\"] = 0.0\n",
    "        tparams_aon[\"tperiod\"] = t\n",
    "        sim_aon[\"test_days\"], tdc = init_testing!(sim_aon, tparams_aon, 1, 30;\n",
    "                                  fill_pos_profiles=true, different_start=true)\n",
    "        sim_aon[\"inf_profile_isolation\"] = copy.(sim_aon[\"infection_profiles\"])\n",
    "        sim_aon[\"test_pos_prob\"] = get_test_probs.(sim_aon[\"VL_profiles\"], sim_aon[\"test_days\"], \n",
    "                  sim_aon[\"test_types\"]; Do_LFD_test_prob = 1 - testing_params_aon[\"test_miss_prob\"]) \n",
    "        sim_aon[\"isol_days\"] = run_testing_scenario!.(sim_aon[\"inf_profile_isolation\"],\n",
    "            sim_aon[\"infection_profiles\"],  sim_aon[\"test_pos_prob\"], sim_aon[\"test_days\"], \n",
    "            sim_aon[\"symp_day\"] .+ 1, sim_aon[\"will_isolate\"], sim_aon[\"VL_profiles\"], \n",
    "            sim_aon[\"conf_PCR\"])\n",
    "        \n",
    "        tparams_leaky = copy(basic_testing_params)\n",
    "        tparams_leaky[\"policy_adherence\"] = 1.0\n",
    "        tparams_leaky[\"test_miss_prob\"] = 1-a\n",
    "        tparams_leaky[\"tperiod\"] = t\n",
    "        sim_leaky[\"test_days\"], tdc = init_testing!(sim_leaky, tparams_leaky, 1, 30;\n",
    "                                        fill_pos_profiles=true, different_start=true)\n",
    "        sim_leaky[\"inf_profile_isolation\"] = copy.(sim_leaky[\"infection_profiles\"])\n",
    "        sim_leaky[\"test_pos_prob\"] = get_test_probs.(sim_leaky[\"VL_profiles\"], sim_leaky[\"test_days\"], \n",
    "                  sim_leaky[\"test_types\"]; Do_LFD_test_prob = 1 - testing_params_leaky[\"test_miss_prob\"]) \n",
    "        sim_leaky[\"isol_days\"] = run_testing_scenario!.(sim_leaky[\"inf_profile_isolation\"],\n",
    "            sim_leaky[\"infection_profiles\"],  sim_leaky[\"test_pos_prob\"], sim_leaky[\"test_days\"], \n",
    "            sim_leaky[\"symp_day\"] .+ 1, sim_leaky[\"will_isolate\"], sim_leaky[\"VL_profiles\"], \n",
    "            sim_leaky[\"conf_PCR\"])\n",
    "        \n",
    "        sim_aon_summary[i,j] = sim_aon\n",
    "        sim_leaky_summary[i,j] = sim_leaky\n",
    "    end\n",
    "end\n",
    "        "
   ]
  },
  {
   "cell_type": "code",
   "execution_count": null,
   "metadata": {},
   "outputs": [],
   "source": []
  },
  {
   "cell_type": "code",
   "execution_count": null,
   "metadata": {},
   "outputs": [],
   "source": []
  }
 ],
 "metadata": {
  "kernelspec": {
   "display_name": "Julia 1.5.3",
   "language": "julia",
   "name": "julia-1.5"
  },
  "language_info": {
   "file_extension": ".jl",
   "mimetype": "application/julia",
   "name": "julia",
   "version": "1.5.3"
  }
 },
 "nbformat": 4,
 "nbformat_minor": 4
}
