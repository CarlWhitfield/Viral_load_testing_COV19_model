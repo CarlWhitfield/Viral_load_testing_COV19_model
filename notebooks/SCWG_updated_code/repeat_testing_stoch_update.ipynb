{
 "cells": [
  {
   "cell_type": "code",
   "execution_count": 1,
   "metadata": {},
   "outputs": [
    {
     "data": {
      "text/plain": [
       "0.83"
      ]
     },
     "execution_count": 1,
     "metadata": {},
     "output_type": "execute_result"
    }
   ],
   "source": [
    "include(\"../../src/repeat_testing_scenarios.jl\")\n",
    "using DataFrames\n",
    "using StatsPlots\n",
    "using CSV\n",
    "\n",
    "#model options\n",
    "VL_model = kissler_model_no \n",
    "Inf_model = flat_inf_model_no\n",
    "onset_opt = PVT_model_opt\n",
    "peak_inf_opt = unif_peakinf_opt\n",
    "PCR_sens_max = 0.83 "
   ]
  },
  {
   "cell_type": "code",
   "execution_count": 2,
   "metadata": {},
   "outputs": [
    {
     "data": {
      "text/plain": [
       "5-element Array{Float64,1}:\n",
       " 0.5333333333333333\n",
       " 0.8\n",
       " 1.0666666666666667\n",
       " 1.3333333333333333\n",
       " 1.6"
      ]
     },
     "execution_count": 2,
     "metadata": {},
     "output_type": "execute_result"
    }
   ],
   "source": [
    "Ntot = 100000\n",
    "Nscens = length(scen_names)\n",
    "Adhs = collect(0.1:0.1:1.0)\n",
    "Nadhs = length(Adhs)\n",
    "Confs = [true, false]\n",
    "Nconfs = 2\n",
    "TATorig = mean(PCRTATdist)\n",
    "TATscales = [24.0, 36.0, 48.0, 60.0, 72.0] ./ TATorig"
   ]
  },
  {
   "cell_type": "code",
   "execution_count": 3,
   "metadata": {},
   "outputs": [
    {
     "data": {
      "text/plain": [
       "\"Psymp50_Pisol100_PCRmax83.csv\""
      ]
     },
     "execution_count": 3,
     "metadata": {},
     "output_type": "execute_result"
    }
   ],
   "source": [
    "LFD_model = SC_data_2021\n",
    "sim_baseline = get_no_testing_scenario(Ntot, 1.0)\n",
    "start = true\n",
    "df = []\n",
    "for c in Confs\n",
    "    for a in Adhs\n",
    "        PCR_TaT_scale = 1.0\n",
    "        scenarios, names = run_testing_scenarios_vs_baseline(sim_baseline, a, c)\n",
    "        dfh = DataFrame(Scenario=repeat(names,Ntot),InfDays=zeros(Nscens*Ntot),\n",
    "                    InfPot=zeros(Nscens*Ntot),IsolDays=zeros(Nscens*Ntot),\n",
    "                    ConfPCR=fill(c,Nscens*Ntot),Adherence=fill(a,Nscens*Ntot),\n",
    "                    MeanTaT=fill(TATorig,Nscens*Ntot))\n",
    "        for i in 1:Ntot\n",
    "            for j in 1:Nscens\n",
    "                dfh[\"InfDays\"][Nscens*(i-1)+j] = scenarios[j][\"inf_days\"][i]\n",
    "                dfh[\"InfPot\"][Nscens*(i-1)+j] = sum(scenarios[j][\"inf_profile_isolation\"][i])\n",
    "                dfh[\"IsolDays\"][Nscens*(i-1)+j] = scenarios[j][\"isol_days\"][i]\n",
    "            end\n",
    "        end\n",
    "        if start\n",
    "            df = dfh\n",
    "        else\n",
    "            df = vcat(df,dfh)\n",
    "        end\n",
    "        start = false\n",
    "    end\n",
    "    \n",
    "    for ts in TATscales\n",
    "        PCR_TaT_scale = ts\n",
    "        scenarios, names = run_testing_scenarios_vs_baseline(sim_baseline, 0.7, c)\n",
    "        dfh = DataFrame(Scenario=repeat(names,Ntot),InfDays=zeros(Nscens*Ntot),\n",
    "                    InfPot=zeros(Nscens*Ntot),IsolDays=zeros(Nscens*Ntot),\n",
    "                    ConfPCR=fill(c,Nscens*Ntot),Adherence=fill(0.7,Nscens*Ntot),\n",
    "                    MeanTaT=fill(TATorig*ts,Nscens*Ntot))\n",
    "        for i in 1:Ntot\n",
    "            for j in 1:Nscens\n",
    "                dfh[\"InfDays\"][Nscens*(i-1)+j] = scenarios[j][\"inf_days\"][i]\n",
    "                dfh[\"InfPot\"][Nscens*(i-1)+j] = sum(scenarios[j][\"inf_profile_isolation\"][i])\n",
    "                dfh[\"IsolDays\"][Nscens*(i-1)+j] = scenarios[j][\"isol_days\"][i]\n",
    "            end\n",
    "        end\n",
    "        if start\n",
    "            df = dfh\n",
    "        else\n",
    "            df = vcat(df,dfh)\n",
    "        end\n",
    "    end\n",
    "    PCR_TaT_scale = 1.0\n",
    "end\n",
    "CSV.write(\"Psymp50_Pisol100_PCRmax83.csv\",df)"
   ]
  },
  {
   "cell_type": "code",
   "execution_count": 6,
   "metadata": {},
   "outputs": [
    {
     "data": {
      "text/plain": [
       "\"Psymp50_Pisol100_PCRmax83_AoNcomply.csv\""
      ]
     },
     "execution_count": 6,
     "metadata": {},
     "output_type": "execute_result"
    }
   ],
   "source": [
    "LFD_model = SC_data_2021\n",
    "sim_baseline = get_no_testing_scenario(Ntot, 1.0)\n",
    "start = true\n",
    "df = []\n",
    "for c in Confs\n",
    "    for a in Adhs\n",
    "        PCR_TaT_scale = 1.0\n",
    "        scenarios, names = run_testing_scenarios_vs_baseline(sim_baseline, a, c;\n",
    "                                  LFD_AllorNone = true)\n",
    "        dfh = DataFrame(Scenario=repeat(names,Ntot),InfDays=zeros(Nscens*Ntot),\n",
    "                    InfPot=zeros(Nscens*Ntot),IsolDays=zeros(Nscens*Ntot),\n",
    "                    ConfPCR=fill(c,Nscens*Ntot),Adherence=fill(a,Nscens*Ntot),\n",
    "                    MeanTaT=fill(TATorig,Nscens*Ntot))\n",
    "        for i in 1:Ntot\n",
    "            for j in 1:Nscens\n",
    "                dfh[\"InfDays\"][Nscens*(i-1)+j] = scenarios[j][\"inf_days\"][i]\n",
    "                dfh[\"InfPot\"][Nscens*(i-1)+j] = sum(scenarios[j][\"inf_profile_isolation\"][i])\n",
    "                dfh[\"IsolDays\"][Nscens*(i-1)+j] = scenarios[j][\"isol_days\"][i]\n",
    "            end\n",
    "        end\n",
    "        if start\n",
    "            df = dfh\n",
    "        else\n",
    "            df = vcat(df,dfh)\n",
    "        end\n",
    "        start = false\n",
    "    end\n",
    "    \n",
    "    for ts in TATscales\n",
    "        PCR_TaT_scale = ts\n",
    "        scenarios, names = run_testing_scenarios_vs_baseline(sim_baseline, 0.7, c;\n",
    "                                                             LFD_AllorNone = true)\n",
    "        dfh = DataFrame(Scenario=repeat(names,Ntot),InfDays=zeros(Nscens*Ntot),\n",
    "                    InfPot=zeros(Nscens*Ntot),IsolDays=zeros(Nscens*Ntot),\n",
    "                    ConfPCR=fill(c,Nscens*Ntot),Adherence=fill(0.7,Nscens*Ntot),\n",
    "                    MeanTaT=fill(TATorig*ts,Nscens*Ntot))\n",
    "        for i in 1:Ntot\n",
    "            for j in 1:Nscens\n",
    "                dfh[\"InfDays\"][Nscens*(i-1)+j] = scenarios[j][\"inf_days\"][i]\n",
    "                dfh[\"InfPot\"][Nscens*(i-1)+j] = sum(scenarios[j][\"inf_profile_isolation\"][i])\n",
    "                dfh[\"IsolDays\"][Nscens*(i-1)+j] = scenarios[j][\"isol_days\"][i]\n",
    "            end\n",
    "        end\n",
    "        if start\n",
    "            df = dfh\n",
    "        else\n",
    "            df = vcat(df,dfh)\n",
    "        end\n",
    "    end\n",
    "    PCR_TaT_scale = 1.0\n",
    "end\n",
    "CSV.write(\"Psymp50_Pisol100_PCRmax83_AoNcomply.csv\",df)"
   ]
  },
  {
   "cell_type": "code",
   "execution_count": 4,
   "metadata": {},
   "outputs": [
    {
     "data": {
      "text/plain": [
       "\"Psymp50_Pisol100_PCRmax83_lowsens.csv\""
      ]
     },
     "execution_count": 4,
     "metadata": {},
     "output_type": "execute_result"
    }
   ],
   "source": [
    "LFD_model = SC_data_Oct\n",
    "\n",
    "sim_baseline = get_no_testing_scenario(Ntot, 1.0)\n",
    "start = true\n",
    "df = []\n",
    "for c in Confs\n",
    "    for a in Adhs\n",
    "        PCR_TaT_scale = 1.0\n",
    "        scenarios, names = run_testing_scenarios_vs_baseline(sim_baseline, a, c)\n",
    "        dfh = DataFrame(Scenario=repeat(names,Ntot),InfDays=zeros(Nscens*Ntot),\n",
    "                    InfPot=zeros(Nscens*Ntot),IsolDays=zeros(Nscens*Ntot),\n",
    "                    ConfPCR=fill(c,Nscens*Ntot),Adherence=fill(a,Nscens*Ntot),\n",
    "                    MeanTaT=fill(TATorig,Nscens*Ntot))\n",
    "        for i in 1:Ntot\n",
    "            for j in 1:Nscens\n",
    "                dfh[\"InfDays\"][Nscens*(i-1)+j] = scenarios[j][\"inf_days\"][i]\n",
    "                dfh[\"InfPot\"][Nscens*(i-1)+j] = sum(scenarios[j][\"inf_profile_isolation\"][i])\n",
    "                dfh[\"IsolDays\"][Nscens*(i-1)+j] = scenarios[j][\"isol_days\"][i]\n",
    "            end\n",
    "        end\n",
    "        if start\n",
    "            df = dfh\n",
    "        else\n",
    "            df = vcat(df,dfh)\n",
    "        end\n",
    "        start = false\n",
    "    end\n",
    "    \n",
    "    for ts in TATscales\n",
    "        PCR_TaT_scale = ts\n",
    "        scenarios, names = run_testing_scenarios_vs_baseline(sim_baseline, 0.7, c)\n",
    "        dfh = DataFrame(Scenario=repeat(names,Ntot),InfDays=zeros(Nscens*Ntot),\n",
    "                    InfPot=zeros(Nscens*Ntot),IsolDays=zeros(Nscens*Ntot),\n",
    "                    ConfPCR=fill(c,Nscens*Ntot),Adherence=fill(0.7,Nscens*Ntot),\n",
    "                    MeanTaT=fill(TATorig*ts,Nscens*Ntot))\n",
    "        for i in 1:Ntot\n",
    "            for j in 1:Nscens\n",
    "                dfh[\"InfDays\"][Nscens*(i-1)+j] = scenarios[j][\"inf_days\"][i]\n",
    "                dfh[\"InfPot\"][Nscens*(i-1)+j] = sum(scenarios[j][\"inf_profile_isolation\"][i])\n",
    "                dfh[\"IsolDays\"][Nscens*(i-1)+j] = scenarios[j][\"isol_days\"][i]\n",
    "            end\n",
    "        end\n",
    "        if start\n",
    "            df = dfh\n",
    "        else\n",
    "            df = vcat(df,dfh)\n",
    "        end\n",
    "    end\n",
    "    PCR_TaT_scale = 1.0\n",
    "end\n",
    "CSV.write(\"Psymp50_Pisol100_PCRmax83_lowsens.csv\",df)"
   ]
  },
  {
   "cell_type": "code",
   "execution_count": 5,
   "metadata": {},
   "outputs": [
    {
     "data": {
      "text/plain": [
       "\"Psymp50_Pisol100_PCRmax83_AoNcomply_lowsens.csv\""
      ]
     },
     "execution_count": 5,
     "metadata": {},
     "output_type": "execute_result"
    }
   ],
   "source": [
    "LFD_model = SC_data_Oct\n",
    "sim_baseline = get_no_testing_scenario(Ntot, 1.0)\n",
    "start = true\n",
    "df = []\n",
    "for c in Confs\n",
    "    for a in Adhs\n",
    "        PCR_TaT_scale = 1.0\n",
    "        scenarios, names = run_testing_scenarios_vs_baseline(sim_baseline, a, c;\n",
    "                                  LFD_AllorNone = true)\n",
    "        dfh = DataFrame(Scenario=repeat(names,Ntot),InfDays=zeros(Nscens*Ntot),\n",
    "                    InfPot=zeros(Nscens*Ntot),IsolDays=zeros(Nscens*Ntot),\n",
    "                    ConfPCR=fill(c,Nscens*Ntot),Adherence=fill(a,Nscens*Ntot),\n",
    "                    MeanTaT=fill(TATorig,Nscens*Ntot))\n",
    "        for i in 1:Ntot\n",
    "            for j in 1:Nscens\n",
    "                dfh[\"InfDays\"][Nscens*(i-1)+j] = scenarios[j][\"inf_days\"][i]\n",
    "                dfh[\"InfPot\"][Nscens*(i-1)+j] = sum(scenarios[j][\"inf_profile_isolation\"][i])\n",
    "                dfh[\"IsolDays\"][Nscens*(i-1)+j] = scenarios[j][\"isol_days\"][i]\n",
    "            end\n",
    "        end\n",
    "        if start\n",
    "            df = dfh\n",
    "        else\n",
    "            df = vcat(df,dfh)\n",
    "        end\n",
    "        start = false\n",
    "    end\n",
    "    \n",
    "    for ts in TATscales\n",
    "        PCR_TaT_scale = ts\n",
    "        scenarios, names = run_testing_scenarios_vs_baseline(sim_baseline, 0.7, c;\n",
    "                                                             LFD_AllorNone = true)\n",
    "        dfh = DataFrame(Scenario=repeat(names,Ntot),InfDays=zeros(Nscens*Ntot),\n",
    "                    InfPot=zeros(Nscens*Ntot),IsolDays=zeros(Nscens*Ntot),\n",
    "                    ConfPCR=fill(c,Nscens*Ntot),Adherence=fill(0.7,Nscens*Ntot),\n",
    "                    MeanTaT=fill(TATorig*ts,Nscens*Ntot))\n",
    "        for i in 1:Ntot\n",
    "            for j in 1:Nscens\n",
    "                dfh[\"InfDays\"][Nscens*(i-1)+j] = scenarios[j][\"inf_days\"][i]\n",
    "                dfh[\"InfPot\"][Nscens*(i-1)+j] = sum(scenarios[j][\"inf_profile_isolation\"][i])\n",
    "                dfh[\"IsolDays\"][Nscens*(i-1)+j] = scenarios[j][\"isol_days\"][i]\n",
    "            end\n",
    "        end\n",
    "        if start\n",
    "            df = dfh\n",
    "        else\n",
    "            df = vcat(df,dfh)\n",
    "        end\n",
    "    end\n",
    "    PCR_TaT_scale = 1.0\n",
    "end\n",
    "CSV.write(\"Psymp50_Pisol100_PCRmax83_AoNcomply_lowsens.csv\",df)"
   ]
  },
  {
   "cell_type": "code",
   "execution_count": 3,
   "metadata": {},
   "outputs": [],
   "source": [
    "print(PCR_VL0,'\\n',PCR_VLdisp,'\\n')"
   ]
  },
  {
   "cell_type": "code",
   "execution_count": 9,
   "metadata": {},
   "outputs": [],
   "source": [
    "PCR_TaT_scale = 1.0\n",
    "scenarios, names = run_testing_scenarios_vs_baseline(sim_baseline, 0.7, false)\n",
    "inf_len = max(length.(scenarios[Nscens][\"infection_profiles\"])...)\n",
    "VL_len = max(length.(scenarios[Nscens][\"VL_profiles\"])...)\n",
    "all_infs = zeros(Float64,(Ntot,inf_len))\n",
    "all_symp_infs = zeros(Float64,(Ntot,inf_len))\n",
    "all_sQ_infs = zeros(Float64,(Ntot,inf_len))\n",
    "all_2LFD_infs = zeros(Float64,(Ntot,inf_len))\n",
    "all_DailyLFD_infs = zeros(Float64,(Ntot,inf_len))\n",
    "all_PCR = zeros(Float64,(Ntot,VL_len))\n",
    "all_LFD = zeros(Float64,(Ntot,VL_len))\n",
    "all_LFD2 = zeros(Float64,(Ntot,VL_len))\n",
    "for i in 1:Ntot\n",
    "    all_infs[i,1:length(scenarios[Nscens][\"infection_profiles\"][i])] = \n",
    "                      scenarios[Nscens][\"infection_profiles\"][i]\n",
    "    all_symp_infs[i,1:length(scenarios[Nscens][\"inf_profile_isolation\"][i])] = \n",
    "                      scenarios[Nscens][\"inf_profile_isolation\"][i]\n",
    "    all_sQ_infs[i,1:length(scenarios[1][\"inf_profile_isolation\"][i])] = \n",
    "                      scenarios[1][\"inf_profile_isolation\"][i]\n",
    "    all_2LFD_infs[i,1:length(scenarios[5][\"inf_profile_isolation\"][i])] = \n",
    "                      scenarios[5][\"inf_profile_isolation\"][i]\n",
    "    all_DailyLFD_infs[i,1:length(scenarios[6][\"inf_profile_isolation\"][i])] = \n",
    "                      scenarios[6][\"inf_profile_isolation\"][i]\n",
    "    all_PCR[i,1:length(scenarios[Nscens][\"VL_profiles\"][i])] = \n",
    "                      PCRtest_positive_prob.(scenarios[Nscens-1][\"VL_profiles\"][i])\n",
    "    all_LFD[i,1:length(scenarios[Nscens][\"VL_profiles\"][i])] = \n",
    "                      LFDtest_positive_prob.(scenarios[7][\"VL_profiles\"][i])\n",
    "end"
   ]
  },
  {
   "cell_type": "code",
   "execution_count": 45,
   "metadata": {},
   "outputs": [],
   "source": [
    "plot(0:(inf_len-1),transpose(mean(all_infs,dims=1)),linewidth=2,label=\"Infectiousness\")\n",
    "plot!(0:(inf_len-1),transpose(mean(all_symp_infs,dims=1)),linewidth=2,label=\"With Symp. Isol\")\n",
    "plot!(0:(inf_len-1),transpose(mean(all_2LFD_infs,dims=1)),linewidth=2, label=\"2 LFDs only\", xlim=(0,30),ylim=(0,0.5))\n",
    "plot!(0:(inf_len-1),transpose(mean(all_sQ_infs,dims=1)),linewidth=2, label=\"2 LFDs + 1 PCR\")\n",
    "plot!(0:(inf_len-1),transpose(mean(all_DailyLFD_infs,dims=1)), linewidth=2,label=\"Daily LFDs only\", \n",
    "    xlim=(0,30),ylim=(0,0.5),size=(500,300),\n",
    "    xlabel=\"Days since infection\",ylabel=\"Mean infectiousness (a.u.)\", leftmargin=5Plots.mm, \n",
    "    bottommargin=5Plots.mm)\n",
    "\n",
    "savefig(\"Infectiousness_time.png\")"
   ]
  },
  {
   "cell_type": "code",
   "execution_count": 44,
   "metadata": {},
   "outputs": [],
   "source": [
    "plot(0:(VL_len-1),transpose(mean(all_PCR,dims=1)),label=\"PCR\",linewidth=2)\n",
    "plot!(0:(VL_len-1),transpose(mean(all_LFD,dims=1)),label=\"LFD\",\n",
    "    xlim=(0,30),ylim=(0,1),linewidth=2,size=(400,250),\n",
    "    xlabel=\"Days since infection\",ylabel=\"Mean test positive probability\",\n",
    "    leftmargin=5Plots.mm, bottommargin=5Plots.mm)\n",
    "savefig(\"Testpos_time.png\")"
   ]
  },
  {
   "cell_type": "code",
   "execution_count": 47,
   "metadata": {},
   "outputs": [],
   "source": [
    "x = 0:0.1:12\n",
    "y1 = PCRtest_positive_prob.(x)\n",
    "y2 = LFDtest_positive_prob.(x)\n",
    "plot(x,y1,label=\"PCR\",linewidth=2)\n",
    "plot!(x,y2,label=\"LFD\",linewidth=2, size=(400,250),xlabel=\"Viral load (log10 copies/ml)\",\n",
    "    ylabel=\"Test postive probability\", leftmargin=5Plots.mm, bottommargin=5Plots.mm,legend=:bottomright)\n",
    "savefig(\"Testpos.png\")"
   ]
  },
  {
   "cell_type": "code",
   "execution_count": 46,
   "metadata": {},
   "outputs": [],
   "source": [
    "x = 0:1.0:144\n",
    "y = pdf(Gamma(6.75,20/3),x)\n",
    "plot(x,y,color=:black,linewidth=3, label=\"Original (45h)\")\n",
    "\n",
    "PCR_TaT_scale = TATscales[1]\n",
    "y = pdf(Gamma(6.75,TATscales[1]*20/3),x)\n",
    "plot!(x,y,color=:green,style=:dashdot,linewidth=2,label=\"24h mean delay\")\n",
    "PCR_TaT_scale = TATscales[5]\n",
    "y = pdf(Gamma(6.75,TATscales[5]*20/3),x)\n",
    "plot!(x,y,xlim=(0,144),color=:red,style=:dot,linewidth=2,label=\"72h mean delay\",\n",
    "    size=(400,250),xlabel=\"PCR turnaround time\",ylabel=\"Probability density\",\n",
    "    leftmargin=5Plots.mm, bottommargin=5Plots.mm)\n",
    "savefig(\"PCRturnaround.png\")"
   ]
  },
  {
   "cell_type": "code",
   "execution_count": null,
   "metadata": {},
   "outputs": [],
   "source": []
  }
 ],
 "metadata": {
  "kernelspec": {
   "display_name": "Julia 1.5.3",
   "language": "julia",
   "name": "julia-1.5"
  },
  "language_info": {
   "file_extension": ".jl",
   "mimetype": "application/julia",
   "name": "julia",
   "version": "1.5.3"
  }
 },
 "nbformat": 4,
 "nbformat_minor": 4
}
